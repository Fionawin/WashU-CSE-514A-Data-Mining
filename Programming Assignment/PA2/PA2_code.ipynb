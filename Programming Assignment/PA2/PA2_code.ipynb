{
 "cells": [
  {
   "cell_type": "code",
   "execution_count": 40,
   "id": "05843c49",
   "metadata": {},
   "outputs": [],
   "source": [
    "import numpy as np\n",
    "import pandas as pd\n",
    "import time\n",
    "import matplotlib.pyplot as plt\n",
    "\n",
    "from sklearn.model_selection import train_test_split\n",
    "from sklearn.model_selection import KFold\n",
    "from sklearn.model_selection import StratifiedKFold\n",
    "from sklearn.model_selection import cross_val_score\n",
    "\n",
    "from sklearn.pipeline import make_pipeline\n",
    "from sklearn.preprocessing import StandardScaler\n",
    "\n",
    "from sklearn.tree import DecisionTreeClassifier\n",
    "from sklearn.ensemble import RandomForestClassifier\n",
    "from sklearn.svm import SVC\n",
    "from sklearn.neighbors import KNeighborsClassifier\n",
    "\n",
    "from sklearn.decomposition import PCA"
   ]
  },
  {
   "cell_type": "code",
   "execution_count": 23,
   "id": "27b29468",
   "metadata": {},
   "outputs": [],
   "source": [
    "letter_recognition = pd.read_csv(\"letter-recognition.data\")\n",
    "letter_recognition = letter_recognition.values"
   ]
  },
  {
   "cell_type": "code",
   "execution_count": 24,
   "id": "1079ede0",
   "metadata": {},
   "outputs": [],
   "source": [
    "H = letter_recognition[np.where(letter_recognition[:, 0] == 'H')]\n",
    "K = letter_recognition[np.where(letter_recognition[:, 0] == 'K')]\n",
    "# print(H.shape)\n",
    "# print(K.shape)\n",
    "Pair_1 = np.concatenate((H,K))\n",
    "# print(Pair_1.shape)"
   ]
  },
  {
   "cell_type": "code",
   "execution_count": 36,
   "id": "d5ecbb8b",
   "metadata": {},
   "outputs": [
    {
     "name": "stdout",
     "output_type": "stream",
     "text": [
      "[(8, 14.061078595529672), (2, 11.020182704844741), (9, 4.981988994939016), (3, 4.86991509077861), (15, 4.843402102290178), (4, 4.803382357888849), (5, 4.779304696577287), (1, 3.6110223903538246), (11, 3.521975325029081), (6, 3.264439015194985), (16, 2.5557357623924353), (10, 2.5488455009819386), (12, 2.5476471946496306), (13, 2.102351030935212), (7, 1.0869523336785107), (14, 1.0191853452666144)]\n",
      "20.259246397612046\n"
     ]
    }
   ],
   "source": [
    "variance_feature_16 = {}\n",
    "for i in range(1,17):\n",
    "    variance_feature_16.update({i: np.var(Pair_1[:,i])})\n",
    "variance_feature_16 = sorted(variance_feature_16.items(), key=lambda x: x[1], reverse=True)\n",
    "print(variance_feature_16)\n",
    "# print(type(variance_feature_16))\n",
    "print(np.var(variance_feature_16))"
   ]
  },
  {
   "cell_type": "code",
   "execution_count": 26,
   "id": "f521c4cf",
   "metadata": {},
   "outputs": [],
   "source": [
    "M = letter_recognition[np.where(letter_recognition[:, 0] == 'M')]\n",
    "Y = letter_recognition[np.where(letter_recognition[:, 0] == 'Y')]\n",
    "Pair_2 = np.concatenate((M,Y))\n",
    "#print(Pair_2.shape)"
   ]
  },
  {
   "cell_type": "code",
   "execution_count": 37,
   "id": "be2bea9b",
   "metadata": {},
   "outputs": [
    {
     "name": "stdout",
     "output_type": "stream",
     "text": [
      "[(13, 12.236742615911615), (2, 10.679228893483115), (8, 10.104733816208514), (5, 7.909484579636703), (11, 7.3278009898460725), (14, 6.99459978056972), (4, 6.257578860793441), (15, 5.4415594012090445), (3, 5.017445194619876), (7, 4.8355015332816205), (9, 4.468304282104542), (1, 4.433450437816422), (6, 3.9887975666684956), (10, 3.915701237387994), (16, 2.78083630913654), (12, 2.0455293877636143)]\n",
      "15.926576680764768\n"
     ]
    }
   ],
   "source": [
    "variance_feature_16 = {}\n",
    "for i in range(1,17):\n",
    "    variance_feature_16.update({i: np.var(Pair_2[:,i])})\n",
    "variance_feature_16 = sorted(variance_feature_16.items(), key=lambda x: x[1], reverse=True)\n",
    "print(variance_feature_16)\n",
    "print(np.var(variance_feature_16))"
   ]
  },
  {
   "cell_type": "code",
   "execution_count": 28,
   "id": "40fa0143",
   "metadata": {},
   "outputs": [],
   "source": [
    "F = letter_recognition[np.where(letter_recognition[:, 0] == 'F')]\n",
    "X = letter_recognition[np.where(letter_recognition[:, 0] == 'X')]\n",
    "Pair_3 = np.concatenate((F,X))\n",
    "# print(Pair_3.shape)"
   ]
  },
  {
   "cell_type": "code",
   "execution_count": 38,
   "id": "e8d1225d",
   "metadata": {},
   "outputs": [
    {
     "name": "stdout",
     "output_type": "stream",
     "text": [
      "[(2, 10.846988987820545), (10, 5.891470520246411), (6, 5.458850647828246), (4, 4.710581906056309), (7, 4.665608129044246), (15, 4.535841225914389), (11, 4.314875869112933), (3, 3.8767052319737747), (5, 3.766999857367889), (9, 3.588374092769843), (1, 3.016260465833061), (12, 2.7648046350504525), (13, 2.101598298907684), (16, 1.8518970885023918), (8, 1.7793760584693135), (14, 1.2326070847152473)]\n",
      "18.05136977768701\n"
     ]
    }
   ],
   "source": [
    "variance_feature_16 = {}\n",
    "for i in range(1,17):\n",
    "    variance_feature_16.update({i: np.var(Pair_3[:,i])})\n",
    "variance_feature_16 = sorted(variance_feature_16.items(), key=lambda x: x[1], reverse=True)\n",
    "print(variance_feature_16)\n",
    "print(np.var(variance_feature_16))"
   ]
  },
  {
   "cell_type": "code",
   "execution_count": null,
   "id": "253a717a",
   "metadata": {},
   "outputs": [],
   "source": []
  },
  {
   "cell_type": "markdown",
   "id": "7b85d963",
   "metadata": {},
   "source": [
    "# Pair 1: H and K"
   ]
  },
  {
   "cell_type": "code",
   "execution_count": 58,
   "id": "a5023019",
   "metadata": {},
   "outputs": [],
   "source": [
    "letter_recognition = pd.read_csv(\"letter-recognition.data\")\n",
    "letter_recognition = letter_recognition.values"
   ]
  },
  {
   "cell_type": "code",
   "execution_count": 59,
   "id": "573ad59c",
   "metadata": {},
   "outputs": [],
   "source": [
    "H = letter_recognition[np.where(letter_recognition[:, 0] == 'H')]\n",
    "K = letter_recognition[np.where(letter_recognition[:, 0] == 'K')]\n",
    "# print(H.shape)\n",
    "# print(K.shape)\n",
    "Pair_1 = np.concatenate((H,K))\n",
    "# print(Pair_1.shape)"
   ]
  },
  {
   "cell_type": "code",
   "execution_count": 60,
   "id": "354b39c5",
   "metadata": {},
   "outputs": [],
   "source": [
    "X_train, X_val, y_train, y_val = train_test_split(Pair_1[:,1:], Pair_1[:,0], test_size=0.1, random_state=0)\n",
    "# print(X_train.shape)\n",
    "# print(X_val.shape)\n",
    "# print(y_train.shape)\n",
    "# print(y_val.shape)"
   ]
  },
  {
   "cell_type": "markdown",
   "id": "735f3873",
   "metadata": {},
   "source": [
    "## Method 1: KNN"
   ]
  },
  {
   "cell_type": "code",
   "execution_count": 5,
   "id": "fdd2e62d",
   "metadata": {},
   "outputs": [
    {
     "name": "stdout",
     "output_type": "stream",
     "text": [
      "Index: 1, Time: 0.09399843215942383s, N_Neighbors: 1, Accuracy: [0.96226415 0.95471698 0.9509434  0.96603774 0.96981132], Mean: 0.9607547169811321\n",
      "Index: 2, Time: 0.20399928092956543s, N_Neighbors: 3, Accuracy: [0.9509434  0.93584906 0.96603774 0.9509434  0.95849057], Mean: 0.9524528301886793\n",
      "Index: 3, Time: 0.30198192596435547s, N_Neighbors: 5, Accuracy: [0.93962264 0.93207547 0.96603774 0.96226415 0.96603774], Mean: 0.9532075471698114\n",
      "Index: 4, Time: 0.4077324867248535s, N_Neighbors: 7, Accuracy: [0.94339623 0.93962264 0.95471698 0.95849057 0.96226415], Mean: 0.9516981132075472\n",
      "Index: 5, Time: 0.5078279972076416s, N_Neighbors: 9, Accuracy: [0.92830189 0.93207547 0.9509434  0.95849057 0.9509434 ], Mean: 0.9441509433962263\n"
     ]
    },
    {
     "data": {
      "image/png": "[encoded data removed]",
      "text/plain": [
       "<Figure size 720x360 with 1 Axes>"
      ]
     },
     "metadata": {
      "needs_background": "light"
     },
     "output_type": "display_data"
    }
   ],
   "source": [
    "n_neighbors_list = [1, 3, 5, 7, 9]\n",
    "cnt = 0\n",
    "res = []\n",
    "start = time.time()\n",
    "\n",
    "for nn in n_neighbors_list:\n",
    "    cnt += 1\n",
    "    clf = KNeighborsClassifier(n_neighbors=nn)\n",
    "    accuracy = cross_val_score(clf, X_train, y_train, scoring='accuracy', cv=5)\n",
    "    print(f\"Index: {cnt}, Time: {time.time()-start}s, N_Neighbors: {nn}, Accuracy: {accuracy}, Mean: {np.mean(accuracy)}\")\n",
    "    res.append(accuracy)\n",
    "    # print(res)\n",
    "    \n",
    "plt.figure(figsize=(10,5))\n",
    "plt.title('N_Neighbors Result',fontsize=20)\n",
    "labels = '1', '3', '5', '7', '9'\n",
    "plt.boxplot(res, labels = labels)\n",
    "plt.show()"
   ]
  },
  {
   "cell_type": "code",
   "execution_count": 6,
   "id": "11b687c6",
   "metadata": {},
   "outputs": [
    {
     "name": "stdout",
     "output_type": "stream",
     "text": [
      "Index: 1, Time: 0.09899711608886719s, Weights: uniform, Accuracy: [0.93962264 0.93207547 0.96603774 0.96226415 0.96603774], Mean: 0.9532075471698114\n",
      "Index: 2, Time: 0.1529984474182129s, Weights: distance, Accuracy: [0.9509434  0.93207547 0.96603774 0.96226415 0.96603774], Mean: 0.9554716981132076\n"
     ]
    },
    {
     "data": {
      "image/png": "[encoded data removed]",
      "text/plain": [
       "<Figure size 720x360 with 1 Axes>"
      ]
     },
     "metadata": {
      "needs_background": "light"
     },
     "output_type": "display_data"
    }
   ],
   "source": [
    "weights_list = ['uniform', 'distance']\n",
    "cnt = 0\n",
    "res = []\n",
    "start = time.time()\n",
    "\n",
    "for wei in weights_list:\n",
    "    cnt += 1\n",
    "    clf = KNeighborsClassifier(weights = wei)\n",
    "    accuracy = cross_val_score(clf, X_train, y_train, scoring='accuracy', cv=5)\n",
    "    print(f\"Index: {cnt}, Time: {time.time()-start}s, Weights: {wei}, Accuracy: {accuracy}, Mean: {np.mean(accuracy)}\")\n",
    "    res.append(accuracy)\n",
    "    # print(res)\n",
    "    \n",
    "plt.figure(figsize=(10,5))\n",
    "plt.title('Weights Result',fontsize=20)\n",
    "labels = 'uniform', 'distance'\n",
    "plt.boxplot(res, labels = labels)\n",
    "plt.show()"
   ]
  },
  {
   "cell_type": "code",
   "execution_count": 7,
   "id": "d5b7ba77",
   "metadata": {},
   "outputs": [
    {
     "name": "stdout",
     "output_type": "stream",
     "text": [
      "Index: 1, Time: 0.10399317741394043s, Algorithm: auto, Accuracy: [0.93962264 0.93207547 0.96603774 0.96226415 0.96603774], Mean: 0.9532075471698114\n",
      "Index: 2, Time: 0.21318840980529785s, Algorithm: ball_tree, Accuracy: [0.93584906 0.94339623 0.95849057 0.96603774 0.96226415], Mean: 0.9532075471698114\n",
      "Index: 3, Time: 0.31151771545410156s, Algorithm: kd_tree, Accuracy: [0.93584906 0.93584906 0.96603774 0.96226415 0.96226415], Mean: 0.9524528301886793\n",
      "Index: 4, Time: 0.40151500701904297s, Algorithm: brute, Accuracy: [0.93962264 0.93207547 0.96603774 0.96226415 0.96603774], Mean: 0.9532075471698114\n"
     ]
    },
    {
     "data": {
      "image/png": "[encoded data removed]",
      "text/plain": [
       "<Figure size 720x360 with 1 Axes>"
      ]
     },
     "metadata": {
      "needs_background": "light"
     },
     "output_type": "display_data"
    }
   ],
   "source": [
    "algorithm_list = ['auto', 'ball_tree', 'kd_tree', 'brute']\n",
    "cnt = 0\n",
    "res = []\n",
    "start = time.time()\n",
    "\n",
    "for alg in algorithm_list:\n",
    "    cnt += 1\n",
    "    clf = KNeighborsClassifier(algorithm = alg)\n",
    "    accuracy = cross_val_score(clf, X_train, y_train, scoring='accuracy', cv=5)\n",
    "    print(f\"Index: {cnt}, Time: {time.time()-start}s, Algorithm: {alg}, Accuracy: {accuracy}, Mean: {np.mean(accuracy)}\")\n",
    "    res.append(accuracy)\n",
    "    # print(res)\n",
    "    \n",
    "plt.figure(figsize=(10,5))\n",
    "plt.title('Algorithm Result',fontsize=20)\n",
    "labels = 'auto', 'ball_tree', 'kd_tree', 'brute'\n",
    "plt.boxplot(res, labels = labels)\n",
    "plt.show()"
   ]
  },
  {
   "cell_type": "markdown",
   "id": "6ed7c6de",
   "metadata": {},
   "source": [
    "## Method 2: Decision Tree"
   ]
  },
  {
   "cell_type": "code",
   "execution_count": 8,
   "id": "32cebd84",
   "metadata": {},
   "outputs": [
    {
     "data": {
      "text/plain": [
       "\"\\nDecisionTreeClassifier(class_weight=None, criterion='gini', max_depth=2,\\n            max_features=None, max_leaf_nodes=None,\\n            min_impurity_decrease=0.0, min_impurity_split=None,\\n            min_samples_leaf=1, min_samples_split=2,\\n            min_weight_fraction_leaf=0.0, presort=False, random_state=None,\\n            splitter='best')\\n\""
      ]
     },
     "execution_count": 8,
     "metadata": {},
     "output_type": "execute_result"
    }
   ],
   "source": [
    "'''\n",
    "DecisionTreeClassifier(class_weight=None, criterion='gini', max_depth=2,\n",
    "            max_features=None, max_leaf_nodes=None,\n",
    "            min_impurity_decrease=0.0, min_impurity_split=None,\n",
    "            min_samples_leaf=1, min_samples_split=2,\n",
    "            min_weight_fraction_leaf=0.0, presort=False, random_state=None,\n",
    "            splitter='best')\n",
    "'''"
   ]
  },
  {
   "cell_type": "code",
   "execution_count": 9,
   "id": "a2255c5a",
   "metadata": {},
   "outputs": [
    {
     "name": "stdout",
     "output_type": "stream",
     "text": [
      "Index: 1, Time: 0.03699827194213867s, Criterion: gini, Accuracy: [0.9245283  0.94339623 0.92830189 0.93584906 0.92830189], Mean: 0.9320754716981133\n",
      "Index: 2, Time: 0.06202816963195801s, Criterion: entropy, Accuracy: [0.93584906 0.93584906 0.96603774 0.95471698 0.9509434 ], Mean: 0.9486792452830188\n",
      "Index: 3, Time: 0.07499575614929199s, Criterion: log_loss, Accuracy: [nan nan nan nan nan], Mean: nan\n"
     ]
    },
    {
     "name": "stderr",
     "output_type": "stream",
     "text": [
      "C:\\Users\\21742\\anaconda3\\lib\\site-packages\\sklearn\\model_selection\\_validation.py:372: FitFailedWarning: \n",
      "5 fits failed out of a total of 5.\n",
      "The score on these train-test partitions for these parameters will be set to nan.\n",
      "If these failures are not expected, you can try to debug them by setting error_score='raise'.\n",
      "\n",
      "Below are more details about the failures:\n",
      "--------------------------------------------------------------------------------\n",
      "5 fits failed with the following error:\n",
      "Traceback (most recent call last):\n",
      "  File \"C:\\Users\\21742\\anaconda3\\lib\\site-packages\\sklearn\\model_selection\\_validation.py\", line 680, in _fit_and_score\n",
      "    estimator.fit(X_train, y_train, **fit_params)\n",
      "  File \"C:\\Users\\21742\\anaconda3\\lib\\site-packages\\sklearn\\tree\\_classes.py\", line 937, in fit\n",
      "    super().fit(\n",
      "  File \"C:\\Users\\21742\\anaconda3\\lib\\site-packages\\sklearn\\tree\\_classes.py\", line 352, in fit\n",
      "    criterion = CRITERIA_CLF[self.criterion](\n",
      "KeyError: 'log_loss'\n",
      "\n",
      "  warnings.warn(some_fits_failed_message, FitFailedWarning)\n"
     ]
    },
    {
     "data": {
      "image/png": "[encoded data removed]",
      "text/plain": [
       "<Figure size 720x360 with 1 Axes>"
      ]
     },
     "metadata": {
      "needs_background": "light"
     },
     "output_type": "display_data"
    }
   ],
   "source": [
    "# criterion_list = ['gini', 'entropy']\n",
    "criterion_list = ['gini', 'entropy', 'log_loss']\n",
    "cnt = 0\n",
    "res = []\n",
    "start = time.time()\n",
    "\n",
    "for cri in criterion_list:\n",
    "    cnt += 1\n",
    "    clf = DecisionTreeClassifier(criterion=cri)\n",
    "    accuracy = cross_val_score(clf, X_train, y_train, scoring='accuracy', cv=5)\n",
    "    print(f\"Index: {cnt}, Time: {time.time()-start}s, Criterion: {cri}, Accuracy: {accuracy}, Mean: {np.mean(accuracy)}\")\n",
    "    res.append(accuracy)\n",
    "    # print(res)\n",
    "    \n",
    "plt.figure(figsize=(10,5))\n",
    "plt.title('Criterion Result',fontsize=20)\n",
    "labels = 'Gini','Entropy','Log_Loss'\n",
    "plt.boxplot(res, labels = labels)\n",
    "plt.show()"
   ]
  },
  {
   "cell_type": "code",
   "execution_count": 10,
   "id": "4871d880",
   "metadata": {
    "scrolled": false
   },
   "outputs": [
    {
     "name": "stdout",
     "output_type": "stream",
     "text": [
      "Index: 1, Time: 0.031441450119018555s, Max_Depth: 10, Accuracy: [0.93207547 0.93207547 0.93584906 0.9509434  0.93962264], Mean: 0.9381132075471698\n",
      "Index: 2, Time: 0.0594484806060791s, Max_Depth: 20, Accuracy: [0.93584906 0.93584906 0.92075472 0.93962264 0.94339623], Mean: 0.9350943396226417\n",
      "Index: 3, Time: 0.09144306182861328s, Max_Depth: 30, Accuracy: [0.93207547 0.93962264 0.93207547 0.94339623 0.94339623], Mean: 0.9381132075471699\n",
      "Index: 4, Time: 0.12144207954406738s, Max_Depth: 40, Accuracy: [0.93584906 0.9509434  0.91698113 0.9509434  0.93584906], Mean: 0.9381132075471698\n",
      "Index: 5, Time: 0.1514439582824707s, Max_Depth: 50, Accuracy: [0.92830189 0.94716981 0.91698113 0.9509434  0.93962264], Mean: 0.9366037735849057\n"
     ]
    },
    {
     "data": {
      "image/png": "[encoded data removed]",
      "text/plain": [
       "<Figure size 720x360 with 1 Axes>"
      ]
     },
     "metadata": {
      "needs_background": "light"
     },
     "output_type": "display_data"
    }
   ],
   "source": [
    "# max_depth_list = [5, 10, 15, 20, 25]\n",
    "max_depth_list = [10, 20, 30, 40, 50]\n",
    "cnt = 0\n",
    "res = []\n",
    "start = time.time()\n",
    "\n",
    "for max_d in max_depth_list:\n",
    "    cnt += 1\n",
    "    clf = DecisionTreeClassifier(max_depth = max_d)\n",
    "    accuracy = cross_val_score(clf, X_train, y_train, scoring='accuracy', cv=5)\n",
    "    print(f\"Index: {cnt}, Time: {time.time()-start}s, Max_Depth: {max_d}, Accuracy: {accuracy}, Mean: {np.mean(accuracy)}\")\n",
    "    res.append(accuracy)\n",
    "    # print(res)\n",
    "    \n",
    "plt.figure(figsize=(10,5))\n",
    "plt.title('Max_Depth Result',fontsize=20)\n",
    "labels = '10','20', '30', '40', '50'\n",
    "plt.boxplot(res, labels = labels)\n",
    "plt.show()"
   ]
  },
  {
   "cell_type": "markdown",
   "id": "47f7413e",
   "metadata": {},
   "source": [
    "## Method 3: Random Forest"
   ]
  },
  {
   "cell_type": "code",
   "execution_count": 11,
   "id": "b2d0111a",
   "metadata": {},
   "outputs": [
    {
     "name": "stdout",
     "output_type": "stream",
     "text": [
      "Index: 1, Time: 0.8571851253509521s, Criterion: gini, Accuracy: [0.97358491 0.96226415 0.98490566 0.96226415 0.97358491], Mean: 0.9713207547169811\n",
      "Index: 2, Time: 1.7000224590301514s, Criterion: entropy, Accuracy: [0.96226415 0.96981132 0.97735849 0.96603774 0.98113208], Mean: 0.9713207547169811\n",
      "Index: 3, Time: 1.8419098854064941s, Criterion: log_loss, Accuracy: [nan nan nan nan nan], Mean: nan\n"
     ]
    },
    {
     "name": "stderr",
     "output_type": "stream",
     "text": [
      "C:\\Users\\21742\\anaconda3\\lib\\site-packages\\sklearn\\model_selection\\_validation.py:372: FitFailedWarning: \n",
      "5 fits failed out of a total of 5.\n",
      "The score on these train-test partitions for these parameters will be set to nan.\n",
      "If these failures are not expected, you can try to debug them by setting error_score='raise'.\n",
      "\n",
      "Below are more details about the failures:\n",
      "--------------------------------------------------------------------------------\n",
      "5 fits failed with the following error:\n",
      "Traceback (most recent call last):\n",
      "  File \"C:\\Users\\21742\\anaconda3\\lib\\site-packages\\sklearn\\model_selection\\_validation.py\", line 680, in _fit_and_score\n",
      "    estimator.fit(X_train, y_train, **fit_params)\n",
      "  File \"C:\\Users\\21742\\anaconda3\\lib\\site-packages\\sklearn\\ensemble\\_forest.py\", line 450, in fit\n",
      "    trees = Parallel(\n",
      "  File \"C:\\Users\\21742\\anaconda3\\lib\\site-packages\\joblib\\parallel.py\", line 1043, in __call__\n",
      "    if self.dispatch_one_batch(iterator):\n",
      "  File \"C:\\Users\\21742\\anaconda3\\lib\\site-packages\\joblib\\parallel.py\", line 861, in dispatch_one_batch\n",
      "    self._dispatch(tasks)\n",
      "  File \"C:\\Users\\21742\\anaconda3\\lib\\site-packages\\joblib\\parallel.py\", line 779, in _dispatch\n",
      "    job = self._backend.apply_async(batch, callback=cb)\n",
      "  File \"C:\\Users\\21742\\anaconda3\\lib\\site-packages\\joblib\\_parallel_backends.py\", line 208, in apply_async\n",
      "    result = ImmediateResult(func)\n",
      "  File \"C:\\Users\\21742\\anaconda3\\lib\\site-packages\\joblib\\_parallel_backends.py\", line 572, in __init__\n",
      "    self.results = batch()\n",
      "  File \"C:\\Users\\21742\\anaconda3\\lib\\site-packages\\joblib\\parallel.py\", line 262, in __call__\n",
      "    return [func(*args, **kwargs)\n",
      "  File \"C:\\Users\\21742\\anaconda3\\lib\\site-packages\\joblib\\parallel.py\", line 262, in <listcomp>\n",
      "    return [func(*args, **kwargs)\n",
      "  File \"C:\\Users\\21742\\anaconda3\\lib\\site-packages\\sklearn\\utils\\fixes.py\", line 216, in __call__\n",
      "    return self.function(*args, **kwargs)\n",
      "  File \"C:\\Users\\21742\\anaconda3\\lib\\site-packages\\sklearn\\ensemble\\_forest.py\", line 185, in _parallel_build_trees\n",
      "    tree.fit(X, y, sample_weight=curr_sample_weight, check_input=False)\n",
      "  File \"C:\\Users\\21742\\anaconda3\\lib\\site-packages\\sklearn\\tree\\_classes.py\", line 937, in fit\n",
      "    super().fit(\n",
      "  File \"C:\\Users\\21742\\anaconda3\\lib\\site-packages\\sklearn\\tree\\_classes.py\", line 352, in fit\n",
      "    criterion = CRITERIA_CLF[self.criterion](\n",
      "KeyError: 'log_loss'\n",
      "\n",
      "  warnings.warn(some_fits_failed_message, FitFailedWarning)\n"
     ]
    },
    {
     "data": {
      "image/png": "[encoded data removed]",
      "text/plain": [
       "<Figure size 720x360 with 1 Axes>"
      ]
     },
     "metadata": {
      "needs_background": "light"
     },
     "output_type": "display_data"
    }
   ],
   "source": [
    "# criterion_list = ['gini', 'entropy']\n",
    "criterion_list = ['gini', 'entropy', 'log_loss']\n",
    "cnt = 0\n",
    "res = []\n",
    "start = time.time()\n",
    "\n",
    "for cri in criterion_list:\n",
    "    cnt += 1\n",
    "    clf = RandomForestClassifier(criterion = cri, random_state=0)\n",
    "    accuracy = cross_val_score(clf, X_train, y_train, scoring='accuracy', cv=5)\n",
    "    print(f\"Index: {cnt}, Time: {time.time()-start}s, Criterion: {cri}, Accuracy: {accuracy}, Mean: {np.mean(accuracy)}\")\n",
    "    res.append(accuracy)\n",
    "    # print(res)\n",
    "    \n",
    "plt.figure(figsize=(10,5))\n",
    "plt.title('Criterion Result',fontsize=20)\n",
    "labels = 'Gini','Entropy','Log_Loss'\n",
    "plt.boxplot(res, labels = labels)\n",
    "plt.show()"
   ]
  },
  {
   "cell_type": "code",
   "execution_count": 12,
   "id": "8c656ebd",
   "metadata": {},
   "outputs": [
    {
     "name": "stdout",
     "output_type": "stream",
     "text": [
      "Index: 1, Time: 0.9874799251556396s, Max_Depth: 5, Accuracy: [0.93584906 0.9245283  0.92830189 0.91320755 0.91698113], Mean: 0.9237735849056605\n",
      "Index: 2, Time: 1.7555756568908691s, Max_Depth: 10, Accuracy: [0.97735849 0.95849057 0.97735849 0.96981132 0.98113208], Mean: 0.9728301886792453\n",
      "Index: 3, Time: 2.526620864868164s, Max_Depth: 15, Accuracy: [0.97735849 0.96226415 0.98490566 0.96603774 0.97358491], Mean: 0.9728301886792453\n",
      "Index: 4, Time: 3.286306858062744s, Max_Depth: 20, Accuracy: [0.97358491 0.96226415 0.98490566 0.96226415 0.97358491], Mean: 0.9713207547169811\n",
      "Index: 5, Time: 4.081203460693359s, Max_Depth: 25, Accuracy: [0.97358491 0.96226415 0.98490566 0.96226415 0.97358491], Mean: 0.9713207547169811\n"
     ]
    },
    {
     "data": {
      "image/png": "[encoded data removed]",
      "text/plain": [
       "<Figure size 720x360 with 1 Axes>"
      ]
     },
     "metadata": {
      "needs_background": "light"
     },
     "output_type": "display_data"
    }
   ],
   "source": [
    "# max_depth_list = [2, 4, 6, 8, 10]\n",
    "max_depth_list = [5, 10, 15, 20, 25]\n",
    "# max_depth_list = [10, 20, 30, 40, 50]\n",
    "cnt = 0\n",
    "res = []\n",
    "start = time.time()\n",
    "\n",
    "for max_d in max_depth_list:\n",
    "    cnt += 1\n",
    "    clf = RandomForestClassifier(max_depth=max_d, random_state=0)\n",
    "    accuracy = cross_val_score(clf, X_train, y_train, scoring='accuracy', cv=5)\n",
    "    print(f\"Index: {cnt}, Time: {time.time()-start}s, Max_Depth: {max_d}, Accuracy: {accuracy}, Mean: {np.mean(accuracy)}\")\n",
    "    res.append(accuracy)\n",
    "    # print(res)\n",
    "    \n",
    "plt.figure(figsize=(10,5))\n",
    "plt.title('Max_Depth Result',fontsize=20)\n",
    "labels = '5','10', '15', '20', '25'\n",
    "plt.boxplot(res, labels = labels)\n",
    "plt.show()"
   ]
  },
  {
   "cell_type": "code",
   "execution_count": 13,
   "id": "11ff98c1",
   "metadata": {},
   "outputs": [
    {
     "name": "stdout",
     "output_type": "stream",
     "text": [
      "Index: 1, Time: 0.06502151489257812s, N_Estimators: 5, Accuracy: [0.9509434  0.92830189 0.97358491 0.93584906 0.97358491], Mean: 0.9524528301886793\n",
      "Index: 2, Time: 0.1723954677581787s, N_Estimators: 10, Accuracy: [0.96603774 0.96226415 0.95849057 0.95471698 0.95849057], Mean: 0.96\n",
      "Index: 3, Time: 0.3061699867248535s, N_Estimators: 15, Accuracy: [0.96981132 0.96603774 0.98490566 0.97358491 0.96603774], Mean: 0.9720754716981131\n",
      "Index: 4, Time: 0.47861456871032715s, N_Estimators: 20, Accuracy: [0.96981132 0.96226415 0.97735849 0.97358491 0.96603774], Mean: 0.969811320754717\n",
      "Index: 5, Time: 0.704491376876831s, N_Estimators: 25, Accuracy: [0.97735849 0.96226415 0.98490566 0.96981132 0.96603774], Mean: 0.9720754716981131\n"
     ]
    },
    {
     "data": {
      "image/png": "[encoded data removed]",
      "text/plain": [
       "<Figure size 720x360 with 1 Axes>"
      ]
     },
     "metadata": {
      "needs_background": "light"
     },
     "output_type": "display_data"
    }
   ],
   "source": [
    "n_estimators_list = [5, 10 ,15 ,20 ,25]\n",
    "cnt = 0\n",
    "res = []\n",
    "start = time.time()\n",
    "\n",
    "for n_est in n_estimators_list:\n",
    "    cnt += 1\n",
    "    clf = RandomForestClassifier(n_estimators = n_est, random_state=0)\n",
    "    accuracy = cross_val_score(clf, X_train, y_train, scoring='accuracy', cv=5)\n",
    "    print(f\"Index: {cnt}, Time: {time.time()-start}s, N_Estimators: {n_est}, Accuracy: {accuracy}, Mean: {np.mean(accuracy)}\")\n",
    "    res.append(accuracy)\n",
    "    # print(res)\n",
    "    \n",
    "plt.figure(figsize=(10,5))\n",
    "plt.title('N_Estimators Result',fontsize=20)\n",
    "labels = '5','10', '15', '20', '25'\n",
    "plt.boxplot(res, labels = labels)\n",
    "plt.show()"
   ]
  },
  {
   "cell_type": "markdown",
   "id": "bfd0830b",
   "metadata": {},
   "source": [
    "## Method 4: Support Vector Machine"
   ]
  },
  {
   "cell_type": "code",
   "execution_count": 14,
   "id": "8e752671",
   "metadata": {},
   "outputs": [
    {
     "name": "stdout",
     "output_type": "stream",
     "text": [
      "Index: 1, Time: 0.21378135681152344s, Kernel: linear, Accuracy: [0.93207547 0.92075472 0.93584906 0.92075472 0.9245283 ], Mean: 0.9267924528301886\n",
      "Index: 2, Time: 0.32258009910583496s, Kernel: poly, Accuracy: [0.97358491 0.97358491 0.96603774 0.98490566 0.97358491], Mean: 0.9743396226415095\n",
      "Index: 3, Time: 0.46794724464416504s, Kernel: rbf, Accuracy: [0.96226415 0.96603774 0.94716981 0.96981132 0.96226415], Mean: 0.9615094339622641\n",
      "Index: 4, Time: 0.9429633617401123s, Kernel: sigmoid, Accuracy: [0.50943396 0.50943396 0.50566038 0.50566038 0.50566038], Mean: 0.5071698113207547\n"
     ]
    },
    {
     "data": {
      "image/png": "[encoded data removed]",
      "text/plain": [
       "<Figure size 720x360 with 1 Axes>"
      ]
     },
     "metadata": {
      "needs_background": "light"
     },
     "output_type": "display_data"
    }
   ],
   "source": [
    "kernel_list = ['linear', 'poly', 'rbf', 'sigmoid']\n",
    "cnt = 0\n",
    "res = []\n",
    "start = time.time()\n",
    "\n",
    "for ker in kernel_list:\n",
    "    cnt += 1\n",
    "    clf = SVC(kernel=ker)\n",
    "    accuracy = cross_val_score(clf, X_train, y_train, scoring='accuracy', cv=5)\n",
    "    print(f\"Index: {cnt}, Time: {time.time()-start}s, Kernel: {ker}, Accuracy: {accuracy}, Mean: {np.mean(accuracy)}\")\n",
    "    res.append(accuracy)\n",
    "    # print(res)\n",
    "    \n",
    "plt.figure(figsize=(10,5))\n",
    "plt.title('Kernel Result',fontsize=20)\n",
    "labels = 'linear', 'poly', 'rbf', 'sigmoid'\n",
    "plt.boxplot(res, labels = labels)\n",
    "plt.show()"
   ]
  },
  {
   "cell_type": "code",
   "execution_count": 15,
   "id": "ae07ee2d",
   "metadata": {
    "scrolled": false
   },
   "outputs": [
    {
     "name": "stdout",
     "output_type": "stream",
     "text": [
      "Index: 1, Time: 0.23558855056762695s, C: 0.2, Accuracy: [0.93207547 0.93207547 0.94339623 0.94339623 0.95849057], Mean: 0.9418867924528304\n",
      "Index: 2, Time: 0.4114537239074707s, C: 0.4, Accuracy: [0.94716981 0.96603774 0.95471698 0.97358491 0.95849057], Mean: 0.9600000000000002\n",
      "Index: 3, Time: 0.5766637325286865s, C: 0.6, Accuracy: [0.95471698 0.96981132 0.95471698 0.96981132 0.96603774], Mean: 0.9630188679245283\n",
      "Index: 4, Time: 0.7290143966674805s, C: 0.8, Accuracy: [0.95471698 0.96981132 0.9509434  0.97358491 0.96603774], Mean: 0.9630188679245283\n",
      "Index: 5, Time: 0.8765668869018555s, C: 1.0, Accuracy: [0.96226415 0.96603774 0.94716981 0.96981132 0.96226415], Mean: 0.9615094339622641\n",
      "Index: 6, Time: 1.0081682205200195s, C: 1.2, Accuracy: [0.96603774 0.96603774 0.94716981 0.97358491 0.96603774], Mean: 0.9637735849056603\n",
      "Index: 7, Time: 1.1486682891845703s, C: 1.4, Accuracy: [0.96603774 0.96603774 0.95849057 0.97358491 0.96603774], Mean: 0.9660377358490566\n"
     ]
    },
    {
     "data": {
      "image/png": "[encoded data removed]",
      "text/plain": [
       "<Figure size 720x360 with 1 Axes>"
      ]
     },
     "metadata": {
      "needs_background": "light"
     },
     "output_type": "display_data"
    }
   ],
   "source": [
    "C_list = [0.2, 0.4, 0.6, 0.8, 1.0, 1.2, 1.4]\n",
    "cnt = 0\n",
    "res = []\n",
    "start = time.time()\n",
    "\n",
    "for c in C_list:\n",
    "    cnt += 1\n",
    "    clf = SVC(C = c, kernel = 'rbf')\n",
    "    accuracy = cross_val_score(clf, X_train, y_train, scoring='accuracy', cv=5)\n",
    "    print(f\"Index: {cnt}, Time: {time.time()-start}s, C: {c}, Accuracy: {accuracy}, Mean: {np.mean(accuracy)}\")\n",
    "    res.append(accuracy)\n",
    "    # print(res)\n",
    "    \n",
    "plt.figure(figsize=(10,5))\n",
    "plt.title('C Result',fontsize=20)\n",
    "labels = '0.2', '0.4', '0.6', '0.8', '1.0', '1.2', '1.4'\n",
    "plt.boxplot(res, labels = labels)\n",
    "plt.show()"
   ]
  },
  {
   "cell_type": "markdown",
   "id": "5e5afa58",
   "metadata": {},
   "source": [
    "# Feature extraction (PCA)"
   ]
  },
  {
   "cell_type": "code",
   "execution_count": 61,
   "id": "bf8c29b5",
   "metadata": {},
   "outputs": [],
   "source": [
    "letter_recognition = pd.read_csv(\"letter-recognition.data\")\n",
    "letter_recognition = letter_recognition.values"
   ]
  },
  {
   "cell_type": "code",
   "execution_count": 62,
   "id": "d65ae203",
   "metadata": {},
   "outputs": [],
   "source": [
    "H = letter_recognition[np.where(letter_recognition[:, 0] == 'H')]\n",
    "K = letter_recognition[np.where(letter_recognition[:, 0] == 'K')]\n",
    "# print(H.shape)\n",
    "# print(K.shape)\n",
    "Pair_1 = np.concatenate((H,K))\n",
    "# print(Pair_1.shape)"
   ]
  },
  {
   "cell_type": "code",
   "execution_count": 63,
   "id": "826bdd03",
   "metadata": {},
   "outputs": [],
   "source": [
    "X_train, X_val, y_train, y_val = train_test_split(Pair_1[:,1:], Pair_1[:,0], test_size=0.1, random_state=0)"
   ]
  },
  {
   "cell_type": "code",
   "execution_count": 64,
   "id": "0ecf1e1d",
   "metadata": {},
   "outputs": [],
   "source": [
    "pca = PCA(n_components=4)\n",
    "X_train_pca = pca.fit_transform(X_train)\n",
    "# print(pca_result.shape)"
   ]
  },
  {
   "cell_type": "markdown",
   "id": "c55398c9",
   "metadata": {},
   "source": [
    "## Method 1: KNN"
   ]
  },
  {
   "cell_type": "code",
   "execution_count": 65,
   "id": "5908878f",
   "metadata": {},
   "outputs": [
    {
     "name": "stdout",
     "output_type": "stream",
     "text": [
      "Index: 1, Time: 0.05376601219177246s, N_Neighbors: 1, Accuracy: [0.90943396 0.8754717  0.88301887 0.89811321 0.8754717 ], Mean: 0.8883018867924528\n",
      "Index: 2, Time: 0.3751487731933594s, N_Neighbors: 3, Accuracy: [0.90188679 0.87924528 0.90566038 0.9245283  0.8754717 ], Mean: 0.8973584905660378\n",
      "Index: 3, Time: 0.44002532958984375s, N_Neighbors: 5, Accuracy: [0.89433962 0.8754717  0.92075472 0.93207547 0.89811321], Mean: 0.9041509433962265\n",
      "Index: 4, Time: 0.48875904083251953s, N_Neighbors: 7, Accuracy: [0.89433962 0.86415094 0.90943396 0.94716981 0.90188679], Mean: 0.9033962264150943\n",
      "Index: 5, Time: 0.5428731441497803s, N_Neighbors: 9, Accuracy: [0.88301887 0.86415094 0.90943396 0.93207547 0.91320755], Mean: 0.9003773584905661\n"
     ]
    },
    {
     "data": {
      "image/png": "[encoded data removed]",
      "text/plain": [
       "<Figure size 720x360 with 1 Axes>"
      ]
     },
     "metadata": {
      "needs_background": "light"
     },
     "output_type": "display_data"
    }
   ],
   "source": [
    "n_neighbors_list = [1, 3, 5, 7, 9]\n",
    "cnt = 0\n",
    "res = []\n",
    "start = time.time()\n",
    "\n",
    "for nn in n_neighbors_list:\n",
    "    cnt += 1\n",
    "    clf = KNeighborsClassifier(n_neighbors=nn)\n",
    "    accuracy = cross_val_score(clf, X_train_pca, y_train, scoring='accuracy', cv=5)\n",
    "    print(f\"Index: {cnt}, Time: {time.time()-start}s, N_Neighbors: {nn}, Accuracy: {accuracy}, Mean: {np.mean(accuracy)}\")\n",
    "    res.append(accuracy)\n",
    "    # print(res)\n",
    "    \n",
    "plt.figure(figsize=(10,5))\n",
    "plt.title('N_Neighbors Result',fontsize=20)\n",
    "labels = '1', '3', '5', '7', '9'\n",
    "plt.boxplot(res, labels = labels)\n",
    "plt.show()"
   ]
  },
  {
   "cell_type": "code",
   "execution_count": 66,
   "id": "7dd98560",
   "metadata": {},
   "outputs": [
    {
     "name": "stdout",
     "output_type": "stream",
     "text": [
      "Index: 1, Time: 0.06420588493347168s, Weights: uniform, Accuracy: [0.89433962 0.8754717  0.92075472 0.93207547 0.89811321], Mean: 0.9041509433962265\n",
      "Index: 2, Time: 0.08980655670166016s, Weights: distance, Accuracy: [0.89811321 0.88679245 0.91698113 0.92830189 0.89811321], Mean: 0.9056603773584907\n"
     ]
    },
    {
     "data": {
      "image/png": "[encoded data removed]",
      "text/plain": [
       "<Figure size 720x360 with 1 Axes>"
      ]
     },
     "metadata": {
      "needs_background": "light"
     },
     "output_type": "display_data"
    }
   ],
   "source": [
    "weights_list = ['uniform', 'distance']\n",
    "cnt = 0\n",
    "res = []\n",
    "start = time.time()\n",
    "\n",
    "for wei in weights_list:\n",
    "    cnt += 1\n",
    "    clf = KNeighborsClassifier(weights = wei)\n",
    "    accuracy = cross_val_score(clf, X_train_pca, y_train, scoring='accuracy', cv=5)\n",
    "    print(f\"Index: {cnt}, Time: {time.time()-start}s, Weights: {wei}, Accuracy: {accuracy}, Mean: {np.mean(accuracy)}\")\n",
    "    res.append(accuracy)\n",
    "    # print(res)\n",
    "    \n",
    "plt.figure(figsize=(10,5))\n",
    "plt.title('Weights Result',fontsize=20)\n",
    "labels = 'uniform', 'distance'\n",
    "plt.boxplot(res, labels = labels)\n",
    "plt.show()"
   ]
  },
  {
   "cell_type": "code",
   "execution_count": 67,
   "id": "b221ce93",
   "metadata": {},
   "outputs": [
    {
     "name": "stdout",
     "output_type": "stream",
     "text": [
      "Index: 1, Time: 0.05015254020690918s, Algorithm: auto, Accuracy: [0.89433962 0.8754717  0.92075472 0.93207547 0.89811321], Mean: 0.9041509433962265\n",
      "Index: 2, Time: 0.11199951171875s, Algorithm: ball_tree, Accuracy: [0.89433962 0.8754717  0.92075472 0.93207547 0.89811321], Mean: 0.9041509433962265\n",
      "Index: 3, Time: 0.17016243934631348s, Algorithm: kd_tree, Accuracy: [0.89433962 0.8754717  0.92075472 0.93207547 0.89811321], Mean: 0.9041509433962265\n",
      "Index: 4, Time: 0.2804391384124756s, Algorithm: brute, Accuracy: [0.89433962 0.8754717  0.92075472 0.93207547 0.89811321], Mean: 0.9041509433962265\n"
     ]
    },
    {
     "data": {
      "image/png": "[encoded data removed]",
      "text/plain": [
       "<Figure size 720x360 with 1 Axes>"
      ]
     },
     "metadata": {
      "needs_background": "light"
     },
     "output_type": "display_data"
    }
   ],
   "source": [
    "algorithm_list = ['auto', 'ball_tree', 'kd_tree', 'brute']\n",
    "cnt = 0\n",
    "res = []\n",
    "start = time.time()\n",
    "\n",
    "for alg in algorithm_list:\n",
    "    cnt += 1\n",
    "    clf = KNeighborsClassifier(algorithm = alg)\n",
    "    accuracy = cross_val_score(clf, X_train_pca, y_train, scoring='accuracy', cv=5)\n",
    "    print(f\"Index: {cnt}, Time: {time.time()-start}s, Algorithm: {alg}, Accuracy: {accuracy}, Mean: {np.mean(accuracy)}\")\n",
    "    res.append(accuracy)\n",
    "    # print(res)\n",
    "    \n",
    "plt.figure(figsize=(10,5))\n",
    "plt.title('Algorithm Result',fontsize=20)\n",
    "labels = 'auto', 'ball_tree', 'kd_tree', 'brute'\n",
    "plt.boxplot(res, labels = labels)\n",
    "plt.show()"
   ]
  },
  {
   "cell_type": "markdown",
   "id": "ea434131",
   "metadata": {},
   "source": [
    "## Method 2: Decision Tree"
   ]
  },
  {
   "cell_type": "code",
   "execution_count": 68,
   "id": "869a36cd",
   "metadata": {},
   "outputs": [
    {
     "name": "stdout",
     "output_type": "stream",
     "text": [
      "Index: 1, Time: 0.02651357650756836s, Criterion: gini, Accuracy: [0.85660377 0.84150943 0.84150943 0.89433962 0.84150943], Mean: 0.8550943396226416\n",
      "Index: 2, Time: 0.06067609786987305s, Criterion: entropy, Accuracy: [0.86792453 0.8490566  0.81886792 0.87169811 0.83018868], Mean: 0.8475471698113208\n",
      "Index: 3, Time: 0.0711965560913086s, Criterion: log_loss, Accuracy: [nan nan nan nan nan], Mean: nan\n"
     ]
    },
    {
     "name": "stderr",
     "output_type": "stream",
     "text": [
      "C:\\Users\\21742\\anaconda3\\lib\\site-packages\\sklearn\\model_selection\\_validation.py:372: FitFailedWarning: \n",
      "5 fits failed out of a total of 5.\n",
      "The score on these train-test partitions for these parameters will be set to nan.\n",
      "If these failures are not expected, you can try to debug them by setting error_score='raise'.\n",
      "\n",
      "Below are more details about the failures:\n",
      "--------------------------------------------------------------------------------\n",
      "5 fits failed with the following error:\n",
      "Traceback (most recent call last):\n",
      "  File \"C:\\Users\\21742\\anaconda3\\lib\\site-packages\\sklearn\\model_selection\\_validation.py\", line 680, in _fit_and_score\n",
      "    estimator.fit(X_train, y_train, **fit_params)\n",
      "  File \"C:\\Users\\21742\\anaconda3\\lib\\site-packages\\sklearn\\tree\\_classes.py\", line 937, in fit\n",
      "    super().fit(\n",
      "  File \"C:\\Users\\21742\\anaconda3\\lib\\site-packages\\sklearn\\tree\\_classes.py\", line 352, in fit\n",
      "    criterion = CRITERIA_CLF[self.criterion](\n",
      "KeyError: 'log_loss'\n",
      "\n",
      "  warnings.warn(some_fits_failed_message, FitFailedWarning)\n"
     ]
    },
    {
     "data": {
      "image/png": "[encoded data removed]",
      "text/plain": [
       "<Figure size 720x360 with 1 Axes>"
      ]
     },
     "metadata": {
      "needs_background": "light"
     },
     "output_type": "display_data"
    }
   ],
   "source": [
    "# criterion_list = ['gini', 'entropy']\n",
    "criterion_list = ['gini', 'entropy', 'log_loss']\n",
    "cnt = 0\n",
    "res = []\n",
    "start = time.time()\n",
    "\n",
    "for cri in criterion_list:\n",
    "    cnt += 1\n",
    "    clf = DecisionTreeClassifier(criterion=cri)\n",
    "    accuracy = cross_val_score(clf, X_train_pca, y_train, scoring='accuracy', cv=5)\n",
    "    print(f\"Index: {cnt}, Time: {time.time()-start}s, Criterion: {cri}, Accuracy: {accuracy}, Mean: {np.mean(accuracy)}\")\n",
    "    res.append(accuracy)\n",
    "    # print(res)\n",
    "    \n",
    "plt.figure(figsize=(10,5))\n",
    "plt.title('Criterion Result',fontsize=20)\n",
    "labels = 'Gini','Entropy','Log_Loss'\n",
    "plt.boxplot(res, labels = labels)\n",
    "plt.show()"
   ]
  },
  {
   "cell_type": "code",
   "execution_count": 69,
   "id": "788c7d84",
   "metadata": {},
   "outputs": [
    {
     "name": "stdout",
     "output_type": "stream",
     "text": [
      "Index: 1, Time: 0.02548074722290039s, Max_Depth: 5, Accuracy: [0.81132075 0.79245283 0.84150943 0.84528302 0.84150943], Mean: 0.8264150943396228\n",
      "Index: 2, Time: 0.04922914505004883s, Max_Depth: 10, Accuracy: [0.84528302 0.8490566  0.84150943 0.89056604 0.81886792], Mean: 0.8490566037735849\n",
      "Index: 3, Time: 0.07323765754699707s, Max_Depth: 15, Accuracy: [0.86415094 0.83773585 0.82641509 0.88679245 0.81509434], Mean: 0.8460377358490566\n",
      "Index: 4, Time: 0.09963679313659668s, Max_Depth: 20, Accuracy: [0.83773585 0.85660377 0.83396226 0.87924528 0.82264151], Mean: 0.8460377358490566\n",
      "Index: 5, Time: 0.13077044486999512s, Max_Depth: 25, Accuracy: [0.84150943 0.83396226 0.84150943 0.88301887 0.84528302], Mean: 0.8490566037735849\n"
     ]
    },
    {
     "data": {
      "image/png": "[encoded data removed]",
      "text/plain": [
       "<Figure size 720x360 with 1 Axes>"
      ]
     },
     "metadata": {
      "needs_background": "light"
     },
     "output_type": "display_data"
    }
   ],
   "source": [
    "max_depth_list = [5, 10, 15, 20, 25]\n",
    "# max_depth_list = [10, 20, 30, 40, 50]\n",
    "cnt = 0\n",
    "res = []\n",
    "start = time.time()\n",
    "\n",
    "for max_d in max_depth_list:\n",
    "    cnt += 1\n",
    "    clf = DecisionTreeClassifier(max_depth = max_d)\n",
    "    accuracy = cross_val_score(clf, X_train_pca, y_train, scoring='accuracy', cv=5)\n",
    "    print(f\"Index: {cnt}, Time: {time.time()-start}s, Max_Depth: {max_d}, Accuracy: {accuracy}, Mean: {np.mean(accuracy)}\")\n",
    "    res.append(accuracy)\n",
    "    # print(res)\n",
    "    \n",
    "plt.figure(figsize=(10,5))\n",
    "plt.title('Max_Depth Result',fontsize=20)\n",
    "labels = '5','10', '15', '20', '25'\n",
    "plt.boxplot(res, labels = labels)\n",
    "plt.show()"
   ]
  },
  {
   "cell_type": "markdown",
   "id": "df774fad",
   "metadata": {},
   "source": [
    "## Method 3: Random Forest"
   ]
  },
  {
   "cell_type": "code",
   "execution_count": 70,
   "id": "b6f194ee",
   "metadata": {},
   "outputs": [
    {
     "name": "stdout",
     "output_type": "stream",
     "text": [
      "Index: 1, Time: 1.0265603065490723s, Criterion: gini, Accuracy: [0.88679245 0.88301887 0.89056604 0.9245283  0.87924528], Mean: 0.8928301886792454\n",
      "Index: 2, Time: 2.2447609901428223s, Criterion: entropy, Accuracy: [0.89433962 0.89433962 0.88679245 0.91698113 0.87169811], Mean: 0.8928301886792454\n",
      "Index: 3, Time: 2.4589364528656006s, Criterion: log_loss, Accuracy: [nan nan nan nan nan], Mean: nan\n"
     ]
    },
    {
     "name": "stderr",
     "output_type": "stream",
     "text": [
      "C:\\Users\\21742\\anaconda3\\lib\\site-packages\\sklearn\\model_selection\\_validation.py:372: FitFailedWarning: \n",
      "5 fits failed out of a total of 5.\n",
      "The score on these train-test partitions for these parameters will be set to nan.\n",
      "If these failures are not expected, you can try to debug them by setting error_score='raise'.\n",
      "\n",
      "Below are more details about the failures:\n",
      "--------------------------------------------------------------------------------\n",
      "5 fits failed with the following error:\n",
      "Traceback (most recent call last):\n",
      "  File \"C:\\Users\\21742\\anaconda3\\lib\\site-packages\\sklearn\\model_selection\\_validation.py\", line 680, in _fit_and_score\n",
      "    estimator.fit(X_train, y_train, **fit_params)\n",
      "  File \"C:\\Users\\21742\\anaconda3\\lib\\site-packages\\sklearn\\ensemble\\_forest.py\", line 450, in fit\n",
      "    trees = Parallel(\n",
      "  File \"C:\\Users\\21742\\anaconda3\\lib\\site-packages\\joblib\\parallel.py\", line 1043, in __call__\n",
      "    if self.dispatch_one_batch(iterator):\n",
      "  File \"C:\\Users\\21742\\anaconda3\\lib\\site-packages\\joblib\\parallel.py\", line 861, in dispatch_one_batch\n",
      "    self._dispatch(tasks)\n",
      "  File \"C:\\Users\\21742\\anaconda3\\lib\\site-packages\\joblib\\parallel.py\", line 779, in _dispatch\n",
      "    job = self._backend.apply_async(batch, callback=cb)\n",
      "  File \"C:\\Users\\21742\\anaconda3\\lib\\site-packages\\joblib\\_parallel_backends.py\", line 208, in apply_async\n",
      "    result = ImmediateResult(func)\n",
      "  File \"C:\\Users\\21742\\anaconda3\\lib\\site-packages\\joblib\\_parallel_backends.py\", line 572, in __init__\n",
      "    self.results = batch()\n",
      "  File \"C:\\Users\\21742\\anaconda3\\lib\\site-packages\\joblib\\parallel.py\", line 262, in __call__\n",
      "    return [func(*args, **kwargs)\n",
      "  File \"C:\\Users\\21742\\anaconda3\\lib\\site-packages\\joblib\\parallel.py\", line 262, in <listcomp>\n",
      "    return [func(*args, **kwargs)\n",
      "  File \"C:\\Users\\21742\\anaconda3\\lib\\site-packages\\sklearn\\utils\\fixes.py\", line 216, in __call__\n",
      "    return self.function(*args, **kwargs)\n",
      "  File \"C:\\Users\\21742\\anaconda3\\lib\\site-packages\\sklearn\\ensemble\\_forest.py\", line 185, in _parallel_build_trees\n",
      "    tree.fit(X, y, sample_weight=curr_sample_weight, check_input=False)\n",
      "  File \"C:\\Users\\21742\\anaconda3\\lib\\site-packages\\sklearn\\tree\\_classes.py\", line 937, in fit\n",
      "    super().fit(\n",
      "  File \"C:\\Users\\21742\\anaconda3\\lib\\site-packages\\sklearn\\tree\\_classes.py\", line 352, in fit\n",
      "    criterion = CRITERIA_CLF[self.criterion](\n",
      "KeyError: 'log_loss'\n",
      "\n",
      "  warnings.warn(some_fits_failed_message, FitFailedWarning)\n"
     ]
    },
    {
     "data": {
      "image/png": "[encoded data removed]",
      "text/plain": [
       "<Figure size 720x360 with 1 Axes>"
      ]
     },
     "metadata": {
      "needs_background": "light"
     },
     "output_type": "display_data"
    }
   ],
   "source": [
    "# criterion_list = ['gini', 'entropy']\n",
    "criterion_list = ['gini', 'entropy', 'log_loss']\n",
    "cnt = 0\n",
    "res = []\n",
    "start = time.time()\n",
    "\n",
    "for cri in criterion_list:\n",
    "    cnt += 1\n",
    "    clf = RandomForestClassifier(criterion = cri, random_state=0)\n",
    "    accuracy = cross_val_score(clf, X_train_pca, y_train, scoring='accuracy', cv=5)\n",
    "    print(f\"Index: {cnt}, Time: {time.time()-start}s, Criterion: {cri}, Accuracy: {accuracy}, Mean: {np.mean(accuracy)}\")\n",
    "    res.append(accuracy)\n",
    "    # print(res)\n",
    "    \n",
    "plt.figure(figsize=(10,5))\n",
    "plt.title('Criterion Result',fontsize=20)\n",
    "labels = 'Gini','Entropy', 'Log_Loss'\n",
    "plt.boxplot(res, labels = labels)\n",
    "plt.show()"
   ]
  },
  {
   "cell_type": "code",
   "execution_count": 71,
   "id": "8062b6ae",
   "metadata": {},
   "outputs": [
    {
     "name": "stdout",
     "output_type": "stream",
     "text": [
      "Index: 1, Time: 0.8815875053405762s, Max_Depth: 5, Accuracy: [0.84528302 0.84150943 0.86037736 0.86037736 0.8490566 ], Mean: 0.8513207547169811\n",
      "Index: 2, Time: 1.8268465995788574s, Max_Depth: 10, Accuracy: [0.88679245 0.8754717  0.89433962 0.92830189 0.86792453], Mean: 0.8905660377358492\n",
      "Index: 3, Time: 2.7436938285827637s, Max_Depth: 15, Accuracy: [0.88301887 0.88301887 0.88679245 0.91698113 0.87169811], Mean: 0.8883018867924528\n",
      "Index: 4, Time: 3.674917697906494s, Max_Depth: 20, Accuracy: [0.88679245 0.88301887 0.89056604 0.9245283  0.87924528], Mean: 0.8928301886792454\n",
      "Index: 5, Time: 4.6007139682769775s, Max_Depth: 25, Accuracy: [0.88679245 0.88301887 0.89056604 0.9245283  0.87924528], Mean: 0.8928301886792454\n"
     ]
    },
    {
     "data": {
      "image/png": "[encoded data removed]",
      "text/plain": [
       "<Figure size 720x360 with 1 Axes>"
      ]
     },
     "metadata": {
      "needs_background": "light"
     },
     "output_type": "display_data"
    }
   ],
   "source": [
    "# max_depth_list = [2, 4, 6, 8, 10]\n",
    "max_depth_list = [5, 10, 15, 20, 25]\n",
    "# max_depth_list = [10, 20, 30, 40, 50]\n",
    "cnt = 0\n",
    "res = []\n",
    "start = time.time()\n",
    "\n",
    "for max_d in max_depth_list:\n",
    "    cnt += 1\n",
    "    clf = RandomForestClassifier(max_depth=max_d, random_state=0)\n",
    "    accuracy = cross_val_score(clf, X_train_pca, y_train, scoring='accuracy', cv=5)\n",
    "    print(f\"Index: {cnt}, Time: {time.time()-start}s, Max_Depth: {max_d}, Accuracy: {accuracy}, Mean: {np.mean(accuracy)}\")\n",
    "    res.append(accuracy)\n",
    "    # print(res)\n",
    "    \n",
    "plt.figure(figsize=(10,5))\n",
    "plt.title('Max_Depth Result',fontsize=20)\n",
    "labels = '5','10', '15', '20', '25'\n",
    "plt.boxplot(res, labels = labels)\n",
    "plt.show()"
   ]
  },
  {
   "cell_type": "code",
   "execution_count": 72,
   "id": "6853071c",
   "metadata": {},
   "outputs": [
    {
     "name": "stdout",
     "output_type": "stream",
     "text": [
      "Index: 1, Time: 0.0758669376373291s, N_Estimators: 5, Accuracy: [0.86415094 0.88679245 0.8754717  0.89811321 0.86037736], Mean: 0.8769811320754718\n",
      "Index: 2, Time: 0.20339250564575195s, N_Estimators: 10, Accuracy: [0.86037736 0.88301887 0.89433962 0.92830189 0.86037736], Mean: 0.8852830188679246\n",
      "Index: 3, Time: 0.3731675148010254s, N_Estimators: 15, Accuracy: [0.8754717  0.89056604 0.89433962 0.91320755 0.85283019], Mean: 0.8852830188679246\n",
      "Index: 4, Time: 0.5834290981292725s, N_Estimators: 20, Accuracy: [0.86792453 0.87924528 0.89433962 0.91320755 0.85660377], Mean: 0.8822641509433964\n",
      "Index: 5, Time: 0.8423047065734863s, N_Estimators: 25, Accuracy: [0.87924528 0.88679245 0.88679245 0.91698113 0.86415094], Mean: 0.8867924528301888\n"
     ]
    },
    {
     "data": {
      "image/png": "[encoded data removed]",
      "text/plain": [
       "<Figure size 720x360 with 1 Axes>"
      ]
     },
     "metadata": {
      "needs_background": "light"
     },
     "output_type": "display_data"
    }
   ],
   "source": [
    "n_estimators_list = [5, 10 ,15 ,20 ,25]\n",
    "cnt = 0\n",
    "res = []\n",
    "start = time.time()\n",
    "\n",
    "for n_est in n_estimators_list:\n",
    "    cnt += 1\n",
    "    clf = RandomForestClassifier(n_estimators = n_est, random_state=0)\n",
    "    accuracy = cross_val_score(clf, X_train_pca, y_train, scoring='accuracy', cv=5)\n",
    "    print(f\"Index: {cnt}, Time: {time.time()-start}s, N_Estimators: {n_est}, Accuracy: {accuracy}, Mean: {np.mean(accuracy)}\")\n",
    "    res.append(accuracy)\n",
    "    # print(res)\n",
    "    \n",
    "plt.figure(figsize=(10,5))\n",
    "plt.title('N_Estimators Result',fontsize=20)\n",
    "labels = '5','10', '15', '20', '25'\n",
    "plt.boxplot(res, labels = labels)\n",
    "plt.show()"
   ]
  },
  {
   "cell_type": "markdown",
   "id": "c087c48d",
   "metadata": {},
   "source": [
    "## Method 4: Support Vector Machine"
   ]
  },
  {
   "cell_type": "code",
   "execution_count": 73,
   "id": "da2305e7",
   "metadata": {},
   "outputs": [
    {
     "name": "stdout",
     "output_type": "stream",
     "text": [
      "Index: 1, Time: 0.3765394687652588s, Kernel: linear, Accuracy: [0.8        0.82641509 0.83396226 0.83396226 0.85660377], Mean: 0.8301886792452831\n",
      "Index: 2, Time: 0.522885799407959s, Kernel: poly, Accuracy: [0.81132075 0.8490566  0.89811321 0.85660377 0.86415094], Mean: 0.8558490566037736\n",
      "Index: 3, Time: 0.6977322101593018s, Kernel: rbf, Accuracy: [0.90188679 0.88679245 0.9245283  0.92830189 0.88679245], Mean: 0.9056603773584907\n",
      "Index: 4, Time: 0.843604326248169s, Kernel: sigmoid, Accuracy: [0.68301887 0.76226415 0.71320755 0.7245283  0.74716981], Mean: 0.7260377358490565\n"
     ]
    },
    {
     "data": {
      "image/png": "[encoded data removed]",
      "text/plain": [
       "<Figure size 720x360 with 1 Axes>"
      ]
     },
     "metadata": {
      "needs_background": "light"
     },
     "output_type": "display_data"
    }
   ],
   "source": [
    "kernel_list = ['linear', 'poly', 'rbf', 'sigmoid']\n",
    "cnt = 0\n",
    "res = []\n",
    "start = time.time()\n",
    "\n",
    "for ker in kernel_list:\n",
    "    cnt += 1\n",
    "    clf = SVC(kernel=ker)\n",
    "    accuracy = cross_val_score(clf, X_train_pca, y_train, scoring='accuracy', cv=5)\n",
    "    print(f\"Index: {cnt}, Time: {time.time()-start}s, Kernel: {ker}, Accuracy: {accuracy}, Mean: {np.mean(accuracy)}\")\n",
    "    res.append(accuracy)\n",
    "    # print(res)\n",
    "    \n",
    "plt.figure(figsize=(10,5))\n",
    "plt.title('Kernel Result',fontsize=20)\n",
    "labels = 'linear', 'poly', 'rbf', 'sigmoid'\n",
    "plt.boxplot(res, labels = labels)\n",
    "plt.show()"
   ]
  },
  {
   "cell_type": "code",
   "execution_count": 74,
   "id": "7b26cff1",
   "metadata": {},
   "outputs": [
    {
     "name": "stdout",
     "output_type": "stream",
     "text": [
      "Index: 1, Time: 0.2530219554901123s, C: 0.2, Accuracy: [0.86792453 0.8754717  0.89811321 0.88301887 0.87169811], Mean: 0.879245283018868\n",
      "Index: 2, Time: 0.44567275047302246s, C: 0.4, Accuracy: [0.89811321 0.87924528 0.90943396 0.91320755 0.8754717 ], Mean: 0.8950943396226416\n",
      "Index: 3, Time: 0.6231131553649902s, C: 0.6, Accuracy: [0.89811321 0.88301887 0.91698113 0.91698113 0.88301887], Mean: 0.8996226415094339\n",
      "Index: 4, Time: 0.7848784923553467s, C: 0.8, Accuracy: [0.89811321 0.88301887 0.9245283  0.9245283  0.88679245], Mean: 0.9033962264150943\n",
      "Index: 5, Time: 0.9475076198577881s, C: 1.0, Accuracy: [0.90188679 0.88679245 0.9245283  0.92830189 0.88679245], Mean: 0.9056603773584907\n",
      "Index: 6, Time: 1.1026837825775146s, C: 1.2, Accuracy: [0.89811321 0.88301887 0.9245283  0.92830189 0.88679245], Mean: 0.9041509433962265\n",
      "Index: 7, Time: 1.2581114768981934s, C: 1.4, Accuracy: [0.89056604 0.88679245 0.9245283  0.92830189 0.87924528], Mean: 0.9018867924528303\n"
     ]
    },
    {
     "data": {
      "image/png": "[encoded data removed]",
      "text/plain": [
       "<Figure size 720x360 with 1 Axes>"
      ]
     },
     "metadata": {
      "needs_background": "light"
     },
     "output_type": "display_data"
    }
   ],
   "source": [
    "C_list = [0.2, 0.4, 0.6, 0.8, 1.0, 1.2, 1.4]\n",
    "cnt = 0\n",
    "res = []\n",
    "start = time.time()\n",
    "\n",
    "for c in C_list:\n",
    "    cnt += 1\n",
    "    clf = SVC(C = c, kernel = 'rbf')\n",
    "    accuracy = cross_val_score(clf, X_train_pca, y_train, scoring='accuracy', cv=5)\n",
    "    print(f\"Index: {cnt}, Time: {time.time()-start}s, C: {c}, Accuracy: {accuracy}, Mean: {np.mean(accuracy)}\")\n",
    "    res.append(accuracy)\n",
    "    # print(res)\n",
    "    \n",
    "plt.figure(figsize=(10,5))\n",
    "plt.title('C Result',fontsize=20)\n",
    "labels = '0.2', '0.4', '0.6', '0.8', '1.0', '1.2', '1.4'\n",
    "plt.boxplot(res, labels = labels)\n",
    "plt.show()"
   ]
  },
  {
   "cell_type": "code",
   "execution_count": null,
   "id": "e9c835d1",
   "metadata": {},
   "outputs": [],
   "source": []
  },
  {
   "cell_type": "code",
   "execution_count": null,
   "id": "56f16aca",
   "metadata": {},
   "outputs": [],
   "source": []
  },
  {
   "cell_type": "code",
   "execution_count": null,
   "id": "57787460",
   "metadata": {},
   "outputs": [],
   "source": []
  },
  {
   "cell_type": "code",
   "execution_count": null,
   "id": "2ee6edbc",
   "metadata": {},
   "outputs": [],
   "source": []
  },
  {
   "cell_type": "markdown",
   "id": "a7c128e0",
   "metadata": {},
   "source": [
    "# Pair 2: M and Y"
   ]
  },
  {
   "cell_type": "code",
   "execution_count": 29,
   "id": "50875034",
   "metadata": {},
   "outputs": [],
   "source": [
    "letter_recognition = pd.read_csv(\"letter-recognition.data\")\n",
    "letter_recognition = letter_recognition.values"
   ]
  },
  {
   "cell_type": "code",
   "execution_count": 30,
   "id": "4a0ba012",
   "metadata": {},
   "outputs": [],
   "source": [
    "M = letter_recognition[np.where(letter_recognition[:, 0] == 'M')]\n",
    "Y = letter_recognition[np.where(letter_recognition[:, 0] == 'Y')]\n",
    "Pair_2 = np.concatenate((M,Y))\n",
    "#print(Pair_2.shape)"
   ]
  },
  {
   "cell_type": "code",
   "execution_count": 31,
   "id": "68abae53",
   "metadata": {},
   "outputs": [],
   "source": [
    "X_train, X_val, y_train, y_val = train_test_split(Pair_2[:,1:], Pair_2[:,0], test_size=0.1, random_state=0)"
   ]
  },
  {
   "cell_type": "markdown",
   "id": "b8c0b936",
   "metadata": {},
   "source": [
    "## Method 1: KNN"
   ]
  },
  {
   "cell_type": "code",
   "execution_count": 32,
   "id": "8b551234",
   "metadata": {},
   "outputs": [
    {
     "name": "stdout",
     "output_type": "stream",
     "text": [
      "Index: 1, Time: 0.09773445129394531s, N_Neighbors: 1, Accuracy: [1. 1. 1. 1. 1.], Mean: 1.0\n",
      "Index: 2, Time: 0.20978069305419922s, N_Neighbors: 3, Accuracy: [1.         0.99647887 1.         0.99647887 1.        ], Mean: 0.9985915492957746\n",
      "Index: 3, Time: 0.32535576820373535s, N_Neighbors: 5, Accuracy: [1.         0.99647887 0.99647887 0.99647887 1.        ], Mean: 0.997887323943662\n",
      "Index: 4, Time: 0.44216442108154297s, N_Neighbors: 7, Accuracy: [1.         0.99647887 0.99647887 0.99647887 1.        ], Mean: 0.997887323943662\n",
      "Index: 5, Time: 0.5528223514556885s, N_Neighbors: 9, Accuracy: [1.         0.99647887 0.99647887 0.99647887 1.        ], Mean: 0.997887323943662\n"
     ]
    },
    {
     "data": {
      "image/png": "[encoded data removed]",
      "text/plain": [
       "<Figure size 720x360 with 1 Axes>"
      ]
     },
     "metadata": {
      "needs_background": "light"
     },
     "output_type": "display_data"
    }
   ],
   "source": [
    "n_neighbors_list = [1, 3, 5, 7, 9]\n",
    "cnt = 0\n",
    "res = []\n",
    "start = time.time()\n",
    "\n",
    "for nn in n_neighbors_list:\n",
    "    cnt += 1\n",
    "    clf = KNeighborsClassifier(n_neighbors=nn)\n",
    "    accuracy = cross_val_score(clf, X_train, y_train, scoring='accuracy', cv=5)\n",
    "    print(f\"Index: {cnt}, Time: {time.time()-start}s, N_Neighbors: {nn}, Accuracy: {accuracy}, Mean: {np.mean(accuracy)}\")\n",
    "    res.append(accuracy)\n",
    "    # print(res)\n",
    "    \n",
    "plt.figure(figsize=(10,5))\n",
    "plt.title('N_Neighbors Result',fontsize=20)\n",
    "labels = '1', '3', '5', '7', '9'\n",
    "plt.boxplot(res, labels = labels)\n",
    "plt.show()"
   ]
  },
  {
   "cell_type": "code",
   "execution_count": 33,
   "id": "a2c6b54b",
   "metadata": {},
   "outputs": [
    {
     "name": "stdout",
     "output_type": "stream",
     "text": [
      "Index: 1, Time: 0.1088569164276123s, Weights: uniform, Accuracy: [1.         0.99647887 0.99647887 0.99647887 1.        ], Mean: 0.997887323943662\n",
      "Index: 2, Time: 0.17501020431518555s, Weights: distance, Accuracy: [1.         0.99647887 0.99647887 0.99647887 1.        ], Mean: 0.997887323943662\n"
     ]
    },
    {
     "data": {
      "image/png": "[encoded data removed]",
      "text/plain": [
       "<Figure size 720x360 with 1 Axes>"
      ]
     },
     "metadata": {
      "needs_background": "light"
     },
     "output_type": "display_data"
    }
   ],
   "source": [
    "weights_list = ['uniform', 'distance']\n",
    "cnt = 0\n",
    "res = []\n",
    "start = time.time()\n",
    "\n",
    "for wei in weights_list:\n",
    "    cnt += 1\n",
    "    clf = KNeighborsClassifier(weights = wei)\n",
    "    accuracy = cross_val_score(clf, X_train, y_train, scoring='accuracy', cv=5)\n",
    "    print(f\"Index: {cnt}, Time: {time.time()-start}s, Weights: {wei}, Accuracy: {accuracy}, Mean: {np.mean(accuracy)}\")\n",
    "    res.append(accuracy)\n",
    "    # print(res)\n",
    "    \n",
    "plt.figure(figsize=(10,5))\n",
    "plt.title('Weights Result',fontsize=20)\n",
    "labels = 'uniform', 'distance'\n",
    "plt.boxplot(res, labels = labels)\n",
    "plt.show()"
   ]
  },
  {
   "cell_type": "code",
   "execution_count": 34,
   "id": "dd8861c1",
   "metadata": {},
   "outputs": [
    {
     "name": "stdout",
     "output_type": "stream",
     "text": [
      "Index: 1, Time: 0.10577869415283203s, Algorithm: auto, Accuracy: [1.         0.99647887 0.99647887 0.99647887 1.        ], Mean: 0.997887323943662\n",
      "Index: 2, Time: 0.22907233238220215s, Algorithm: ball_tree, Accuracy: [1.         0.99647887 0.99647887 0.99647887 1.        ], Mean: 0.997887323943662\n",
      "Index: 3, Time: 0.31717371940612793s, Algorithm: kd_tree, Accuracy: [1.         0.99647887 0.99647887 0.99647887 1.        ], Mean: 0.997887323943662\n",
      "Index: 4, Time: 0.4180622100830078s, Algorithm: brute, Accuracy: [1.         0.99647887 0.99647887 0.99647887 1.        ], Mean: 0.997887323943662\n"
     ]
    },
    {
     "data": {
      "image/png": "[encoded data removed]",
      "text/plain": [
       "<Figure size 720x360 with 1 Axes>"
      ]
     },
     "metadata": {
      "needs_background": "light"
     },
     "output_type": "display_data"
    }
   ],
   "source": [
    "algorithm_list = ['auto', 'ball_tree', 'kd_tree', 'brute']\n",
    "cnt = 0\n",
    "res = []\n",
    "start = time.time()\n",
    "\n",
    "for alg in algorithm_list:\n",
    "    cnt += 1\n",
    "    clf = KNeighborsClassifier(algorithm = alg)\n",
    "    accuracy = cross_val_score(clf, X_train, y_train, scoring='accuracy', cv=5)\n",
    "    print(f\"Index: {cnt}, Time: {time.time()-start}s, Algorithm: {alg}, Accuracy: {accuracy}, Mean: {np.mean(accuracy)}\")\n",
    "    res.append(accuracy)\n",
    "    # print(res)\n",
    "    \n",
    "plt.figure(figsize=(10,5))\n",
    "plt.title('Algorithm Result',fontsize=20)\n",
    "labels = 'auto', 'ball_tree', 'kd_tree', 'brute'\n",
    "plt.boxplot(res, labels = labels)\n",
    "plt.show()"
   ]
  },
  {
   "cell_type": "markdown",
   "id": "e94ab8b4",
   "metadata": {},
   "source": [
    "## Method 2: Decision Tree"
   ]
  },
  {
   "cell_type": "code",
   "execution_count": 35,
   "id": "7631626a",
   "metadata": {},
   "outputs": [
    {
     "name": "stdout",
     "output_type": "stream",
     "text": [
      "Index: 1, Time: 0.02558302879333496s, Criterion: gini, Accuracy: [0.98943662 0.97887324 0.97535211 0.98239437 0.98943662], Mean: 0.9830985915492958\n",
      "Index: 2, Time: 0.04862713813781738s, Criterion: entropy, Accuracy: [0.98943662 0.97887324 0.98943662 0.99647887 0.99647887], Mean: 0.9901408450704225\n",
      "Index: 3, Time: 0.06618475914001465s, Criterion: log_loss, Accuracy: [nan nan nan nan nan], Mean: nan\n"
     ]
    },
    {
     "name": "stderr",
     "output_type": "stream",
     "text": [
      "C:\\Users\\21742\\anaconda3\\lib\\site-packages\\sklearn\\model_selection\\_validation.py:372: FitFailedWarning: \n",
      "5 fits failed out of a total of 5.\n",
      "The score on these train-test partitions for these parameters will be set to nan.\n",
      "If these failures are not expected, you can try to debug them by setting error_score='raise'.\n",
      "\n",
      "Below are more details about the failures:\n",
      "--------------------------------------------------------------------------------\n",
      "5 fits failed with the following error:\n",
      "Traceback (most recent call last):\n",
      "  File \"C:\\Users\\21742\\anaconda3\\lib\\site-packages\\sklearn\\model_selection\\_validation.py\", line 680, in _fit_and_score\n",
      "    estimator.fit(X_train, y_train, **fit_params)\n",
      "  File \"C:\\Users\\21742\\anaconda3\\lib\\site-packages\\sklearn\\tree\\_classes.py\", line 937, in fit\n",
      "    super().fit(\n",
      "  File \"C:\\Users\\21742\\anaconda3\\lib\\site-packages\\sklearn\\tree\\_classes.py\", line 352, in fit\n",
      "    criterion = CRITERIA_CLF[self.criterion](\n",
      "KeyError: 'log_loss'\n",
      "\n",
      "  warnings.warn(some_fits_failed_message, FitFailedWarning)\n"
     ]
    },
    {
     "data": {
      "image/png": "[encoded data removed]",
      "text/plain": [
       "<Figure size 720x360 with 1 Axes>"
      ]
     },
     "metadata": {
      "needs_background": "light"
     },
     "output_type": "display_data"
    }
   ],
   "source": [
    "# criterion_list = ['gini', 'entropy']\n",
    "criterion_list = ['gini', 'entropy', 'log_loss']\n",
    "cnt = 0\n",
    "res = []\n",
    "start = time.time()\n",
    "\n",
    "for cri in criterion_list:\n",
    "    cnt += 1\n",
    "    clf = DecisionTreeClassifier(criterion=cri)\n",
    "    accuracy = cross_val_score(clf, X_train, y_train, scoring='accuracy', cv=5)\n",
    "    print(f\"Index: {cnt}, Time: {time.time()-start}s, Criterion: {cri}, Accuracy: {accuracy}, Mean: {np.mean(accuracy)}\")\n",
    "    res.append(accuracy)\n",
    "    # print(res)\n",
    "    \n",
    "plt.figure(figsize=(10,5))\n",
    "plt.title('Criterion Result',fontsize=20)\n",
    "labels = 'Gini','Entropy','Log_Loss'\n",
    "plt.boxplot(res, labels = labels)\n",
    "plt.show()"
   ]
  },
  {
   "cell_type": "code",
   "execution_count": 36,
   "id": "01203be9",
   "metadata": {},
   "outputs": [
    {
     "name": "stdout",
     "output_type": "stream",
     "text": [
      "Index: 1, Time: 0.02552318572998047s, Max_Depth: 5, Accuracy: [0.98943662 0.97887324 0.97535211 0.98591549 0.98943662], Mean: 0.9838028169014084\n",
      "Index: 2, Time: 0.04933953285217285s, Max_Depth: 10, Accuracy: [0.98943662 0.97887324 0.97887324 0.99295775 0.98943662], Mean: 0.9859154929577464\n",
      "Index: 3, Time: 0.07237505912780762s, Max_Depth: 15, Accuracy: [0.98943662 0.97887324 0.97887324 0.98591549 0.98943662], Mean: 0.984507042253521\n",
      "Index: 4, Time: 0.10048270225524902s, Max_Depth: 20, Accuracy: [0.98591549 0.97887324 0.97887324 0.98943662 0.99295775], Mean: 0.9852112676056338\n",
      "Index: 5, Time: 0.12402820587158203s, Max_Depth: 25, Accuracy: [0.98943662 0.97535211 0.97887324 0.97887324 0.99295775], Mean: 0.9830985915492958\n"
     ]
    },
    {
     "data": {
      "image/png": "[encoded data removed]",
      "text/plain": [
       "<Figure size 720x360 with 1 Axes>"
      ]
     },
     "metadata": {
      "needs_background": "light"
     },
     "output_type": "display_data"
    }
   ],
   "source": [
    "max_depth_list = [5, 10, 15, 20, 25]\n",
    "# max_depth_list = [10, 20, 30, 40, 50]\n",
    "cnt = 0\n",
    "res = []\n",
    "start = time.time()\n",
    "\n",
    "for max_d in max_depth_list:\n",
    "    cnt += 1\n",
    "    clf = DecisionTreeClassifier(max_depth = max_d)\n",
    "    accuracy = cross_val_score(clf, X_train, y_train, scoring='accuracy', cv=5)\n",
    "    print(f\"Index: {cnt}, Time: {time.time()-start}s, Max_Depth: {max_d}, Accuracy: {accuracy}, Mean: {np.mean(accuracy)}\")\n",
    "    res.append(accuracy)\n",
    "    # print(res)\n",
    "    \n",
    "plt.figure(figsize=(10,5))\n",
    "plt.title('Max_Depth Result',fontsize=20)\n",
    "labels = '5','10', '15', '20', '25'\n",
    "plt.boxplot(res, labels = labels)\n",
    "plt.show()"
   ]
  },
  {
   "cell_type": "markdown",
   "id": "ad18e855",
   "metadata": {},
   "source": [
    "## Method 3: Random Forest"
   ]
  },
  {
   "cell_type": "code",
   "execution_count": 37,
   "id": "deb3e9eb",
   "metadata": {},
   "outputs": [
    {
     "name": "stdout",
     "output_type": "stream",
     "text": [
      "Index: 1, Time: 0.8200390338897705s, Criterion: gini, Accuracy: [0.99295775 0.98591549 0.99295775 0.99647887 1.        ], Mean: 0.993661971830986\n",
      "Index: 2, Time: 1.6447949409484863s, Criterion: entropy, Accuracy: [0.99295775 0.99295775 0.99295775 0.99647887 1.        ], Mean: 0.9950704225352112\n",
      "Index: 3, Time: 1.8045339584350586s, Criterion: log_loss, Accuracy: [nan nan nan nan nan], Mean: nan\n"
     ]
    },
    {
     "name": "stderr",
     "output_type": "stream",
     "text": [
      "C:\\Users\\21742\\anaconda3\\lib\\site-packages\\sklearn\\model_selection\\_validation.py:372: FitFailedWarning: \n",
      "5 fits failed out of a total of 5.\n",
      "The score on these train-test partitions for these parameters will be set to nan.\n",
      "If these failures are not expected, you can try to debug them by setting error_score='raise'.\n",
      "\n",
      "Below are more details about the failures:\n",
      "--------------------------------------------------------------------------------\n",
      "5 fits failed with the following error:\n",
      "Traceback (most recent call last):\n",
      "  File \"C:\\Users\\21742\\anaconda3\\lib\\site-packages\\sklearn\\model_selection\\_validation.py\", line 680, in _fit_and_score\n",
      "    estimator.fit(X_train, y_train, **fit_params)\n",
      "  File \"C:\\Users\\21742\\anaconda3\\lib\\site-packages\\sklearn\\ensemble\\_forest.py\", line 450, in fit\n",
      "    trees = Parallel(\n",
      "  File \"C:\\Users\\21742\\anaconda3\\lib\\site-packages\\joblib\\parallel.py\", line 1043, in __call__\n",
      "    if self.dispatch_one_batch(iterator):\n",
      "  File \"C:\\Users\\21742\\anaconda3\\lib\\site-packages\\joblib\\parallel.py\", line 861, in dispatch_one_batch\n",
      "    self._dispatch(tasks)\n",
      "  File \"C:\\Users\\21742\\anaconda3\\lib\\site-packages\\joblib\\parallel.py\", line 779, in _dispatch\n",
      "    job = self._backend.apply_async(batch, callback=cb)\n",
      "  File \"C:\\Users\\21742\\anaconda3\\lib\\site-packages\\joblib\\_parallel_backends.py\", line 208, in apply_async\n",
      "    result = ImmediateResult(func)\n",
      "  File \"C:\\Users\\21742\\anaconda3\\lib\\site-packages\\joblib\\_parallel_backends.py\", line 572, in __init__\n",
      "    self.results = batch()\n",
      "  File \"C:\\Users\\21742\\anaconda3\\lib\\site-packages\\joblib\\parallel.py\", line 262, in __call__\n",
      "    return [func(*args, **kwargs)\n",
      "  File \"C:\\Users\\21742\\anaconda3\\lib\\site-packages\\joblib\\parallel.py\", line 262, in <listcomp>\n",
      "    return [func(*args, **kwargs)\n",
      "  File \"C:\\Users\\21742\\anaconda3\\lib\\site-packages\\sklearn\\utils\\fixes.py\", line 216, in __call__\n",
      "    return self.function(*args, **kwargs)\n",
      "  File \"C:\\Users\\21742\\anaconda3\\lib\\site-packages\\sklearn\\ensemble\\_forest.py\", line 185, in _parallel_build_trees\n",
      "    tree.fit(X, y, sample_weight=curr_sample_weight, check_input=False)\n",
      "  File \"C:\\Users\\21742\\anaconda3\\lib\\site-packages\\sklearn\\tree\\_classes.py\", line 937, in fit\n",
      "    super().fit(\n",
      "  File \"C:\\Users\\21742\\anaconda3\\lib\\site-packages\\sklearn\\tree\\_classes.py\", line 352, in fit\n",
      "    criterion = CRITERIA_CLF[self.criterion](\n",
      "KeyError: 'log_loss'\n",
      "\n",
      "  warnings.warn(some_fits_failed_message, FitFailedWarning)\n"
     ]
    },
    {
     "data": {
      "image/png": "[encoded data removed]",
      "text/plain": [
       "<Figure size 720x360 with 1 Axes>"
      ]
     },
     "metadata": {
      "needs_background": "light"
     },
     "output_type": "display_data"
    }
   ],
   "source": [
    "# criterion_list = ['gini', 'entropy']\n",
    "criterion_list = ['gini', 'entropy', 'log_loss']\n",
    "cnt = 0\n",
    "res = []\n",
    "start = time.time()\n",
    "\n",
    "for cri in criterion_list:\n",
    "    cnt += 1\n",
    "    clf = RandomForestClassifier(criterion = cri, random_state=0)\n",
    "    accuracy = cross_val_score(clf, X_train, y_train, scoring='accuracy', cv=5)\n",
    "    print(f\"Index: {cnt}, Time: {time.time()-start}s, Criterion: {cri}, Accuracy: {accuracy}, Mean: {np.mean(accuracy)}\")\n",
    "    res.append(accuracy)\n",
    "    # print(res)\n",
    "    \n",
    "plt.figure(figsize=(10,5))\n",
    "plt.title('Criterion Result',fontsize=20)\n",
    "labels = 'Gini','Entropy','Log_Loss'\n",
    "plt.boxplot(res, labels = labels)\n",
    "plt.show()"
   ]
  },
  {
   "cell_type": "code",
   "execution_count": 38,
   "id": "e20e0ff7",
   "metadata": {},
   "outputs": [
    {
     "name": "stdout",
     "output_type": "stream",
     "text": [
      "Index: 1, Time: 0.6675384044647217s, Max_Depth: 2, Accuracy: [0.98239437 0.97535211 0.97183099 0.97535211 0.98239437], Mean: 0.9774647887323944\n",
      "Index: 2, Time: 1.369936227798462s, Max_Depth: 4, Accuracy: [0.99295775 0.98943662 0.98943662 0.99647887 0.99647887], Mean: 0.9929577464788732\n",
      "Index: 3, Time: 2.075019121170044s, Max_Depth: 6, Accuracy: [0.99647887 0.99295775 0.99295775 0.99647887 1.        ], Mean: 0.995774647887324\n",
      "Index: 4, Time: 2.7920756340026855s, Max_Depth: 8, Accuracy: [0.99295775 0.98591549 0.99295775 0.99647887 1.        ], Mean: 0.993661971830986\n",
      "Index: 5, Time: 3.500323534011841s, Max_Depth: 10, Accuracy: [0.99295775 0.98591549 0.99295775 0.99647887 1.        ], Mean: 0.993661971830986\n"
     ]
    },
    {
     "data": {
      "image/png": "[encoded data removed]",
      "text/plain": [
       "<Figure size 720x360 with 1 Axes>"
      ]
     },
     "metadata": {
      "needs_background": "light"
     },
     "output_type": "display_data"
    }
   ],
   "source": [
    "max_depth_list = [2, 4, 6, 8, 10]\n",
    "# max_depth_list = [5, 10, 15, 20, 25]\n",
    "# max_depth_list = [10, 20, 30, 40, 50]\n",
    "cnt = 0\n",
    "res = []\n",
    "start = time.time()\n",
    "\n",
    "for max_d in max_depth_list:\n",
    "    cnt += 1\n",
    "    clf = RandomForestClassifier(max_depth=max_d, random_state=0)\n",
    "    accuracy = cross_val_score(clf, X_train, y_train, scoring='accuracy', cv=5)\n",
    "    print(f\"Index: {cnt}, Time: {time.time()-start}s, Max_Depth: {max_d}, Accuracy: {accuracy}, Mean: {np.mean(accuracy)}\")\n",
    "    res.append(accuracy)\n",
    "    # print(res)\n",
    "    \n",
    "plt.figure(figsize=(10,5))\n",
    "plt.title('Max Depth Result',fontsize=20)\n",
    "labels = '2','4', 6, '8', '10'\n",
    "plt.boxplot(res, labels = labels)\n",
    "plt.show()"
   ]
  },
  {
   "cell_type": "code",
   "execution_count": 39,
   "id": "ebf37dee",
   "metadata": {},
   "outputs": [
    {
     "name": "stdout",
     "output_type": "stream",
     "text": [
      "Index: 1, Time: 0.05979466438293457s, N_Estimators: 5, Accuracy: [0.99295775 0.98591549 0.98943662 0.99295775 0.99647887], Mean: 0.991549295774648\n",
      "Index: 2, Time: 0.15778374671936035s, N_Estimators: 10, Accuracy: [1.         0.98591549 0.99647887 0.99647887 0.99647887], Mean: 0.9950704225352112\n",
      "Index: 3, Time: 0.2792792320251465s, N_Estimators: 15, Accuracy: [1.         0.98943662 0.99295775 0.99647887 1.        ], Mean: 0.995774647887324\n",
      "Index: 4, Time: 0.442626953125s, N_Estimators: 20, Accuracy: [1.         0.98943662 0.99295775 0.99647887 1.        ], Mean: 0.995774647887324\n",
      "Index: 5, Time: 0.6407496929168701s, N_Estimators: 25, Accuracy: [1.         0.98591549 0.98943662 0.99647887 1.        ], Mean: 0.9943661971830986\n"
     ]
    },
    {
     "data": {
      "image/png": "[encoded data removed]",
      "text/plain": [
       "<Figure size 720x360 with 1 Axes>"
      ]
     },
     "metadata": {
      "needs_background": "light"
     },
     "output_type": "display_data"
    }
   ],
   "source": [
    "n_estimators_list = [5, 10 ,15 ,20 ,25]\n",
    "cnt = 0\n",
    "res = []\n",
    "start = time.time()\n",
    "\n",
    "for n_est in n_estimators_list:\n",
    "    cnt += 1\n",
    "    clf = RandomForestClassifier(n_estimators = n_est, random_state=0)\n",
    "    accuracy = cross_val_score(clf, X_train, y_train, scoring='accuracy', cv=5)\n",
    "    print(f\"Index: {cnt}, Time: {time.time()-start}s, N_Estimators: {n_est}, Accuracy: {accuracy}, Mean: {np.mean(accuracy)}\")\n",
    "    res.append(accuracy)\n",
    "    # print(res)\n",
    "    \n",
    "plt.figure(figsize=(10,5))\n",
    "plt.title('N_Estimators Result',fontsize=20)\n",
    "labels = '5','10', '15', '20', '25'\n",
    "plt.boxplot(res, labels = labels)\n",
    "plt.show()"
   ]
  },
  {
   "cell_type": "markdown",
   "id": "f1d71693",
   "metadata": {},
   "source": [
    "## Method 4: Support Vector Machine"
   ]
  },
  {
   "cell_type": "code",
   "execution_count": 40,
   "id": "16ee3e29",
   "metadata": {},
   "outputs": [
    {
     "name": "stdout",
     "output_type": "stream",
     "text": [
      "Index: 1, Time: 0.052066802978515625s, Kernel: linear, Accuracy: [0.99647887 1.         0.99647887 0.99647887 1.        ], Mean: 0.997887323943662\n",
      "Index: 2, Time: 0.10126042366027832s, Kernel: poly, Accuracy: [1.         1.         0.99647887 1.         1.        ], Mean: 0.9992957746478872\n",
      "Index: 3, Time: 0.1571638584136963s, Kernel: rbf, Accuracy: [1.         0.99647887 0.99295775 0.99647887 1.        ], Mean: 0.9971830985915492\n",
      "Index: 4, Time: 0.694793701171875s, Kernel: sigmoid, Accuracy: [0.66549296 0.65140845 0.6443662  0.65140845 0.65492958], Mean: 0.6535211267605634\n"
     ]
    },
    {
     "data": {
      "image/png": "[encoded data removed]",
      "text/plain": [
       "<Figure size 720x360 with 1 Axes>"
      ]
     },
     "metadata": {
      "needs_background": "light"
     },
     "output_type": "display_data"
    }
   ],
   "source": [
    "kernel_list = ['linear', 'poly', 'rbf', 'sigmoid']\n",
    "cnt = 0\n",
    "res = []\n",
    "start = time.time()\n",
    "\n",
    "for ker in kernel_list:\n",
    "    cnt += 1\n",
    "    clf = SVC(kernel=ker)\n",
    "    accuracy = cross_val_score(clf, X_train, y_train, scoring='accuracy', cv=5)\n",
    "    print(f\"Index: {cnt}, Time: {time.time()-start}s, Kernel: {ker}, Accuracy: {accuracy}, Mean: {np.mean(accuracy)}\")\n",
    "    res.append(accuracy)\n",
    "    # print(res)\n",
    "    \n",
    "plt.figure(figsize=(10,5))\n",
    "plt.title('Kernel Result',fontsize=20)\n",
    "labels = 'linear', 'poly', 'rbf', 'sigmoid'\n",
    "plt.boxplot(res, labels = labels)\n",
    "plt.show()"
   ]
  },
  {
   "cell_type": "code",
   "execution_count": 41,
   "id": "a1179999",
   "metadata": {},
   "outputs": [
    {
     "name": "stdout",
     "output_type": "stream",
     "text": [
      "Index: 1, Time: 0.0931997299194336s, C: 0.2, Accuracy: [1.         0.99295775 0.99295775 0.99647887 0.99647887], Mean: 0.995774647887324\n",
      "Index: 2, Time: 0.16787505149841309s, C: 0.4, Accuracy: [1.         0.99647887 0.99295775 0.99647887 1.        ], Mean: 0.9971830985915492\n",
      "Index: 3, Time: 0.2281661033630371s, C: 0.6, Accuracy: [1.         0.99647887 0.99295775 0.99647887 1.        ], Mean: 0.9971830985915492\n",
      "Index: 4, Time: 0.2833731174468994s, C: 0.8, Accuracy: [1.         0.99647887 0.99295775 0.99647887 1.        ], Mean: 0.9971830985915492\n",
      "Index: 5, Time: 0.34211206436157227s, C: 1.0, Accuracy: [1.         0.99647887 0.99295775 0.99647887 1.        ], Mean: 0.9971830985915492\n",
      "Index: 6, Time: 0.39303135871887207s, C: 1.2, Accuracy: [1.         0.99647887 0.99295775 0.99647887 1.        ], Mean: 0.9971830985915492\n",
      "Index: 7, Time: 0.44352197647094727s, C: 1.4, Accuracy: [1.         0.99647887 0.99295775 0.99647887 1.        ], Mean: 0.9971830985915492\n"
     ]
    },
    {
     "data": {
      "image/png": "[encoded data removed]",
      "text/plain": [
       "<Figure size 720x360 with 1 Axes>"
      ]
     },
     "metadata": {
      "needs_background": "light"
     },
     "output_type": "display_data"
    }
   ],
   "source": [
    "C_list = [0.2, 0.4, 0.6, 0.8, 1.0, 1.2, 1.4]\n",
    "cnt = 0\n",
    "res = []\n",
    "start = time.time()\n",
    "\n",
    "for c in C_list:\n",
    "    cnt += 1\n",
    "    clf = SVC(C = c, kernel = 'rbf')\n",
    "    accuracy = cross_val_score(clf, X_train, y_train, scoring='accuracy', cv=5)\n",
    "    print(f\"Index: {cnt}, Time: {time.time()-start}s, C: {c}, Accuracy: {accuracy}, Mean: {np.mean(accuracy)}\")\n",
    "    res.append(accuracy)\n",
    "    # print(res)\n",
    "    \n",
    "plt.figure(figsize=(10,5))\n",
    "plt.title('C Result',fontsize=20)\n",
    "labels = '0.2', '0.4', '0.6', '0.8', '1.0', '1.2', '1.4'\n",
    "plt.boxplot(res, labels = labels)\n",
    "plt.show()"
   ]
  },
  {
   "cell_type": "markdown",
   "id": "5da49e59",
   "metadata": {},
   "source": [
    "# Feature extraction (PCA)"
   ]
  },
  {
   "cell_type": "code",
   "execution_count": 75,
   "id": "f3579a8e",
   "metadata": {},
   "outputs": [],
   "source": [
    "letter_recognition = pd.read_csv(\"letter-recognition.data\")\n",
    "letter_recognition = letter_recognition.values"
   ]
  },
  {
   "cell_type": "code",
   "execution_count": 76,
   "id": "507df197",
   "metadata": {},
   "outputs": [],
   "source": [
    "M = letter_recognition[np.where(letter_recognition[:, 0] == 'M')]\n",
    "Y = letter_recognition[np.where(letter_recognition[:, 0] == 'Y')]\n",
    "Pair_2 = np.concatenate((M,Y))"
   ]
  },
  {
   "cell_type": "code",
   "execution_count": 77,
   "id": "26309dab",
   "metadata": {},
   "outputs": [],
   "source": [
    "X_train, X_val, y_train, y_val = train_test_split(Pair_2[:,1:], Pair_2[:,0], test_size=0.1, random_state=0)"
   ]
  },
  {
   "cell_type": "code",
   "execution_count": 78,
   "id": "b515a865",
   "metadata": {},
   "outputs": [],
   "source": [
    "pca = PCA(n_components=4)\n",
    "X_train_pca = pca.fit_transform(X_train)\n",
    "# print(pca_result.shape)"
   ]
  },
  {
   "cell_type": "markdown",
   "id": "e7860844",
   "metadata": {},
   "source": [
    "## Method 1: KNN"
   ]
  },
  {
   "cell_type": "code",
   "execution_count": 79,
   "id": "373ff3b8",
   "metadata": {},
   "outputs": [
    {
     "name": "stdout",
     "output_type": "stream",
     "text": [
      "Index: 1, Time: 0.05613565444946289s, N_Neighbors: 1, Accuracy: [0.96830986 0.97535211 0.98591549 0.98943662 0.98239437], Mean: 0.9802816901408452\n",
      "Index: 2, Time: 0.11540365219116211s, N_Neighbors: 3, Accuracy: [0.96830986 0.97887324 0.98943662 0.98591549 0.98239437], Mean: 0.9809859154929578\n",
      "Index: 3, Time: 0.17307281494140625s, N_Neighbors: 5, Accuracy: [0.97535211 0.97183099 0.98239437 0.98591549 0.99295775], Mean: 0.9816901408450704\n",
      "Index: 4, Time: 0.2299184799194336s, N_Neighbors: 7, Accuracy: [0.97183099 0.97183099 0.97535211 0.98591549 0.99295775], Mean: 0.9795774647887324\n",
      "Index: 5, Time: 0.2881200313568115s, N_Neighbors: 9, Accuracy: [0.96830986 0.96830986 0.97535211 0.98591549 0.98943662], Mean: 0.9774647887323944\n"
     ]
    },
    {
     "data": {
      "image/png": "[encoded data removed]",
      "text/plain": [
       "<Figure size 720x360 with 1 Axes>"
      ]
     },
     "metadata": {
      "needs_background": "light"
     },
     "output_type": "display_data"
    }
   ],
   "source": [
    "n_neighbors_list = [1, 3, 5, 7, 9]\n",
    "cnt = 0\n",
    "res = []\n",
    "start = time.time()\n",
    "\n",
    "for nn in n_neighbors_list:\n",
    "    cnt += 1\n",
    "    clf = KNeighborsClassifier(n_neighbors=nn)\n",
    "    accuracy = cross_val_score(clf, X_train_pca, y_train, scoring='accuracy', cv=5)\n",
    "    print(f\"Index: {cnt}, Time: {time.time()-start}s, N_Neighbors: {nn}, Accuracy: {accuracy}, Mean: {np.mean(accuracy)}\")\n",
    "    res.append(accuracy)\n",
    "    # print(res)\n",
    "    \n",
    "plt.figure(figsize=(10,5))\n",
    "plt.title('N_Neighbors Result',fontsize=20)\n",
    "labels = '1', '3', '5', '7', '9'\n",
    "plt.boxplot(res, labels = labels)\n",
    "plt.show()"
   ]
  },
  {
   "cell_type": "code",
   "execution_count": 80,
   "id": "225c82ab",
   "metadata": {},
   "outputs": [
    {
     "name": "stdout",
     "output_type": "stream",
     "text": [
      "Index: 1, Time: 0.057775259017944336s, Weights: uniform, Accuracy: [0.97535211 0.97183099 0.98239437 0.98591549 0.99295775], Mean: 0.9816901408450704\n",
      "Index: 2, Time: 0.07883882522583008s, Weights: distance, Accuracy: [0.97535211 0.97183099 0.98591549 0.98591549 0.98943662], Mean: 0.9816901408450704\n"
     ]
    },
    {
     "data": {
      "image/png": "[encoded data removed]",
      "text/plain": [
       "<Figure size 720x360 with 1 Axes>"
      ]
     },
     "metadata": {
      "needs_background": "light"
     },
     "output_type": "display_data"
    }
   ],
   "source": [
    "weights_list = ['uniform', 'distance']\n",
    "cnt = 0\n",
    "res = []\n",
    "start = time.time()\n",
    "\n",
    "for wei in weights_list:\n",
    "    cnt += 1\n",
    "    clf = KNeighborsClassifier(weights = wei)\n",
    "    accuracy = cross_val_score(clf, X_train_pca, y_train, scoring='accuracy', cv=5)\n",
    "    print(f\"Index: {cnt}, Time: {time.time()-start}s, Weights: {wei}, Accuracy: {accuracy}, Mean: {np.mean(accuracy)}\")\n",
    "    res.append(accuracy)\n",
    "    # print(res)\n",
    "    \n",
    "plt.figure(figsize=(10,5))\n",
    "plt.title('Weights Result',fontsize=20)\n",
    "labels = 'uniform', 'distance'\n",
    "plt.boxplot(res, labels = labels)\n",
    "plt.show()"
   ]
  },
  {
   "cell_type": "code",
   "execution_count": 81,
   "id": "97c8f903",
   "metadata": {},
   "outputs": [
    {
     "name": "stdout",
     "output_type": "stream",
     "text": [
      "Index: 1, Time: 0.16573119163513184s, Algorithm: auto, Accuracy: [0.97535211 0.97183099 0.98239437 0.98591549 0.99295775], Mean: 0.9816901408450704\n",
      "Index: 2, Time: 0.22500181198120117s, Algorithm: ball_tree, Accuracy: [0.97535211 0.97183099 0.98239437 0.98591549 0.99295775], Mean: 0.9816901408450704\n",
      "Index: 3, Time: 0.27559685707092285s, Algorithm: kd_tree, Accuracy: [0.97535211 0.97183099 0.98239437 0.98591549 0.99295775], Mean: 0.9816901408450704\n",
      "Index: 4, Time: 0.3667747974395752s, Algorithm: brute, Accuracy: [0.97535211 0.97183099 0.98239437 0.98591549 0.99295775], Mean: 0.9816901408450704\n"
     ]
    },
    {
     "data": {
      "image/png": "[encoded data removed]",
      "text/plain": [
       "<Figure size 720x360 with 1 Axes>"
      ]
     },
     "metadata": {
      "needs_background": "light"
     },
     "output_type": "display_data"
    }
   ],
   "source": [
    "algorithm_list = ['auto', 'ball_tree', 'kd_tree', 'brute']\n",
    "cnt = 0\n",
    "res = []\n",
    "start = time.time()\n",
    "\n",
    "for alg in algorithm_list:\n",
    "    cnt += 1\n",
    "    clf = KNeighborsClassifier(algorithm = alg)\n",
    "    accuracy = cross_val_score(clf, X_train_pca, y_train, scoring='accuracy', cv=5)\n",
    "    print(f\"Index: {cnt}, Time: {time.time()-start}s, Algorithm: {alg}, Accuracy: {accuracy}, Mean: {np.mean(accuracy)}\")\n",
    "    res.append(accuracy)\n",
    "    # print(res)\n",
    "    \n",
    "plt.figure(figsize=(10,5))\n",
    "plt.title('Algorithm Result',fontsize=20)\n",
    "labels = 'auto', 'ball_tree', 'kd_tree', 'brute'\n",
    "plt.boxplot(res, labels = labels)\n",
    "plt.show()"
   ]
  },
  {
   "cell_type": "markdown",
   "id": "15f0ae92",
   "metadata": {},
   "source": [
    "## Method 2: Decision Tree"
   ]
  },
  {
   "cell_type": "code",
   "execution_count": 82,
   "id": "5efe7de1",
   "metadata": {},
   "outputs": [
    {
     "name": "stdout",
     "output_type": "stream",
     "text": [
      "Index: 1, Time: 0.023069381713867188s, Criterion: gini, Accuracy: [0.9471831  0.96830986 0.96478873 0.96478873 0.96830986], Mean: 0.9626760563380282\n",
      "Index: 2, Time: 0.05420517921447754s, Criterion: entropy, Accuracy: [0.96126761 0.96126761 0.95774648 0.98239437 0.97535211], Mean: 0.9676056338028168\n",
      "Index: 3, Time: 0.06736135482788086s, Criterion: log_loss, Accuracy: [nan nan nan nan nan], Mean: nan\n"
     ]
    },
    {
     "name": "stderr",
     "output_type": "stream",
     "text": [
      "C:\\Users\\21742\\anaconda3\\lib\\site-packages\\sklearn\\model_selection\\_validation.py:372: FitFailedWarning: \n",
      "5 fits failed out of a total of 5.\n",
      "The score on these train-test partitions for these parameters will be set to nan.\n",
      "If these failures are not expected, you can try to debug them by setting error_score='raise'.\n",
      "\n",
      "Below are more details about the failures:\n",
      "--------------------------------------------------------------------------------\n",
      "5 fits failed with the following error:\n",
      "Traceback (most recent call last):\n",
      "  File \"C:\\Users\\21742\\anaconda3\\lib\\site-packages\\sklearn\\model_selection\\_validation.py\", line 680, in _fit_and_score\n",
      "    estimator.fit(X_train, y_train, **fit_params)\n",
      "  File \"C:\\Users\\21742\\anaconda3\\lib\\site-packages\\sklearn\\tree\\_classes.py\", line 937, in fit\n",
      "    super().fit(\n",
      "  File \"C:\\Users\\21742\\anaconda3\\lib\\site-packages\\sklearn\\tree\\_classes.py\", line 352, in fit\n",
      "    criterion = CRITERIA_CLF[self.criterion](\n",
      "KeyError: 'log_loss'\n",
      "\n",
      "  warnings.warn(some_fits_failed_message, FitFailedWarning)\n"
     ]
    },
    {
     "data": {
      "image/png": "[encoded data removed]",
      "text/plain": [
       "<Figure size 720x360 with 1 Axes>"
      ]
     },
     "metadata": {
      "needs_background": "light"
     },
     "output_type": "display_data"
    }
   ],
   "source": [
    "# criterion_list = ['gini', 'entropy']\n",
    "criterion_list = ['gini', 'entropy', 'log_loss']\n",
    "cnt = 0\n",
    "res = []\n",
    "start = time.time()\n",
    "\n",
    "for cri in criterion_list:\n",
    "    cnt += 1\n",
    "    clf = DecisionTreeClassifier(criterion=cri)\n",
    "    accuracy = cross_val_score(clf, X_train_pca, y_train, scoring='accuracy', cv=5)\n",
    "    print(f\"Index: {cnt}, Time: {time.time()-start}s, Criterion: {cri}, Accuracy: {accuracy}, Mean: {np.mean(accuracy)}\")\n",
    "    res.append(accuracy)\n",
    "    # print(res)\n",
    "    \n",
    "plt.figure(figsize=(10,5))\n",
    "plt.title('Criterion Result',fontsize=20)\n",
    "labels = 'Gini','Entropy','Log_Loss'\n",
    "plt.boxplot(res, labels = labels)\n",
    "plt.show()"
   ]
  },
  {
   "cell_type": "code",
   "execution_count": 83,
   "id": "280e5293",
   "metadata": {},
   "outputs": [
    {
     "name": "stdout",
     "output_type": "stream",
     "text": [
      "Index: 1, Time: 0.027773380279541016s, Max_Depth: 5, Accuracy: [0.95422535 0.97535211 0.96830986 0.96830986 0.97183099], Mean: 0.9676056338028168\n",
      "Index: 2, Time: 0.051258087158203125s, Max_Depth: 10, Accuracy: [0.95070423 0.97535211 0.97183099 0.97535211 0.96478873], Mean: 0.967605633802817\n",
      "Index: 3, Time: 0.07297992706298828s, Max_Depth: 15, Accuracy: [0.95070423 0.97535211 0.97535211 0.97535211 0.96830986], Mean: 0.9690140845070424\n",
      "Index: 4, Time: 0.09600329399108887s, Max_Depth: 20, Accuracy: [0.95774648 0.97183099 0.95422535 0.96830986 0.96830986], Mean: 0.9640845070422536\n",
      "Index: 5, Time: 0.12115621566772461s, Max_Depth: 25, Accuracy: [0.94366197 0.97535211 0.96830986 0.97535211 0.96830986], Mean: 0.9661971830985916\n"
     ]
    },
    {
     "data": {
      "image/png": "[encoded data removed]",
      "text/plain": [
       "<Figure size 720x360 with 1 Axes>"
      ]
     },
     "metadata": {
      "needs_background": "light"
     },
     "output_type": "display_data"
    }
   ],
   "source": [
    "max_depth_list = [5, 10, 15, 20, 25]\n",
    "# max_depth_list = [10, 20, 30, 40, 50]\n",
    "cnt = 0\n",
    "res = []\n",
    "start = time.time()\n",
    "\n",
    "for max_d in max_depth_list:\n",
    "    cnt += 1\n",
    "    clf = DecisionTreeClassifier(max_depth = max_d)\n",
    "    accuracy = cross_val_score(clf, X_train_pca, y_train, scoring='accuracy', cv=5)\n",
    "    print(f\"Index: {cnt}, Time: {time.time()-start}s, Max_Depth: {max_d}, Accuracy: {accuracy}, Mean: {np.mean(accuracy)}\")\n",
    "    res.append(accuracy)\n",
    "    # print(res)\n",
    "    \n",
    "plt.figure(figsize=(10,5))\n",
    "plt.title('Max_Depth Result',fontsize=20)\n",
    "labels = '5','10', '15', '20', '25'\n",
    "plt.boxplot(res, labels = labels)\n",
    "plt.show()"
   ]
  },
  {
   "cell_type": "markdown",
   "id": "35a26b3d",
   "metadata": {},
   "source": [
    "## Method 3: Random Forest"
   ]
  },
  {
   "cell_type": "code",
   "execution_count": 84,
   "id": "4522d5a3",
   "metadata": {},
   "outputs": [
    {
     "name": "stdout",
     "output_type": "stream",
     "text": [
      "Index: 1, Time: 0.9141340255737305s, Criterion: gini, Accuracy: [0.97535211 0.97183099 0.97183099 0.98591549 0.98239437], Mean: 0.9774647887323944\n",
      "Index: 2, Time: 1.9530558586120605s, Criterion: entropy, Accuracy: [0.97535211 0.97535211 0.97887324 0.98239437 0.98239437], Mean: 0.9788732394366197\n",
      "Index: 3, Time: 2.0997142791748047s, Criterion: log_loss, Accuracy: [nan nan nan nan nan], Mean: nan\n"
     ]
    },
    {
     "name": "stderr",
     "output_type": "stream",
     "text": [
      "C:\\Users\\21742\\anaconda3\\lib\\site-packages\\sklearn\\model_selection\\_validation.py:372: FitFailedWarning: \n",
      "5 fits failed out of a total of 5.\n",
      "The score on these train-test partitions for these parameters will be set to nan.\n",
      "If these failures are not expected, you can try to debug them by setting error_score='raise'.\n",
      "\n",
      "Below are more details about the failures:\n",
      "--------------------------------------------------------------------------------\n",
      "5 fits failed with the following error:\n",
      "Traceback (most recent call last):\n",
      "  File \"C:\\Users\\21742\\anaconda3\\lib\\site-packages\\sklearn\\model_selection\\_validation.py\", line 680, in _fit_and_score\n",
      "    estimator.fit(X_train, y_train, **fit_params)\n",
      "  File \"C:\\Users\\21742\\anaconda3\\lib\\site-packages\\sklearn\\ensemble\\_forest.py\", line 450, in fit\n",
      "    trees = Parallel(\n",
      "  File \"C:\\Users\\21742\\anaconda3\\lib\\site-packages\\joblib\\parallel.py\", line 1043, in __call__\n",
      "    if self.dispatch_one_batch(iterator):\n",
      "  File \"C:\\Users\\21742\\anaconda3\\lib\\site-packages\\joblib\\parallel.py\", line 861, in dispatch_one_batch\n",
      "    self._dispatch(tasks)\n",
      "  File \"C:\\Users\\21742\\anaconda3\\lib\\site-packages\\joblib\\parallel.py\", line 779, in _dispatch\n",
      "    job = self._backend.apply_async(batch, callback=cb)\n",
      "  File \"C:\\Users\\21742\\anaconda3\\lib\\site-packages\\joblib\\_parallel_backends.py\", line 208, in apply_async\n",
      "    result = ImmediateResult(func)\n",
      "  File \"C:\\Users\\21742\\anaconda3\\lib\\site-packages\\joblib\\_parallel_backends.py\", line 572, in __init__\n",
      "    self.results = batch()\n",
      "  File \"C:\\Users\\21742\\anaconda3\\lib\\site-packages\\joblib\\parallel.py\", line 262, in __call__\n",
      "    return [func(*args, **kwargs)\n",
      "  File \"C:\\Users\\21742\\anaconda3\\lib\\site-packages\\joblib\\parallel.py\", line 262, in <listcomp>\n",
      "    return [func(*args, **kwargs)\n",
      "  File \"C:\\Users\\21742\\anaconda3\\lib\\site-packages\\sklearn\\utils\\fixes.py\", line 216, in __call__\n",
      "    return self.function(*args, **kwargs)\n",
      "  File \"C:\\Users\\21742\\anaconda3\\lib\\site-packages\\sklearn\\ensemble\\_forest.py\", line 185, in _parallel_build_trees\n",
      "    tree.fit(X, y, sample_weight=curr_sample_weight, check_input=False)\n",
      "  File \"C:\\Users\\21742\\anaconda3\\lib\\site-packages\\sklearn\\tree\\_classes.py\", line 937, in fit\n",
      "    super().fit(\n",
      "  File \"C:\\Users\\21742\\anaconda3\\lib\\site-packages\\sklearn\\tree\\_classes.py\", line 352, in fit\n",
      "    criterion = CRITERIA_CLF[self.criterion](\n",
      "KeyError: 'log_loss'\n",
      "\n",
      "  warnings.warn(some_fits_failed_message, FitFailedWarning)\n"
     ]
    },
    {
     "data": {
      "image/png": "[encoded data removed]",
      "text/plain": [
       "<Figure size 720x360 with 1 Axes>"
      ]
     },
     "metadata": {
      "needs_background": "light"
     },
     "output_type": "display_data"
    }
   ],
   "source": [
    "# criterion_list = ['gini', 'entropy']\n",
    "criterion_list = ['gini', 'entropy', 'log_loss']\n",
    "cnt = 0\n",
    "res = []\n",
    "start = time.time()\n",
    "\n",
    "for cri in criterion_list:\n",
    "    cnt += 1\n",
    "    clf = RandomForestClassifier(criterion = cri, random_state=0)\n",
    "    accuracy = cross_val_score(clf, X_train_pca, y_train, scoring='accuracy', cv=5)\n",
    "    print(f\"Index: {cnt}, Time: {time.time()-start}s, Criterion: {cri}, Accuracy: {accuracy}, Mean: {np.mean(accuracy)}\")\n",
    "    res.append(accuracy)\n",
    "    # print(res)\n",
    "    \n",
    "plt.figure(figsize=(10,5))\n",
    "plt.title('Criterion Result',fontsize=20)\n",
    "labels = 'Gini','Entropy','Log_Loss'\n",
    "plt.boxplot(res, labels = labels)\n",
    "plt.show()"
   ]
  },
  {
   "cell_type": "code",
   "execution_count": 85,
   "id": "81c7ca9d",
   "metadata": {},
   "outputs": [
    {
     "name": "stdout",
     "output_type": "stream",
     "text": [
      "Index: 1, Time: 0.7606461048126221s, Max_Depth: 2, Accuracy: [0.95774648 0.95774648 0.95070423 0.96478873 0.96126761], Mean: 0.9584507042253522\n",
      "Index: 2, Time: 1.5534460544586182s, Max_Depth: 4, Accuracy: [0.97535211 0.96478873 0.97183099 0.98239437 0.98943662], Mean: 0.9767605633802816\n",
      "Index: 3, Time: 2.3676717281341553s, Max_Depth: 6, Accuracy: [0.97183099 0.96830986 0.97535211 0.98591549 0.98591549], Mean: 0.9774647887323944\n",
      "Index: 4, Time: 3.213041067123413s, Max_Depth: 8, Accuracy: [0.97535211 0.97183099 0.97535211 0.98591549 0.98591549], Mean: 0.9788732394366197\n",
      "Index: 5, Time: 4.056676149368286s, Max_Depth: 10, Accuracy: [0.97535211 0.97183099 0.97183099 0.98591549 0.98239437], Mean: 0.9774647887323944\n"
     ]
    },
    {
     "data": {
      "image/png": "[encoded data removed]",
      "text/plain": [
       "<Figure size 720x360 with 1 Axes>"
      ]
     },
     "metadata": {
      "needs_background": "light"
     },
     "output_type": "display_data"
    }
   ],
   "source": [
    "max_depth_list = [2, 4, 6, 8, 10]\n",
    "# max_depth_list = [5, 10, 15, 20, 25]\n",
    "# max_depth_list = [10, 20, 30, 40, 50]\n",
    "cnt = 0\n",
    "res = []\n",
    "start = time.time()\n",
    "\n",
    "for max_d in max_depth_list:\n",
    "    cnt += 1\n",
    "    clf = RandomForestClassifier(max_depth=max_d, random_state=0)\n",
    "    accuracy = cross_val_score(clf, X_train_pca, y_train, scoring='accuracy', cv=5)\n",
    "    print(f\"Index: {cnt}, Time: {time.time()-start}s, Max_Depth: {max_d}, Accuracy: {accuracy}, Mean: {np.mean(accuracy)}\")\n",
    "    res.append(accuracy)\n",
    "    # print(res)\n",
    "    \n",
    "plt.figure(figsize=(10,5))\n",
    "plt.title('Max Depth Result',fontsize=20)\n",
    "labels = '2','4', 6, '8', '10'\n",
    "plt.boxplot(res, labels = labels)\n",
    "plt.show()"
   ]
  },
  {
   "cell_type": "code",
   "execution_count": 86,
   "id": "fd8d8ddf",
   "metadata": {},
   "outputs": [
    {
     "name": "stdout",
     "output_type": "stream",
     "text": [
      "Index: 1, Time: 0.07506084442138672s, N_Estimators: 5, Accuracy: [0.97183099 0.96830986 0.96478873 0.97535211 0.98591549], Mean: 0.9732394366197183\n",
      "Index: 2, Time: 0.1990511417388916s, N_Estimators: 10, Accuracy: [0.97183099 0.96478873 0.96478873 0.97887324 0.98239437], Mean: 0.9725352112676056\n",
      "Index: 3, Time: 0.3508036136627197s, N_Estimators: 15, Accuracy: [0.97535211 0.96126761 0.96478873 0.98591549 0.97535211], Mean: 0.9725352112676056\n",
      "Index: 4, Time: 0.5391974449157715s, N_Estimators: 20, Accuracy: [0.96830986 0.96126761 0.96478873 0.98591549 0.98591549], Mean: 0.9732394366197183\n",
      "Index: 5, Time: 0.7787292003631592s, N_Estimators: 25, Accuracy: [0.97887324 0.96126761 0.96830986 0.98591549 0.98591549], Mean: 0.976056338028169\n"
     ]
    },
    {
     "data": {
      "image/png": "[encoded data removed]",
      "text/plain": [
       "<Figure size 720x360 with 1 Axes>"
      ]
     },
     "metadata": {
      "needs_background": "light"
     },
     "output_type": "display_data"
    }
   ],
   "source": [
    "n_estimators_list = [5, 10 ,15 ,20 ,25]\n",
    "cnt = 0\n",
    "res = []\n",
    "start = time.time()\n",
    "\n",
    "for n_est in n_estimators_list:\n",
    "    cnt += 1\n",
    "    clf = RandomForestClassifier(n_estimators = n_est, random_state=0)\n",
    "    accuracy = cross_val_score(clf, X_train_pca, y_train, scoring='accuracy', cv=5)\n",
    "    print(f\"Index: {cnt}, Time: {time.time()-start}s, N_Estimators: {n_est}, Accuracy: {accuracy}, Mean: {np.mean(accuracy)}\")\n",
    "    res.append(accuracy)\n",
    "    # print(res)\n",
    "    \n",
    "plt.figure(figsize=(10,5))\n",
    "plt.title('N_Estimators Result',fontsize=20)\n",
    "labels = '5','10', '15', '20', '25'\n",
    "plt.boxplot(res, labels = labels)\n",
    "plt.show()"
   ]
  },
  {
   "cell_type": "markdown",
   "id": "ffdac2f2",
   "metadata": {},
   "source": [
    "## Method 4: Support Vector Machine"
   ]
  },
  {
   "cell_type": "code",
   "execution_count": 87,
   "id": "92d522c0",
   "metadata": {},
   "outputs": [
    {
     "name": "stdout",
     "output_type": "stream",
     "text": [
      "Index: 1, Time: 0.0616304874420166s, Kernel: linear, Accuracy: [0.97887324 0.97887324 0.97535211 0.97887324 0.98239437], Mean: 0.9788732394366197\n",
      "Index: 2, Time: 0.11874222755432129s, Kernel: poly, Accuracy: [0.98239437 0.98239437 0.96830986 0.97887324 0.97887324], Mean: 0.9781690140845072\n",
      "Index: 3, Time: 0.17553472518920898s, Kernel: rbf, Accuracy: [0.97183099 0.97535211 0.97887324 0.98943662 0.98591549], Mean: 0.9802816901408452\n",
      "Index: 4, Time: 0.24768567085266113s, Kernel: sigmoid, Accuracy: [0.91549296 0.91901408 0.93309859 0.92605634 0.95422535], Mean: 0.9295774647887324\n"
     ]
    },
    {
     "data": {
      "image/png": "[encoded data removed]",
      "text/plain": [
       "<Figure size 720x360 with 1 Axes>"
      ]
     },
     "metadata": {
      "needs_background": "light"
     },
     "output_type": "display_data"
    }
   ],
   "source": [
    "kernel_list = ['linear', 'poly', 'rbf', 'sigmoid']\n",
    "cnt = 0\n",
    "res = []\n",
    "start = time.time()\n",
    "\n",
    "for ker in kernel_list:\n",
    "    cnt += 1\n",
    "    clf = SVC(kernel=ker)\n",
    "    accuracy = cross_val_score(clf, X_train_pca, y_train, scoring='accuracy', cv=5)\n",
    "    print(f\"Index: {cnt}, Time: {time.time()-start}s, Kernel: {ker}, Accuracy: {accuracy}, Mean: {np.mean(accuracy)}\")\n",
    "    res.append(accuracy)\n",
    "    # print(res)\n",
    "    \n",
    "plt.figure(figsize=(10,5))\n",
    "plt.title('Kernel Result',fontsize=20)\n",
    "labels = 'linear', 'poly', 'rbf', 'sigmoid'\n",
    "plt.boxplot(res, labels = labels)\n",
    "plt.show()"
   ]
  },
  {
   "cell_type": "code",
   "execution_count": 88,
   "id": "998f3101",
   "metadata": {},
   "outputs": [
    {
     "name": "stdout",
     "output_type": "stream",
     "text": [
      "Index: 1, Time: 0.09727191925048828s, C: 0.2, Accuracy: [0.97183099 0.97887324 0.97535211 0.98591549 0.98591549], Mean: 0.9795774647887324\n",
      "Index: 2, Time: 0.1651012897491455s, C: 0.4, Accuracy: [0.97183099 0.97887324 0.97887324 0.98943662 0.98591549], Mean: 0.9809859154929578\n",
      "Index: 3, Time: 0.2252979278564453s, C: 0.6, Accuracy: [0.97183099 0.97887324 0.97887324 0.98943662 0.98591549], Mean: 0.9809859154929578\n",
      "Index: 4, Time: 0.2786240577697754s, C: 0.8, Accuracy: [0.97183099 0.97887324 0.97887324 0.98943662 0.98591549], Mean: 0.9809859154929578\n",
      "Index: 5, Time: 0.33547282218933105s, C: 1.0, Accuracy: [0.97183099 0.97535211 0.97887324 0.98943662 0.98591549], Mean: 0.9802816901408452\n",
      "Index: 6, Time: 0.38820958137512207s, C: 1.2, Accuracy: [0.97183099 0.97535211 0.97887324 0.98943662 0.98591549], Mean: 0.9802816901408452\n",
      "Index: 7, Time: 0.438983678817749s, C: 1.4, Accuracy: [0.97183099 0.97535211 0.97535211 0.98943662 0.98591549], Mean: 0.9795774647887324\n"
     ]
    },
    {
     "data": {
      "image/png": "[encoded data removed]",
      "text/plain": [
       "<Figure size 720x360 with 1 Axes>"
      ]
     },
     "metadata": {
      "needs_background": "light"
     },
     "output_type": "display_data"
    }
   ],
   "source": [
    "C_list = [0.2, 0.4, 0.6, 0.8, 1.0, 1.2, 1.4]\n",
    "cnt = 0\n",
    "res = []\n",
    "start = time.time()\n",
    "\n",
    "for c in C_list:\n",
    "    cnt += 1\n",
    "    clf = SVC(C = c, kernel = 'rbf')\n",
    "    accuracy = cross_val_score(clf, X_train_pca, y_train, scoring='accuracy', cv=5)\n",
    "    print(f\"Index: {cnt}, Time: {time.time()-start}s, C: {c}, Accuracy: {accuracy}, Mean: {np.mean(accuracy)}\")\n",
    "    res.append(accuracy)\n",
    "    # print(res)\n",
    "    \n",
    "plt.figure(figsize=(10,5))\n",
    "plt.title('C Result',fontsize=20)\n",
    "labels = '0.2', '0.4', '0.6', '0.8', '1.0', '1.2', '1.4'\n",
    "plt.boxplot(res, labels = labels)\n",
    "plt.show()"
   ]
  },
  {
   "cell_type": "code",
   "execution_count": null,
   "id": "a7633db7",
   "metadata": {},
   "outputs": [],
   "source": []
  },
  {
   "cell_type": "code",
   "execution_count": null,
   "id": "4a024a28",
   "metadata": {},
   "outputs": [],
   "source": []
  },
  {
   "cell_type": "code",
   "execution_count": null,
   "id": "2906573a",
   "metadata": {},
   "outputs": [],
   "source": []
  },
  {
   "cell_type": "code",
   "execution_count": null,
   "id": "a96bfecf",
   "metadata": {},
   "outputs": [],
   "source": []
  },
  {
   "cell_type": "code",
   "execution_count": null,
   "id": "cdf1c049",
   "metadata": {},
   "outputs": [],
   "source": []
  },
  {
   "cell_type": "code",
   "execution_count": null,
   "id": "47203731",
   "metadata": {},
   "outputs": [],
   "source": []
  },
  {
   "cell_type": "code",
   "execution_count": null,
   "id": "425bba87",
   "metadata": {},
   "outputs": [],
   "source": []
  },
  {
   "cell_type": "code",
   "execution_count": null,
   "id": "da3bbea6",
   "metadata": {},
   "outputs": [],
   "source": []
  },
  {
   "cell_type": "code",
   "execution_count": null,
   "id": "ca94be57",
   "metadata": {},
   "outputs": [],
   "source": []
  },
  {
   "cell_type": "code",
   "execution_count": null,
   "id": "a04d65fa",
   "metadata": {},
   "outputs": [],
   "source": []
  },
  {
   "cell_type": "code",
   "execution_count": null,
   "id": "d18b5cdd",
   "metadata": {},
   "outputs": [],
   "source": []
  },
  {
   "cell_type": "code",
   "execution_count": null,
   "id": "e36aa19c",
   "metadata": {},
   "outputs": [],
   "source": []
  },
  {
   "cell_type": "markdown",
   "id": "b4fdb15d",
   "metadata": {},
   "source": [
    "# Pair 3: F and X"
   ]
  },
  {
   "cell_type": "code",
   "execution_count": 9,
   "id": "291f6b1c",
   "metadata": {},
   "outputs": [],
   "source": [
    "letter_recognition = pd.read_csv(\"letter-recognition.data\")\n",
    "letter_recognition = letter_recognition.values"
   ]
  },
  {
   "cell_type": "code",
   "execution_count": 10,
   "id": "3bbe51eb",
   "metadata": {},
   "outputs": [],
   "source": [
    "F = letter_recognition[np.where(letter_recognition[:, 0] == 'F')]\n",
    "X = letter_recognition[np.where(letter_recognition[:, 0] == 'X')]\n",
    "Pair_3 = np.concatenate((F,X))\n",
    "# print(Pair_3.shape)"
   ]
  },
  {
   "cell_type": "code",
   "execution_count": 11,
   "id": "569a857e",
   "metadata": {},
   "outputs": [],
   "source": [
    "X_train, X_val, y_train, y_val = train_test_split(Pair_3[:,1:], Pair_3[:,0], test_size=0.1, random_state=0)"
   ]
  },
  {
   "cell_type": "markdown",
   "id": "b9af430b",
   "metadata": {},
   "source": [
    "## Method 1: KNN"
   ]
  },
  {
   "cell_type": "code",
   "execution_count": 60,
   "id": "b4a1b614",
   "metadata": {
    "scrolled": false
   },
   "outputs": [
    {
     "name": "stdout",
     "output_type": "stream",
     "text": [
      "Index: 1, Time: 0.09937143325805664s, N_Neighbors: 1, Accuracy: [1.         1.         1.         0.99288256 1.        ], Mean: 0.9985765124555159\n",
      "Index: 2, Time: 0.2077643871307373s, N_Neighbors: 3, Accuracy: [1.         1.         0.99644128 0.99644128 1.        ], Mean: 0.9985765124555159\n",
      "Index: 3, Time: 0.3180413246154785s, N_Neighbors: 5, Accuracy: [1.         1.         0.99644128 0.99644128 1.        ], Mean: 0.9985765124555159\n",
      "Index: 4, Time: 0.43212032318115234s, N_Neighbors: 7, Accuracy: [1.         1.         0.99644128 0.99644128 1.        ], Mean: 0.9985765124555159\n",
      "Index: 5, Time: 0.5340898036956787s, N_Neighbors: 9, Accuracy: [0.99644128 1.         1.         0.99644128 1.        ], Mean: 0.9985765124555159\n"
     ]
    },
    {
     "data": {
      "image/png": "[encoded data removed]",
      "text/plain": [
       "<Figure size 720x360 with 1 Axes>"
      ]
     },
     "metadata": {
      "needs_background": "light"
     },
     "output_type": "display_data"
    }
   ],
   "source": [
    "n_neighbors_list = [1, 3, 5, 7, 9]\n",
    "cnt = 0\n",
    "res = []\n",
    "start = time.time()\n",
    "\n",
    "for nn in n_neighbors_list:\n",
    "    cnt += 1\n",
    "    clf = KNeighborsClassifier(n_neighbors=nn)\n",
    "    accuracy = cross_val_score(clf, X_train, y_train, scoring='accuracy', cv=5)\n",
    "    print(f\"Index: {cnt}, Time: {time.time()-start}s, N_Neighbors: {nn}, Accuracy: {accuracy}, Mean: {np.mean(accuracy)}\")\n",
    "    res.append(accuracy)\n",
    "    # print(res)\n",
    "    \n",
    "plt.figure(figsize=(10,5))\n",
    "plt.title('N_Neighbors Result',fontsize=20)\n",
    "labels = '1', '3', '5', '7', '9'\n",
    "plt.boxplot(res, labels = labels)\n",
    "plt.show()"
   ]
  },
  {
   "cell_type": "code",
   "execution_count": 61,
   "id": "5628c35e",
   "metadata": {},
   "outputs": [
    {
     "name": "stdout",
     "output_type": "stream",
     "text": [
      "Index: 1, Time: 0.10164141654968262s, Weights: uniform, Accuracy: [1.         1.         0.99644128 0.99644128 1.        ], Mean: 0.9985765124555159\n",
      "Index: 2, Time: 0.16179847717285156s, Weights: distance, Accuracy: [1.         1.         0.99644128 0.99644128 1.        ], Mean: 0.9985765124555159\n"
     ]
    },
    {
     "data": {
      "image/png": "[encoded data removed]",
      "text/plain": [
       "<Figure size 720x360 with 1 Axes>"
      ]
     },
     "metadata": {
      "needs_background": "light"
     },
     "output_type": "display_data"
    }
   ],
   "source": [
    "weights_list = ['uniform', 'distance']\n",
    "cnt = 0\n",
    "res = []\n",
    "start = time.time()\n",
    "\n",
    "for wei in weights_list:\n",
    "    cnt += 1\n",
    "    clf = KNeighborsClassifier(weights = wei)\n",
    "    accuracy = cross_val_score(clf, X_train, y_train, scoring='accuracy', cv=5)\n",
    "    print(f\"Index: {cnt}, Time: {time.time()-start}s, Weights: {wei}, Accuracy: {accuracy}, Mean: {np.mean(accuracy)}\")\n",
    "    res.append(accuracy)\n",
    "    # print(res)\n",
    "    \n",
    "plt.figure(figsize=(10,5))\n",
    "plt.title('Weights Result',fontsize=20)\n",
    "labels = 'uniform', 'distance'\n",
    "plt.boxplot(res, labels = labels)\n",
    "plt.show()"
   ]
  },
  {
   "cell_type": "code",
   "execution_count": 55,
   "id": "eb9aab75",
   "metadata": {},
   "outputs": [
    {
     "name": "stdout",
     "output_type": "stream",
     "text": [
      "Index: 1, Time: 0.0970005989074707s, Algorithm: auto, Accuracy: [1.         1.         0.99644128 0.99644128 1.        ]\n",
      "Index: 2, Time: 0.20600152015686035s, Algorithm: ball_tree, Accuracy: [1.         1.         0.99644128 0.99644128 1.        ]\n",
      "Index: 3, Time: 0.30499815940856934s, Algorithm: kd_tree, Accuracy: [1.         1.         0.99644128 0.99644128 1.        ]\n",
      "Index: 4, Time: 0.39499878883361816s, Algorithm: brute, Accuracy: [1.         1.         0.99644128 0.99644128 1.        ]\n"
     ]
    },
    {
     "data": {
      "image/png": "[encoded data removed]",
      "text/plain": [
       "<Figure size 720x360 with 1 Axes>"
      ]
     },
     "metadata": {
      "needs_background": "light"
     },
     "output_type": "display_data"
    }
   ],
   "source": [
    "algorithm_list = ['auto', 'ball_tree', 'kd_tree', 'brute']\n",
    "cnt = 0\n",
    "res = []\n",
    "start = time.time()\n",
    "\n",
    "for alg in algorithm_list:\n",
    "    cnt += 1\n",
    "    clf = KNeighborsClassifier(algorithm = alg)\n",
    "    accuracy = cross_val_score(clf, X_train, y_train, scoring='accuracy', cv=5)\n",
    "    print(f\"Index: {cnt}, Time: {time.time()-start}s, Algorithm: {alg}, Accuracy: {accuracy}\")\n",
    "    res.append(accuracy)\n",
    "    # print(res)\n",
    "    \n",
    "plt.figure(figsize=(10,5))\n",
    "plt.title('Algorithm Result',fontsize=20)\n",
    "labels = 'auto', 'ball_tree', 'kd_tree', 'brute'\n",
    "plt.boxplot(res, labels = labels)\n",
    "plt.show()"
   ]
  },
  {
   "cell_type": "markdown",
   "id": "c160d81e",
   "metadata": {},
   "source": [
    "## Method 2: Decision Tree"
   ]
  },
  {
   "cell_type": "code",
   "execution_count": 62,
   "id": "49a297d2",
   "metadata": {},
   "outputs": [
    {
     "name": "stdout",
     "output_type": "stream",
     "text": [
      "Index: 1, Time: 0.028879880905151367s, Criterion: gini, Accuracy: [0.98932384 0.97508897 0.99644128 0.97864769 0.98220641], Mean: 0.9843416370106761\n",
      "Index: 2, Time: 0.05630207061767578s, Criterion: entropy, Accuracy: [0.99288256 0.98576512 0.98576512 0.98220641 0.98576512], Mean: 0.9864768683274022\n",
      "Index: 3, Time: 0.06987547874450684s, Criterion: log_loss, Accuracy: [nan nan nan nan nan], Mean: nan\n"
     ]
    },
    {
     "name": "stderr",
     "output_type": "stream",
     "text": [
      "C:\\Users\\21742\\anaconda3\\lib\\site-packages\\sklearn\\model_selection\\_validation.py:372: FitFailedWarning: \n",
      "5 fits failed out of a total of 5.\n",
      "The score on these train-test partitions for these parameters will be set to nan.\n",
      "If these failures are not expected, you can try to debug them by setting error_score='raise'.\n",
      "\n",
      "Below are more details about the failures:\n",
      "--------------------------------------------------------------------------------\n",
      "5 fits failed with the following error:\n",
      "Traceback (most recent call last):\n",
      "  File \"C:\\Users\\21742\\anaconda3\\lib\\site-packages\\sklearn\\model_selection\\_validation.py\", line 680, in _fit_and_score\n",
      "    estimator.fit(X_train, y_train, **fit_params)\n",
      "  File \"C:\\Users\\21742\\anaconda3\\lib\\site-packages\\sklearn\\tree\\_classes.py\", line 937, in fit\n",
      "    super().fit(\n",
      "  File \"C:\\Users\\21742\\anaconda3\\lib\\site-packages\\sklearn\\tree\\_classes.py\", line 352, in fit\n",
      "    criterion = CRITERIA_CLF[self.criterion](\n",
      "KeyError: 'log_loss'\n",
      "\n",
      "  warnings.warn(some_fits_failed_message, FitFailedWarning)\n"
     ]
    },
    {
     "data": {
      "image/png": "[encoded data removed]",
      "text/plain": [
       "<Figure size 720x360 with 1 Axes>"
      ]
     },
     "metadata": {
      "needs_background": "light"
     },
     "output_type": "display_data"
    }
   ],
   "source": [
    "# criterion_list = ['gini', 'entropy']\n",
    "criterion_list = ['gini', 'entropy', 'log_loss']\n",
    "cnt = 0\n",
    "res = []\n",
    "start = time.time()\n",
    "\n",
    "for cri in criterion_list:\n",
    "    cnt += 1\n",
    "    clf = DecisionTreeClassifier(criterion=cri)\n",
    "    accuracy = cross_val_score(clf, X_train, y_train, scoring='accuracy', cv=5)\n",
    "    print(f\"Index: {cnt}, Time: {time.time()-start}s, Criterion: {cri}, Accuracy: {accuracy}, Mean: {np.mean(accuracy)}\")\n",
    "    res.append(accuracy)\n",
    "    # print(res)\n",
    "    \n",
    "plt.figure(figsize=(10,5))\n",
    "plt.title('Criterion Result',fontsize=20)\n",
    "labels = 'Gini','Entropy','Log_Loss'\n",
    "plt.boxplot(res, labels = labels)\n",
    "plt.show()"
   ]
  },
  {
   "cell_type": "code",
   "execution_count": 63,
   "id": "0395b831",
   "metadata": {},
   "outputs": [
    {
     "name": "stdout",
     "output_type": "stream",
     "text": [
      "Index: 1, Time: 0.024169206619262695s, Max_Depth: 5, Accuracy: [0.97153025 0.96441281 0.99288256 0.97864769 0.98220641], Mean: 0.977935943060498\n",
      "Index: 2, Time: 0.049053192138671875s, Max_Depth: 10, Accuracy: [0.98576512 0.98220641 0.99644128 0.98576512 0.98220641], Mean: 0.9864768683274022\n",
      "Index: 3, Time: 0.07777976989746094s, Max_Depth: 15, Accuracy: [0.97864769 0.98220641 0.99644128 0.98220641 0.97864769], Mean: 0.9836298932384342\n",
      "Index: 4, Time: 0.1026763916015625s, Max_Depth: 20, Accuracy: [0.97864769 0.97153025 0.99644128 0.98220641 0.98576512], Mean: 0.982918149466192\n",
      "Index: 5, Time: 0.12829923629760742s, Max_Depth: 25, Accuracy: [0.98576512 0.97864769 0.99288256 0.97864769 0.98576512], Mean: 0.9843416370106761\n"
     ]
    },
    {
     "data": {
      "image/png": "[encoded data removed]",
      "text/plain": [
       "<Figure size 720x360 with 1 Axes>"
      ]
     },
     "metadata": {
      "needs_background": "light"
     },
     "output_type": "display_data"
    }
   ],
   "source": [
    "max_depth_list = [5, 10, 15, 20, 25]\n",
    "# max_depth_list = [10, 20, 30, 40, 50]\n",
    "cnt = 0\n",
    "res = []\n",
    "start = time.time()\n",
    "\n",
    "for max_d in max_depth_list:\n",
    "    cnt += 1\n",
    "    clf = DecisionTreeClassifier(max_depth = max_d)\n",
    "    accuracy = cross_val_score(clf, X_train, y_train, scoring='accuracy', cv=5)\n",
    "    print(f\"Index: {cnt}, Time: {time.time()-start}s, Max_Depth: {max_d}, Accuracy: {accuracy}, Mean: {np.mean(accuracy)}\")\n",
    "    res.append(accuracy)\n",
    "    # print(res)\n",
    "    \n",
    "plt.figure(figsize=(10,5))\n",
    "plt.title('Max_Depth Result',fontsize=20)\n",
    "labels = '5','10', '15', '20', '25'\n",
    "plt.boxplot(res, labels = labels)\n",
    "plt.show()"
   ]
  },
  {
   "cell_type": "markdown",
   "id": "5ec82eec",
   "metadata": {},
   "source": [
    "## Method 3: Random Forest"
   ]
  },
  {
   "cell_type": "code",
   "execution_count": 64,
   "id": "e379a968",
   "metadata": {},
   "outputs": [
    {
     "name": "stdout",
     "output_type": "stream",
     "text": [
      "Index: 1, Time: 0.7953755855560303s, Criterion: gini, Accuracy: [0.99644128 0.99644128 0.99644128 0.98220641 0.99288256], Mean: 0.9928825622775801\n",
      "Index: 2, Time: 1.5524389743804932s, Criterion: entropy, Accuracy: [0.98932384 0.99644128 0.99644128 0.97864769 0.99288256], Mean: 0.9907473309608541\n",
      "Index: 3, Time: 1.7050836086273193s, Criterion: log_loss, Accuracy: [nan nan nan nan nan], Mean: nan\n"
     ]
    },
    {
     "name": "stderr",
     "output_type": "stream",
     "text": [
      "C:\\Users\\21742\\anaconda3\\lib\\site-packages\\sklearn\\model_selection\\_validation.py:372: FitFailedWarning: \n",
      "5 fits failed out of a total of 5.\n",
      "The score on these train-test partitions for these parameters will be set to nan.\n",
      "If these failures are not expected, you can try to debug them by setting error_score='raise'.\n",
      "\n",
      "Below are more details about the failures:\n",
      "--------------------------------------------------------------------------------\n",
      "5 fits failed with the following error:\n",
      "Traceback (most recent call last):\n",
      "  File \"C:\\Users\\21742\\anaconda3\\lib\\site-packages\\sklearn\\model_selection\\_validation.py\", line 680, in _fit_and_score\n",
      "    estimator.fit(X_train, y_train, **fit_params)\n",
      "  File \"C:\\Users\\21742\\anaconda3\\lib\\site-packages\\sklearn\\ensemble\\_forest.py\", line 450, in fit\n",
      "    trees = Parallel(\n",
      "  File \"C:\\Users\\21742\\anaconda3\\lib\\site-packages\\joblib\\parallel.py\", line 1043, in __call__\n",
      "    if self.dispatch_one_batch(iterator):\n",
      "  File \"C:\\Users\\21742\\anaconda3\\lib\\site-packages\\joblib\\parallel.py\", line 861, in dispatch_one_batch\n",
      "    self._dispatch(tasks)\n",
      "  File \"C:\\Users\\21742\\anaconda3\\lib\\site-packages\\joblib\\parallel.py\", line 779, in _dispatch\n",
      "    job = self._backend.apply_async(batch, callback=cb)\n",
      "  File \"C:\\Users\\21742\\anaconda3\\lib\\site-packages\\joblib\\_parallel_backends.py\", line 208, in apply_async\n",
      "    result = ImmediateResult(func)\n",
      "  File \"C:\\Users\\21742\\anaconda3\\lib\\site-packages\\joblib\\_parallel_backends.py\", line 572, in __init__\n",
      "    self.results = batch()\n",
      "  File \"C:\\Users\\21742\\anaconda3\\lib\\site-packages\\joblib\\parallel.py\", line 262, in __call__\n",
      "    return [func(*args, **kwargs)\n",
      "  File \"C:\\Users\\21742\\anaconda3\\lib\\site-packages\\joblib\\parallel.py\", line 262, in <listcomp>\n",
      "    return [func(*args, **kwargs)\n",
      "  File \"C:\\Users\\21742\\anaconda3\\lib\\site-packages\\sklearn\\utils\\fixes.py\", line 216, in __call__\n",
      "    return self.function(*args, **kwargs)\n",
      "  File \"C:\\Users\\21742\\anaconda3\\lib\\site-packages\\sklearn\\ensemble\\_forest.py\", line 185, in _parallel_build_trees\n",
      "    tree.fit(X, y, sample_weight=curr_sample_weight, check_input=False)\n",
      "  File \"C:\\Users\\21742\\anaconda3\\lib\\site-packages\\sklearn\\tree\\_classes.py\", line 937, in fit\n",
      "    super().fit(\n",
      "  File \"C:\\Users\\21742\\anaconda3\\lib\\site-packages\\sklearn\\tree\\_classes.py\", line 352, in fit\n",
      "    criterion = CRITERIA_CLF[self.criterion](\n",
      "KeyError: 'log_loss'\n",
      "\n",
      "  warnings.warn(some_fits_failed_message, FitFailedWarning)\n"
     ]
    },
    {
     "data": {
      "image/png": "[encoded data removed]",
      "text/plain": [
       "<Figure size 720x360 with 1 Axes>"
      ]
     },
     "metadata": {
      "needs_background": "light"
     },
     "output_type": "display_data"
    }
   ],
   "source": [
    "# criterion_list = ['gini', 'entropy']\n",
    "criterion_list = ['gini', 'entropy', 'log_loss']\n",
    "cnt = 0\n",
    "res = []\n",
    "start = time.time()\n",
    "\n",
    "for cri in criterion_list:\n",
    "    cnt += 1\n",
    "    clf = RandomForestClassifier(criterion = cri, random_state=0)\n",
    "    accuracy = cross_val_score(clf, X_train, y_train, scoring='accuracy', cv=5)\n",
    "    print(f\"Index: {cnt}, Time: {time.time()-start}s, Criterion: {cri}, Accuracy: {accuracy}, Mean: {np.mean(accuracy)}\")\n",
    "    res.append(accuracy)\n",
    "    # print(res)\n",
    "    \n",
    "plt.figure(figsize=(10,5))\n",
    "plt.title('Criterion Result',fontsize=20)\n",
    "labels = 'Gini','Entropy','Log_Loss'\n",
    "plt.boxplot(res, labels = labels)\n",
    "plt.show()"
   ]
  },
  {
   "cell_type": "code",
   "execution_count": 65,
   "id": "bd9fdbd0",
   "metadata": {},
   "outputs": [
    {
     "name": "stdout",
     "output_type": "stream",
     "text": [
      "Index: 1, Time: 0.7518355846405029s, Max_Depth: 2, Accuracy: [0.95017794 0.91814947 0.95729537 0.96441281 0.95729537], Mean: 0.9494661921708184\n",
      "Index: 2, Time: 1.472642183303833s, Max_Depth: 4, Accuracy: [0.97508897 0.97508897 0.98932384 0.97508897 0.97508897], Mean: 0.9779359430604982\n",
      "Index: 3, Time: 2.219470262527466s, Max_Depth: 6, Accuracy: [0.99288256 0.99644128 0.99644128 0.97508897 0.99288256], Mean: 0.9907473309608541\n",
      "Index: 4, Time: 2.975947380065918s, Max_Depth: 8, Accuracy: [0.98932384 0.99644128 0.99644128 0.97508897 0.98932384], Mean: 0.98932384341637\n",
      "Index: 5, Time: 3.7419044971466064s, Max_Depth: 10, Accuracy: [0.99288256 0.99644128 0.99644128 0.98220641 0.99288256], Mean: 0.9921708185053382\n"
     ]
    },
    {
     "data": {
      "image/png": "[encoded data removed]",
      "text/plain": [
       "<Figure size 720x360 with 1 Axes>"
      ]
     },
     "metadata": {
      "needs_background": "light"
     },
     "output_type": "display_data"
    }
   ],
   "source": [
    "max_depth_list = [2, 4, 6, 8, 10]\n",
    "# max_depth_list = [5, 10, 15, 20, 25]\n",
    "# max_depth_list = [10, 20, 30, 40, 50]\n",
    "cnt = 0\n",
    "res = []\n",
    "start = time.time()\n",
    "\n",
    "for max_d in max_depth_list:\n",
    "    cnt += 1\n",
    "    clf = RandomForestClassifier(max_depth=max_d, random_state=0)\n",
    "    accuracy = cross_val_score(clf, X_train, y_train, scoring='accuracy', cv=5)\n",
    "    print(f\"Index: {cnt}, Time: {time.time()-start}s, Max_Depth: {max_d}, Accuracy: {accuracy}, Mean: {np.mean(accuracy)}\")\n",
    "    res.append(accuracy)\n",
    "    # print(res)\n",
    "    \n",
    "plt.figure(figsize=(10,5))\n",
    "plt.title('Max Depth Result',fontsize=20)\n",
    "labels = '2','4', 6, '8', '10'\n",
    "plt.boxplot(res, labels = labels)\n",
    "plt.show()"
   ]
  },
  {
   "cell_type": "code",
   "execution_count": 13,
   "id": "536b4052",
   "metadata": {},
   "outputs": [
    {
     "name": "stdout",
     "output_type": "stream",
     "text": [
      "Index: 1, Time: 0.07100343704223633s, N_Estimators: 5, Accuracy: [0.97508897 0.99644128 0.98932384 0.97864769 0.99288256], Mean: 0.9864768683274022\n",
      "Index: 2, Time: 0.1750025749206543s, N_Estimators: 10, Accuracy: [0.98932384 0.99644128 0.99644128 0.97864769 0.99644128], Mean: 0.991459074733096\n",
      "Index: 3, Time: 0.30400609970092773s, N_Estimators: 15, Accuracy: [0.98932384 1.         0.99644128 0.97508897 0.99288256], Mean: 0.9907473309608541\n",
      "Index: 4, Time: 0.4733877182006836s, N_Estimators: 20, Accuracy: [0.98576512 1.         0.99644128 0.97864769 0.99288256], Mean: 0.9907473309608541\n",
      "Index: 5, Time: 0.6843883991241455s, N_Estimators: 25, Accuracy: [0.98576512 0.99644128 0.99644128 0.97508897 0.99288256], Mean: 0.98932384341637\n"
     ]
    },
    {
     "data": {
      "image/png": "[encoded data removed]",
      "text/plain": [
       "<Figure size 720x360 with 1 Axes>"
      ]
     },
     "metadata": {
      "needs_background": "light"
     },
     "output_type": "display_data"
    }
   ],
   "source": [
    "n_estimators_list = [5, 10 ,15 ,20 ,25]\n",
    "cnt = 0\n",
    "res = []\n",
    "start = time.time()\n",
    "\n",
    "for n_est in n_estimators_list:\n",
    "    cnt += 1\n",
    "    clf = RandomForestClassifier(n_estimators = n_est, random_state=0)\n",
    "    accuracy = cross_val_score(clf, X_train, y_train, scoring='accuracy', cv=5)\n",
    "    print(f\"Index: {cnt}, Time: {time.time()-start}s, N_Estimators: {n_est}, Accuracy: {accuracy}, Mean: {np.mean(accuracy)}\")\n",
    "    res.append(accuracy)\n",
    "    # print(res)\n",
    "    \n",
    "plt.figure(figsize=(10,5))\n",
    "plt.title('N_Estimators Result',fontsize=20)\n",
    "labels = '5','10', '15', '20', '25'\n",
    "plt.boxplot(res, labels = labels)\n",
    "plt.show()"
   ]
  },
  {
   "cell_type": "markdown",
   "id": "aebd9750",
   "metadata": {},
   "source": [
    "## Method 4: Support Vector Machine"
   ]
  },
  {
   "cell_type": "code",
   "execution_count": 66,
   "id": "72c8d3f1",
   "metadata": {},
   "outputs": [
    {
     "name": "stdout",
     "output_type": "stream",
     "text": [
      "Index: 1, Time: 0.08853578567504883s, Kernel: linear, Accuracy: [0.97508897 0.97864769 0.96441281 0.98576512 0.98932384], Mean: 0.9786476868327402\n",
      "Index: 2, Time: 0.16532063484191895s, Kernel: poly, Accuracy: [0.99644128 1.         0.98576512 0.99644128 1.        ], Mean: 0.9957295373665481\n",
      "Index: 3, Time: 0.25348544120788574s, Kernel: rbf, Accuracy: [0.99644128 1.         0.98932384 0.98932384 0.99644128], Mean: 0.994306049822064\n",
      "Index: 4, Time: 0.7685971260070801s, Kernel: sigmoid, Accuracy: [0.5088968  0.5088968  0.50177936 0.50177936 0.50177936], Mean: 0.504626334519573\n"
     ]
    },
    {
     "data": {
      "image/png": "[encoded data removed]",
      "text/plain": [
       "<Figure size 720x360 with 1 Axes>"
      ]
     },
     "metadata": {
      "needs_background": "light"
     },
     "output_type": "display_data"
    }
   ],
   "source": [
    "kernel_list = ['linear', 'poly', 'rbf', 'sigmoid']\n",
    "cnt = 0\n",
    "res = []\n",
    "start = time.time()\n",
    "\n",
    "for ker in kernel_list:\n",
    "    cnt += 1\n",
    "    clf = SVC(kernel=ker)\n",
    "    accuracy = cross_val_score(clf, X_train, y_train, scoring='accuracy', cv=5)\n",
    "    print(f\"Index: {cnt}, Time: {time.time()-start}s, Kernel: {ker}, Accuracy: {accuracy}, Mean: {np.mean(accuracy)}\")\n",
    "    res.append(accuracy)\n",
    "    # print(res)\n",
    "    \n",
    "plt.figure(figsize=(10,5))\n",
    "plt.title('Kernel Result',fontsize=20)\n",
    "labels = 'linear', 'poly', 'rbf', 'sigmoid'\n",
    "plt.boxplot(res, labels = labels)\n",
    "plt.show()"
   ]
  },
  {
   "cell_type": "code",
   "execution_count": 67,
   "id": "07f48177",
   "metadata": {},
   "outputs": [
    {
     "name": "stdout",
     "output_type": "stream",
     "text": [
      "Index: 1, Time: 0.1609635353088379s, C: 0.2, Accuracy: [0.98932384 0.97864769 0.97864769 0.98576512 0.99288256], Mean: 0.9850533807829182\n",
      "Index: 2, Time: 0.27523040771484375s, C: 0.4, Accuracy: [0.99644128 0.98932384 0.98932384 0.98932384 0.99288256], Mean: 0.9914590747330962\n",
      "Index: 3, Time: 0.3773059844970703s, C: 0.6, Accuracy: [0.99644128 1.         0.98576512 0.98932384 0.99644128], Mean: 0.9935943060498221\n",
      "Index: 4, Time: 0.4734458923339844s, C: 0.8, Accuracy: [0.99644128 0.99644128 0.98932384 0.98932384 0.99644128], Mean: 0.9935943060498221\n",
      "Index: 5, Time: 0.5606968402862549s, C: 1.0, Accuracy: [0.99644128 1.         0.98932384 0.98932384 0.99644128], Mean: 0.994306049822064\n",
      "Index: 6, Time: 0.6400890350341797s, C: 1.2, Accuracy: [0.99644128 1.         0.98932384 0.98932384 0.99644128], Mean: 0.994306049822064\n",
      "Index: 7, Time: 0.7151939868927002s, C: 1.4, Accuracy: [0.99644128 1.         0.98932384 0.98932384 1.        ], Mean: 0.995017793594306\n"
     ]
    },
    {
     "data": {
      "image/png": "[encoded data removed]",
      "text/plain": [
       "<Figure size 720x360 with 1 Axes>"
      ]
     },
     "metadata": {
      "needs_background": "light"
     },
     "output_type": "display_data"
    }
   ],
   "source": [
    "C_list = [0.2, 0.4, 0.6, 0.8, 1.0, 1.2, 1.4]\n",
    "cnt = 0\n",
    "res = []\n",
    "start = time.time()\n",
    "\n",
    "for c in C_list:\n",
    "    cnt += 1\n",
    "    clf = SVC(C = c, kernel = 'rbf')\n",
    "    accuracy = cross_val_score(clf, X_train, y_train, scoring='accuracy', cv=5)\n",
    "    print(f\"Index: {cnt}, Time: {time.time()-start}s, C: {c}, Accuracy: {accuracy}, Mean: {np.mean(accuracy)}\")\n",
    "    res.append(accuracy)\n",
    "    # print(res)\n",
    "    \n",
    "plt.figure(figsize=(10,5))\n",
    "plt.title('C Result',fontsize=20)\n",
    "labels = '0.2', '0.4', '0.6', '0.8', '1.0', '1.2', '1.4'\n",
    "plt.boxplot(res, labels = labels)\n",
    "plt.show()"
   ]
  },
  {
   "cell_type": "markdown",
   "id": "9597ed65",
   "metadata": {},
   "source": [
    "# Feature extraction (PCA)"
   ]
  },
  {
   "cell_type": "code",
   "execution_count": 89,
   "id": "884b5d5c",
   "metadata": {},
   "outputs": [],
   "source": [
    "letter_recognition = pd.read_csv(\"letter-recognition.data\")\n",
    "letter_recognition = letter_recognition.values"
   ]
  },
  {
   "cell_type": "code",
   "execution_count": 90,
   "id": "0745dec7",
   "metadata": {},
   "outputs": [],
   "source": [
    "F = letter_recognition[np.where(letter_recognition[:, 0] == 'F')]\n",
    "X = letter_recognition[np.where(letter_recognition[:, 0] == 'X')]\n",
    "Pair_3 = np.concatenate((F,X))\n",
    "# print(Pair_3.shape)"
   ]
  },
  {
   "cell_type": "code",
   "execution_count": 91,
   "id": "aa8dedca",
   "metadata": {},
   "outputs": [],
   "source": [
    "X_train, X_val, y_train, y_val = train_test_split(Pair_3[:,1:], Pair_3[:,0], test_size=0.1, random_state=0)"
   ]
  },
  {
   "cell_type": "code",
   "execution_count": 92,
   "id": "4fa7eb48",
   "metadata": {},
   "outputs": [],
   "source": [
    "pca = PCA(n_components=4)\n",
    "X_train_pca = pca.fit_transform(X_train)\n",
    "# print(pca_result.shape"
   ]
  },
  {
   "cell_type": "markdown",
   "id": "560919a4",
   "metadata": {},
   "source": [
    "## Method 1: KNN"
   ]
  },
  {
   "cell_type": "code",
   "execution_count": 93,
   "id": "1366a7c8",
   "metadata": {},
   "outputs": [
    {
     "name": "stdout",
     "output_type": "stream",
     "text": [
      "Index: 1, Time: 0.062308549880981445s, N_Neighbors: 1, Accuracy: [0.97864769 0.98220641 0.97864769 0.98576512 0.98576512], Mean: 0.9822064056939501\n",
      "Index: 2, Time: 0.1250917911529541s, N_Neighbors: 3, Accuracy: [0.97508897 0.97508897 0.98220641 0.98576512 0.99288256], Mean: 0.9822064056939501\n",
      "Index: 3, Time: 0.17626738548278809s, N_Neighbors: 5, Accuracy: [0.96797153 0.98576512 0.97508897 0.98220641 0.98932384], Mean: 0.9800711743772241\n",
      "Index: 4, Time: 0.2273709774017334s, N_Neighbors: 7, Accuracy: [0.97508897 0.98220641 0.97153025 0.98576512 0.98932384], Mean: 0.980782918149466\n",
      "Index: 5, Time: 0.2799654006958008s, N_Neighbors: 9, Accuracy: [0.96441281 0.97508897 0.97508897 0.99288256 0.98576512], Mean: 0.9786476868327402\n"
     ]
    },
    {
     "data": {
      "image/png": "[encoded data removed]",
      "text/plain": [
       "<Figure size 720x360 with 1 Axes>"
      ]
     },
     "metadata": {
      "needs_background": "light"
     },
     "output_type": "display_data"
    }
   ],
   "source": [
    "n_neighbors_list = [1, 3, 5, 7, 9]\n",
    "cnt = 0\n",
    "res = []\n",
    "start = time.time()\n",
    "\n",
    "for nn in n_neighbors_list:\n",
    "    cnt += 1\n",
    "    clf = KNeighborsClassifier(n_neighbors=nn)\n",
    "    accuracy = cross_val_score(clf, X_train_pca, y_train, scoring='accuracy', cv=5)\n",
    "    print(f\"Index: {cnt}, Time: {time.time()-start}s, N_Neighbors: {nn}, Accuracy: {accuracy}, Mean: {np.mean(accuracy)}\")\n",
    "    res.append(accuracy)\n",
    "    # print(res)\n",
    "    \n",
    "plt.figure(figsize=(10,5))\n",
    "plt.title('N_Neighbors Result',fontsize=20)\n",
    "labels = '1', '3', '5', '7', '9'\n",
    "plt.boxplot(res, labels = labels)\n",
    "plt.show()"
   ]
  },
  {
   "cell_type": "code",
   "execution_count": 94,
   "id": "dc422a54",
   "metadata": {},
   "outputs": [
    {
     "name": "stdout",
     "output_type": "stream",
     "text": [
      "Index: 1, Time: 0.05304741859436035s, Weights: uniform, Accuracy: [0.96797153 0.98576512 0.97508897 0.98220641 0.98932384], Mean: 0.9800711743772241\n",
      "Index: 2, Time: 0.0735936164855957s, Weights: distance, Accuracy: [0.97153025 0.98576512 0.97508897 0.98576512 0.99288256], Mean: 0.9822064056939503\n"
     ]
    },
    {
     "data": {
      "image/png": "[encoded data removed]",
      "text/plain": [
       "<Figure size 720x360 with 1 Axes>"
      ]
     },
     "metadata": {
      "needs_background": "light"
     },
     "output_type": "display_data"
    }
   ],
   "source": [
    "weights_list = ['uniform', 'distance']\n",
    "cnt = 0\n",
    "res = []\n",
    "start = time.time()\n",
    "\n",
    "for wei in weights_list:\n",
    "    cnt += 1\n",
    "    clf = KNeighborsClassifier(weights = wei)\n",
    "    accuracy = cross_val_score(clf, X_train_pca, y_train, scoring='accuracy', cv=5)\n",
    "    print(f\"Index: {cnt}, Time: {time.time()-start}s, Weights: {wei}, Accuracy: {accuracy}, Mean: {np.mean(accuracy)}\")\n",
    "    res.append(accuracy)\n",
    "    # print(res)\n",
    "    \n",
    "plt.figure(figsize=(10,5))\n",
    "plt.title('Weights Result',fontsize=20)\n",
    "labels = 'uniform', 'distance'\n",
    "plt.boxplot(res, labels = labels)\n",
    "plt.show()"
   ]
  },
  {
   "cell_type": "code",
   "execution_count": 95,
   "id": "aadec8c6",
   "metadata": {},
   "outputs": [
    {
     "name": "stdout",
     "output_type": "stream",
     "text": [
      "Index: 1, Time: 0.05719923973083496s, Algorithm: auto, Accuracy: [0.96797153 0.98576512 0.97508897 0.98220641 0.98932384], Mean: 0.9800711743772241\n",
      "Index: 2, Time: 0.12118768692016602s, Algorithm: ball_tree, Accuracy: [0.96797153 0.98576512 0.97508897 0.98220641 0.98932384], Mean: 0.9800711743772241\n",
      "Index: 3, Time: 0.17887449264526367s, Algorithm: kd_tree, Accuracy: [0.96797153 0.98576512 0.97508897 0.98220641 0.98932384], Mean: 0.9800711743772241\n",
      "Index: 4, Time: 0.27294206619262695s, Algorithm: brute, Accuracy: [0.96797153 0.98576512 0.97508897 0.98220641 0.98932384], Mean: 0.9800711743772241\n"
     ]
    },
    {
     "data": {
      "image/png": "[encoded data removed]",
      "text/plain": [
       "<Figure size 720x360 with 1 Axes>"
      ]
     },
     "metadata": {
      "needs_background": "light"
     },
     "output_type": "display_data"
    }
   ],
   "source": [
    "algorithm_list = ['auto', 'ball_tree', 'kd_tree', 'brute']\n",
    "cnt = 0\n",
    "res = []\n",
    "start = time.time()\n",
    "\n",
    "for alg in algorithm_list:\n",
    "    cnt += 1\n",
    "    clf = KNeighborsClassifier(algorithm = alg)\n",
    "    accuracy = cross_val_score(clf, X_train_pca, y_train, scoring='accuracy', cv=5)\n",
    "    print(f\"Index: {cnt}, Time: {time.time()-start}s, Algorithm: {alg}, Accuracy: {accuracy}, Mean: {np.mean(accuracy)}\")\n",
    "    res.append(accuracy)\n",
    "    # print(res)\n",
    "    \n",
    "plt.figure(figsize=(10,5))\n",
    "plt.title('Algorithm Result',fontsize=20)\n",
    "labels = 'auto', 'ball_tree', 'kd_tree', 'brute'\n",
    "plt.boxplot(res, labels = labels)\n",
    "plt.show()"
   ]
  },
  {
   "cell_type": "markdown",
   "id": "1b590e0e",
   "metadata": {},
   "source": [
    "## Method 2: Decision Tree"
   ]
  },
  {
   "cell_type": "code",
   "execution_count": 96,
   "id": "cebad5bb",
   "metadata": {
    "scrolled": false
   },
   "outputs": [
    {
     "name": "stdout",
     "output_type": "stream",
     "text": [
      "Index: 1, Time: 0.03376507759094238s, Criterion: gini, Accuracy: [0.93238434 0.9430605  0.96085409 0.94661922 0.97864769], Mean: 0.9523131672597864\n",
      "Index: 2, Time: 0.06331419944763184s, Criterion: entropy, Accuracy: [0.95017794 0.96085409 0.96085409 0.97153025 0.96797153], Mean: 0.9622775800711743\n",
      "Index: 3, Time: 0.07383537292480469s, Criterion: log_loss, Accuracy: [nan nan nan nan nan], Mean: nan\n"
     ]
    },
    {
     "name": "stderr",
     "output_type": "stream",
     "text": [
      "C:\\Users\\21742\\anaconda3\\lib\\site-packages\\sklearn\\model_selection\\_validation.py:372: FitFailedWarning: \n",
      "5 fits failed out of a total of 5.\n",
      "The score on these train-test partitions for these parameters will be set to nan.\n",
      "If these failures are not expected, you can try to debug them by setting error_score='raise'.\n",
      "\n",
      "Below are more details about the failures:\n",
      "--------------------------------------------------------------------------------\n",
      "5 fits failed with the following error:\n",
      "Traceback (most recent call last):\n",
      "  File \"C:\\Users\\21742\\anaconda3\\lib\\site-packages\\sklearn\\model_selection\\_validation.py\", line 680, in _fit_and_score\n",
      "    estimator.fit(X_train, y_train, **fit_params)\n",
      "  File \"C:\\Users\\21742\\anaconda3\\lib\\site-packages\\sklearn\\tree\\_classes.py\", line 937, in fit\n",
      "    super().fit(\n",
      "  File \"C:\\Users\\21742\\anaconda3\\lib\\site-packages\\sklearn\\tree\\_classes.py\", line 352, in fit\n",
      "    criterion = CRITERIA_CLF[self.criterion](\n",
      "KeyError: 'log_loss'\n",
      "\n",
      "  warnings.warn(some_fits_failed_message, FitFailedWarning)\n"
     ]
    },
    {
     "data": {
      "image/png": "[encoded data removed]",
      "text/plain": [
       "<Figure size 720x360 with 1 Axes>"
      ]
     },
     "metadata": {
      "needs_background": "light"
     },
     "output_type": "display_data"
    }
   ],
   "source": [
    "# criterion_list = ['gini', 'entropy']\n",
    "criterion_list = ['gini', 'entropy', 'log_loss']\n",
    "cnt = 0\n",
    "res = []\n",
    "start = time.time()\n",
    "\n",
    "for cri in criterion_list:\n",
    "    cnt += 1\n",
    "    clf = DecisionTreeClassifier(criterion=cri)\n",
    "    accuracy = cross_val_score(clf, X_train_pca, y_train, scoring='accuracy', cv=5)\n",
    "    print(f\"Index: {cnt}, Time: {time.time()-start}s, Criterion: {cri}, Accuracy: {accuracy}, Mean: {np.mean(accuracy)}\")\n",
    "    res.append(accuracy)\n",
    "    # print(res)\n",
    "    \n",
    "plt.figure(figsize=(10,5))\n",
    "plt.title('Criterion Result',fontsize=20)\n",
    "labels = 'Gini','Entropy','Log_Loss'\n",
    "plt.boxplot(res, labels = labels)\n",
    "plt.show()"
   ]
  },
  {
   "cell_type": "code",
   "execution_count": 97,
   "id": "03dcc6b9",
   "metadata": {},
   "outputs": [
    {
     "name": "stdout",
     "output_type": "stream",
     "text": [
      "Index: 1, Time: 0.02817988395690918s, Max_Depth: 5, Accuracy: [0.92170819 0.92882562 0.9430605  0.93238434 0.9430605 ], Mean: 0.9338078291814946\n",
      "Index: 2, Time: 0.052669525146484375s, Max_Depth: 10, Accuracy: [0.92882562 0.9430605  0.96085409 0.95373665 0.97153025], Mean: 0.9516014234875445\n",
      "Index: 3, Time: 0.07979822158813477s, Max_Depth: 15, Accuracy: [0.91814947 0.93950178 0.96441281 0.95729537 0.97508897], Mean: 0.9508896797153025\n",
      "Index: 4, Time: 0.20316791534423828s, Max_Depth: 20, Accuracy: [0.93238434 0.93950178 0.96441281 0.95729537 0.97153025], Mean: 0.9530249110320284\n",
      "Index: 5, Time: 0.2317943572998047s, Max_Depth: 25, Accuracy: [0.93594306 0.93594306 0.96085409 0.95729537 0.97153025], Mean: 0.9523131672597864\n"
     ]
    },
    {
     "data": {
      "image/png": "[encoded data removed]",
      "text/plain": [
       "<Figure size 720x360 with 1 Axes>"
      ]
     },
     "metadata": {
      "needs_background": "light"
     },
     "output_type": "display_data"
    }
   ],
   "source": [
    "max_depth_list = [5, 10, 15, 20, 25]\n",
    "# max_depth_list = [10, 20, 30, 40, 50]\n",
    "cnt = 0\n",
    "res = []\n",
    "start = time.time()\n",
    "\n",
    "for max_d in max_depth_list:\n",
    "    cnt += 1\n",
    "    clf = DecisionTreeClassifier(max_depth = max_d)\n",
    "    accuracy = cross_val_score(clf, X_train_pca, y_train, scoring='accuracy', cv=5)\n",
    "    print(f\"Index: {cnt}, Time: {time.time()-start}s, Max_Depth: {max_d}, Accuracy: {accuracy}, Mean: {np.mean(accuracy)}\")\n",
    "    res.append(accuracy)\n",
    "    # print(res)\n",
    "    \n",
    "plt.figure(figsize=(10,5))\n",
    "plt.title('Max_Depth Result',fontsize=20)\n",
    "labels = '5','10', '15', '20', '25'\n",
    "plt.boxplot(res, labels = labels)\n",
    "plt.show()"
   ]
  },
  {
   "cell_type": "markdown",
   "id": "b8598399",
   "metadata": {},
   "source": [
    "## Method 3: Random Forest"
   ]
  },
  {
   "cell_type": "code",
   "execution_count": 98,
   "id": "16b27a76",
   "metadata": {},
   "outputs": [
    {
     "name": "stdout",
     "output_type": "stream",
     "text": [
      "Index: 1, Time: 0.9474353790283203s, Criterion: gini, Accuracy: [0.96441281 0.97508897 0.97864769 0.97508897 0.99288256], Mean: 0.9772241992882561\n",
      "Index: 2, Time: 2.01058030128479s, Criterion: entropy, Accuracy: [0.95729537 0.97153025 0.97864769 0.97864769 0.98576512], Mean: 0.9743772241992883\n",
      "Index: 3, Time: 2.1689655780792236s, Criterion: log_loss, Accuracy: [nan nan nan nan nan], Mean: nan\n"
     ]
    },
    {
     "name": "stderr",
     "output_type": "stream",
     "text": [
      "C:\\Users\\21742\\anaconda3\\lib\\site-packages\\sklearn\\model_selection\\_validation.py:372: FitFailedWarning: \n",
      "5 fits failed out of a total of 5.\n",
      "The score on these train-test partitions for these parameters will be set to nan.\n",
      "If these failures are not expected, you can try to debug them by setting error_score='raise'.\n",
      "\n",
      "Below are more details about the failures:\n",
      "--------------------------------------------------------------------------------\n",
      "5 fits failed with the following error:\n",
      "Traceback (most recent call last):\n",
      "  File \"C:\\Users\\21742\\anaconda3\\lib\\site-packages\\sklearn\\model_selection\\_validation.py\", line 680, in _fit_and_score\n",
      "    estimator.fit(X_train, y_train, **fit_params)\n",
      "  File \"C:\\Users\\21742\\anaconda3\\lib\\site-packages\\sklearn\\ensemble\\_forest.py\", line 450, in fit\n",
      "    trees = Parallel(\n",
      "  File \"C:\\Users\\21742\\anaconda3\\lib\\site-packages\\joblib\\parallel.py\", line 1043, in __call__\n",
      "    if self.dispatch_one_batch(iterator):\n",
      "  File \"C:\\Users\\21742\\anaconda3\\lib\\site-packages\\joblib\\parallel.py\", line 861, in dispatch_one_batch\n",
      "    self._dispatch(tasks)\n",
      "  File \"C:\\Users\\21742\\anaconda3\\lib\\site-packages\\joblib\\parallel.py\", line 779, in _dispatch\n",
      "    job = self._backend.apply_async(batch, callback=cb)\n",
      "  File \"C:\\Users\\21742\\anaconda3\\lib\\site-packages\\joblib\\_parallel_backends.py\", line 208, in apply_async\n",
      "    result = ImmediateResult(func)\n",
      "  File \"C:\\Users\\21742\\anaconda3\\lib\\site-packages\\joblib\\_parallel_backends.py\", line 572, in __init__\n",
      "    self.results = batch()\n",
      "  File \"C:\\Users\\21742\\anaconda3\\lib\\site-packages\\joblib\\parallel.py\", line 262, in __call__\n",
      "    return [func(*args, **kwargs)\n",
      "  File \"C:\\Users\\21742\\anaconda3\\lib\\site-packages\\joblib\\parallel.py\", line 262, in <listcomp>\n",
      "    return [func(*args, **kwargs)\n",
      "  File \"C:\\Users\\21742\\anaconda3\\lib\\site-packages\\sklearn\\utils\\fixes.py\", line 216, in __call__\n",
      "    return self.function(*args, **kwargs)\n",
      "  File \"C:\\Users\\21742\\anaconda3\\lib\\site-packages\\sklearn\\ensemble\\_forest.py\", line 185, in _parallel_build_trees\n",
      "    tree.fit(X, y, sample_weight=curr_sample_weight, check_input=False)\n",
      "  File \"C:\\Users\\21742\\anaconda3\\lib\\site-packages\\sklearn\\tree\\_classes.py\", line 937, in fit\n",
      "    super().fit(\n",
      "  File \"C:\\Users\\21742\\anaconda3\\lib\\site-packages\\sklearn\\tree\\_classes.py\", line 352, in fit\n",
      "    criterion = CRITERIA_CLF[self.criterion](\n",
      "KeyError: 'log_loss'\n",
      "\n",
      "  warnings.warn(some_fits_failed_message, FitFailedWarning)\n"
     ]
    },
    {
     "data": {
      "image/png": "[encoded data removed]",
      "text/plain": [
       "<Figure size 720x360 with 1 Axes>"
      ]
     },
     "metadata": {
      "needs_background": "light"
     },
     "output_type": "display_data"
    }
   ],
   "source": [
    "# criterion_list = ['gini', 'entropy']\n",
    "criterion_list = ['gini', 'entropy', 'log_loss']\n",
    "cnt = 0\n",
    "res = []\n",
    "start = time.time()\n",
    "\n",
    "for cri in criterion_list:\n",
    "    cnt += 1\n",
    "    clf = RandomForestClassifier(criterion = cri, random_state=0)\n",
    "    accuracy = cross_val_score(clf, X_train_pca, y_train, scoring='accuracy', cv=5)\n",
    "    print(f\"Index: {cnt}, Time: {time.time()-start}s, Criterion: {cri}, Accuracy: {accuracy}, Mean: {np.mean(accuracy)}\")\n",
    "    res.append(accuracy)\n",
    "    # print(res)\n",
    "    \n",
    "plt.figure(figsize=(10,5))\n",
    "plt.title('Criterion Result',fontsize=20)\n",
    "labels = 'Gini','Entropy','Log_Loss'\n",
    "plt.boxplot(res, labels = labels)\n",
    "plt.show()"
   ]
  },
  {
   "cell_type": "code",
   "execution_count": 99,
   "id": "0b0dece3",
   "metadata": {},
   "outputs": [
    {
     "name": "stdout",
     "output_type": "stream",
     "text": [
      "Index: 1, Time: 0.7464454174041748s, Max_Depth: 2, Accuracy: [0.87900356 0.84697509 0.90747331 0.9430605  0.94661922], Mean: 0.904626334519573\n",
      "Index: 2, Time: 1.5334110260009766s, Max_Depth: 4, Accuracy: [0.93594306 0.94661922 0.97508897 0.97864769 0.98576512], Mean: 0.9644128113879002\n",
      "Index: 3, Time: 2.4559407234191895s, Max_Depth: 6, Accuracy: [0.95373665 0.97153025 0.97508897 0.97508897 0.98576512], Mean: 0.9722419928825623\n",
      "Index: 4, Time: 3.3361589908599854s, Max_Depth: 8, Accuracy: [0.96085409 0.97508897 0.97508897 0.97508897 0.99288256], Mean: 0.9758007117437721\n",
      "Index: 5, Time: 4.2155921459198s, Max_Depth: 10, Accuracy: [0.96441281 0.97508897 0.98220641 0.97508897 0.98576512], Mean: 0.9765124555160142\n"
     ]
    },
    {
     "data": {
      "image/png": "[encoded data removed]",
      "text/plain": [
       "<Figure size 720x360 with 1 Axes>"
      ]
     },
     "metadata": {
      "needs_background": "light"
     },
     "output_type": "display_data"
    }
   ],
   "source": [
    "max_depth_list = [2, 4, 6, 8, 10]\n",
    "# max_depth_list = [5, 10, 15, 20, 25]\n",
    "# max_depth_list = [10, 20, 30, 40, 50]\n",
    "cnt = 0\n",
    "res = []\n",
    "start = time.time()\n",
    "\n",
    "for max_d in max_depth_list:\n",
    "    cnt += 1\n",
    "    clf = RandomForestClassifier(max_depth=max_d, random_state=0)\n",
    "    accuracy = cross_val_score(clf, X_train_pca, y_train, scoring='accuracy', cv=5)\n",
    "    print(f\"Index: {cnt}, Time: {time.time()-start}s, Max_Depth: {max_d}, Accuracy: {accuracy}, Mean: {np.mean(accuracy)}\")\n",
    "    res.append(accuracy)\n",
    "    # print(res)\n",
    "    \n",
    "plt.figure(figsize=(10,5))\n",
    "plt.title('Max Depth Result',fontsize=20)\n",
    "labels = '2','4', 6, '8', '10'\n",
    "plt.boxplot(res, labels = labels)\n",
    "plt.show()"
   ]
  },
  {
   "cell_type": "markdown",
   "id": "11dcb894",
   "metadata": {},
   "source": [
    "## Method 4: Support Vector Machine"
   ]
  },
  {
   "cell_type": "code",
   "execution_count": 100,
   "id": "a9f29d94",
   "metadata": {
    "scrolled": false
   },
   "outputs": [
    {
     "name": "stdout",
     "output_type": "stream",
     "text": [
      "Index: 1, Time: 0.09360671043395996s, Kernel: linear, Accuracy: [0.93594306 0.95373665 0.96085409 0.96441281 0.98932384], Mean: 0.9608540925266904\n",
      "Index: 2, Time: 0.1968522071838379s, Kernel: poly, Accuracy: [0.94661922 0.91814947 0.94661922 0.96441281 0.96441281], Mean: 0.9480427046263346\n",
      "Index: 3, Time: 0.29010558128356934s, Kernel: rbf, Accuracy: [0.95373665 0.97508897 0.97864769 0.97153025 0.98932384], Mean: 0.9736654804270464\n",
      "Index: 4, Time: 0.40346312522888184s, Kernel: sigmoid, Accuracy: [0.84697509 0.79715302 0.81494662 0.83629893 0.92170819], Mean: 0.8434163701067614\n"
     ]
    },
    {
     "data": {
      "image/png": "[encoded data removed]",
      "text/plain": [
       "<Figure size 720x360 with 1 Axes>"
      ]
     },
     "metadata": {
      "needs_background": "light"
     },
     "output_type": "display_data"
    }
   ],
   "source": [
    "kernel_list = ['linear', 'poly', 'rbf', 'sigmoid']\n",
    "cnt = 0\n",
    "res = []\n",
    "start = time.time()\n",
    "\n",
    "for ker in kernel_list:\n",
    "    cnt += 1\n",
    "    clf = SVC(kernel=ker)\n",
    "    accuracy = cross_val_score(clf, X_train_pca, y_train, scoring='accuracy', cv=5)\n",
    "    print(f\"Index: {cnt}, Time: {time.time()-start}s, Kernel: {ker}, Accuracy: {accuracy}, Mean: {np.mean(accuracy)}\")\n",
    "    res.append(accuracy)\n",
    "    # print(res)\n",
    "    \n",
    "plt.figure(figsize=(10,5))\n",
    "plt.title('Kernel Result',fontsize=20)\n",
    "labels = 'linear', 'poly', 'rbf', 'sigmoid'\n",
    "plt.boxplot(res, labels = labels)\n",
    "plt.show()"
   ]
  },
  {
   "cell_type": "code",
   "execution_count": 101,
   "id": "e901a508",
   "metadata": {},
   "outputs": [
    {
     "name": "stdout",
     "output_type": "stream",
     "text": [
      "Index: 1, Time: 0.17386651039123535s, C: 0.2, Accuracy: [0.95729537 0.93950178 0.97153025 0.97153025 0.98932384], Mean: 0.9658362989323843\n",
      "Index: 2, Time: 0.28760194778442383s, C: 0.4, Accuracy: [0.95729537 0.95017794 0.97508897 0.97508897 0.98576512], Mean: 0.9686832740213521\n",
      "Index: 3, Time: 0.38936567306518555s, C: 0.6, Accuracy: [0.95373665 0.96441281 0.97508897 0.97508897 0.98932384], Mean: 0.9715302491103202\n",
      "Index: 4, Time: 0.4850788116455078s, C: 0.8, Accuracy: [0.95373665 0.97153025 0.97508897 0.97153025 0.98576512], Mean: 0.9715302491103202\n",
      "Index: 5, Time: 0.5760266780853271s, C: 1.0, Accuracy: [0.95373665 0.97508897 0.97864769 0.97153025 0.98932384], Mean: 0.9736654804270464\n",
      "Index: 6, Time: 0.6612796783447266s, C: 1.2, Accuracy: [0.9430605  0.97508897 0.97864769 0.97508897 0.98576512], Mean: 0.9715302491103202\n",
      "Index: 7, Time: 0.7421448230743408s, C: 1.4, Accuracy: [0.9430605  0.97153025 0.97864769 0.97153025 0.99288256], Mean: 0.9715302491103202\n"
     ]
    },
    {
     "data": {
      "image/png": "[encoded data removed]",
      "text/plain": [
       "<Figure size 720x360 with 1 Axes>"
      ]
     },
     "metadata": {
      "needs_background": "light"
     },
     "output_type": "display_data"
    }
   ],
   "source": [
    "C_list = [0.2, 0.4, 0.6, 0.8, 1.0, 1.2, 1.4]\n",
    "cnt = 0\n",
    "res = []\n",
    "start = time.time()\n",
    "\n",
    "for c in C_list:\n",
    "    cnt += 1\n",
    "    clf = SVC(C = c, kernel = 'rbf')\n",
    "    accuracy = cross_val_score(clf, X_train_pca, y_train, scoring='accuracy', cv=5)\n",
    "    print(f\"Index: {cnt}, Time: {time.time()-start}s, C: {c}, Accuracy: {accuracy}, Mean: {np.mean(accuracy)}\")\n",
    "    res.append(accuracy)\n",
    "    # print(res)\n",
    "    \n",
    "plt.figure(figsize=(10,5))\n",
    "plt.title('C Result',fontsize=20)\n",
    "labels = '0.2', '0.4', '0.6', '0.8', '1.0', '1.2', '1.4'\n",
    "plt.boxplot(res, labels = labels)\n",
    "plt.show()"
   ]
  },
  {
   "cell_type": "code",
   "execution_count": null,
   "id": "730ca98d",
   "metadata": {},
   "outputs": [],
   "source": []
  },
  {
   "cell_type": "code",
   "execution_count": null,
   "id": "2445b696",
   "metadata": {},
   "outputs": [],
   "source": []
  },
  {
   "cell_type": "code",
   "execution_count": null,
   "id": "17478eb6",
   "metadata": {},
   "outputs": [],
   "source": []
  },
  {
   "cell_type": "code",
   "execution_count": null,
   "id": "4ef6fce1",
   "metadata": {},
   "outputs": [],
   "source": []
  },
  {
   "cell_type": "code",
   "execution_count": null,
   "id": "3b8509a4",
   "metadata": {},
   "outputs": [],
   "source": []
  },
  {
   "cell_type": "markdown",
   "id": "ff07eb75",
   "metadata": {},
   "source": [
    "# Multi-class classification"
   ]
  },
  {
   "cell_type": "code",
   "execution_count": 102,
   "id": "5eac4a2f",
   "metadata": {},
   "outputs": [],
   "source": [
    "letter_recognition = pd.read_csv(\"letter-recognition.data\")\n",
    "letter_recognition = letter_recognition.values"
   ]
  },
  {
   "cell_type": "code",
   "execution_count": 103,
   "id": "2ec4b028",
   "metadata": {},
   "outputs": [],
   "source": [
    "H = letter_recognition[np.where(letter_recognition[:, 0] == 'H')]\n",
    "K = letter_recognition[np.where(letter_recognition[:, 0] == 'K')]\n",
    "M = letter_recognition[np.where(letter_recognition[:, 0] == 'M')]\n",
    "Y = letter_recognition[np.where(letter_recognition[:, 0] == 'Y')]\n",
    "F = letter_recognition[np.where(letter_recognition[:, 0] == 'F')]\n",
    "X = letter_recognition[np.where(letter_recognition[:, 0] == 'X')]\n",
    "Multi_class = np.concatenate((H,K,M,Y,F,X))"
   ]
  },
  {
   "cell_type": "code",
   "execution_count": 104,
   "id": "05f710a2",
   "metadata": {},
   "outputs": [],
   "source": [
    "X_train, X_val, y_train, y_val = train_test_split(Multi_class[:,1:], Multi_class[:,0], test_size=0.1, random_state=0)\n",
    "# print(X_train.shape)\n",
    "# print(X_val.shape)\n",
    "# print(y_train.shape)\n",
    "# print(y_val.shape)"
   ]
  },
  {
   "cell_type": "markdown",
   "id": "ec4c0761",
   "metadata": {},
   "source": [
    "## Method: KNN"
   ]
  },
  {
   "cell_type": "code",
   "execution_count": 85,
   "id": "9df154e8",
   "metadata": {},
   "outputs": [
    {
     "name": "stdout",
     "output_type": "stream",
     "text": [
      "Index: 1, Time: 0.40854883193969727s, N_Neighbors: 1, Accuracy: [0.98194946 0.97710843 0.97590361 0.96987952 0.97590361], Mean: 0.9761489278413291\n",
      "Index: 2, Time: 0.7985398769378662s, N_Neighbors: 3, Accuracy: [0.98315283 0.97590361 0.97228916 0.96746988 0.97108434], Mean: 0.9739799631739956\n",
      "Index: 3, Time: 1.285801887512207s, N_Neighbors: 5, Accuracy: [0.97713598 0.97831325 0.96746988 0.96506024 0.9746988 ], Mean: 0.9725356298841575\n",
      "Index: 4, Time: 1.779890775680542s, N_Neighbors: 7, Accuracy: [0.97472924 0.97831325 0.96506024 0.9626506  0.97349398], Mean: 0.9708494628332826\n",
      "Index: 5, Time: 2.256436824798584s, N_Neighbors: 9, Accuracy: [0.9723225  0.97951807 0.95783133 0.9626506  0.9686747 ], Mean: 0.9681994403607209\n"
     ]
    },
    {
     "data": {
      "image/png": "[encoded data removed]",
      "text/plain": [
       "<Figure size 720x360 with 1 Axes>"
      ]
     },
     "metadata": {
      "needs_background": "light"
     },
     "output_type": "display_data"
    }
   ],
   "source": [
    "n_neighbors_list = [1, 3, 5, 7, 9]\n",
    "cnt = 0\n",
    "res = []\n",
    "start = time.time()\n",
    "\n",
    "for nn in n_neighbors_list:\n",
    "    cnt += 1\n",
    "    clf = KNeighborsClassifier(n_neighbors=nn)\n",
    "    accuracy = cross_val_score(clf, X_train, y_train, scoring='accuracy', cv=5)\n",
    "    print(f\"Index: {cnt}, Time: {time.time()-start}s, N_Neighbors: {nn}, Accuracy: {accuracy}, Mean: {np.mean(accuracy)}\")\n",
    "    res.append(accuracy)\n",
    "    # print(res)\n",
    "    \n",
    "plt.figure(figsize=(10,5))\n",
    "plt.title('N_Neighbors Result',fontsize=20)\n",
    "labels = '1', '3', '5', '7', '9'\n",
    "plt.boxplot(res, labels = labels)\n",
    "plt.show()"
   ]
  },
  {
   "cell_type": "code",
   "execution_count": 86,
   "id": "2fd41f47",
   "metadata": {},
   "outputs": [
    {
     "name": "stdout",
     "output_type": "stream",
     "text": [
      "Index: 1, Time: 0.5059695243835449s, Weights: uniform, Accuracy: [0.97713598 0.97831325 0.96746988 0.96506024 0.9746988 ], Mean: 0.9725356298841575\n",
      "Index: 2, Time: 0.8586010932922363s, Weights: distance, Accuracy: [0.98555957 0.97831325 0.97108434 0.96746988 0.97590361], Mean: 0.9756661302248706\n"
     ]
    },
    {
     "data": {
      "image/png": "[encoded data removed]",
      "text/plain": [
       "<Figure size 720x360 with 1 Axes>"
      ]
     },
     "metadata": {
      "needs_background": "light"
     },
     "output_type": "display_data"
    }
   ],
   "source": [
    "weights_list = ['uniform', 'distance']\n",
    "cnt = 0\n",
    "res = []\n",
    "start = time.time()\n",
    "\n",
    "for wei in weights_list:\n",
    "    cnt += 1\n",
    "    clf = KNeighborsClassifier(weights = wei)\n",
    "    accuracy = cross_val_score(clf, X_train, y_train, scoring='accuracy', cv=5)\n",
    "    print(f\"Index: {cnt}, Time: {time.time()-start}s, Weights: {wei}, Accuracy: {accuracy}, Mean: {np.mean(accuracy)}\")\n",
    "    res.append(accuracy)\n",
    "    # print(res)\n",
    "    \n",
    "plt.figure(figsize=(10,5))\n",
    "plt.title('Weights Result',fontsize=20)\n",
    "labels = 'uniform', 'distance'\n",
    "plt.boxplot(res, labels = labels)\n",
    "plt.show()"
   ]
  },
  {
   "cell_type": "code",
   "execution_count": 87,
   "id": "e1e5bd9c",
   "metadata": {},
   "outputs": [
    {
     "name": "stdout",
     "output_type": "stream",
     "text": [
      "Index: 1, Time: 0.515568733215332s, Algorithm: auto, Accuracy: [0.97713598 0.97831325 0.96746988 0.96506024 0.9746988 ], Mean: 0.9725356298841575\n",
      "Index: 2, Time: 0.9881424903869629s, Algorithm: ball_tree, Accuracy: [0.97352587 0.97951807 0.96385542 0.96746988 0.9746988 ], Mean: 0.9718136082235078\n",
      "Index: 3, Time: 1.3112316131591797s, Algorithm: kd_tree, Accuracy: [0.97713598 0.97951807 0.96385542 0.96506024 0.9746988 ], Mean: 0.9720537021733142\n",
      "Index: 4, Time: 1.785325050354004s, Algorithm: brute, Accuracy: [0.97713598 0.97831325 0.96746988 0.96506024 0.9746988 ], Mean: 0.9725356298841575\n"
     ]
    },
    {
     "data": {
      "image/png": "[encoded data removed]",
      "text/plain": [
       "<Figure size 720x360 with 1 Axes>"
      ]
     },
     "metadata": {
      "needs_background": "light"
     },
     "output_type": "display_data"
    }
   ],
   "source": [
    "algorithm_list = ['auto', 'ball_tree', 'kd_tree', 'brute']\n",
    "cnt = 0\n",
    "res = []\n",
    "start = time.time()\n",
    "\n",
    "for alg in algorithm_list:\n",
    "    cnt += 1\n",
    "    clf = KNeighborsClassifier(algorithm = alg)\n",
    "    accuracy = cross_val_score(clf, X_train, y_train, scoring='accuracy', cv=5)\n",
    "    print(f\"Index: {cnt}, Time: {time.time()-start}s, Algorithm: {alg}, Accuracy: {accuracy}, Mean: {np.mean(accuracy)}\")\n",
    "    res.append(accuracy)\n",
    "    # print(res)\n",
    "    \n",
    "plt.figure(figsize=(10,5))\n",
    "plt.title('Algorithm Result',fontsize=20)\n",
    "labels = 'auto', 'ball_tree', 'kd_tree', 'brute'\n",
    "plt.boxplot(res, labels = labels)\n",
    "plt.show()"
   ]
  },
  {
   "cell_type": "markdown",
   "id": "c52a3159",
   "metadata": {},
   "source": [
    "# Simple Quality filtering (Low Variance)"
   ]
  },
  {
   "cell_type": "code",
   "execution_count": 105,
   "id": "9b559884",
   "metadata": {},
   "outputs": [
    {
     "name": "stdout",
     "output_type": "stream",
     "text": [
      "[(1, 10.806142094033056), (7, 9.32589750180522), (12, 6.993124811783075), (10, 6.206387503401237), (4, 5.711127068323864), (14, 5.392168826045954), (3, 5.278014411518096), (8, 4.892841952036721), (9, 4.846096707866284), (2, 4.621054122788687), (5, 4.369022891042683), (6, 3.977242497316194), (0, 3.7017193803121478), (13, 3.2569238075467464), (11, 3.093783626193684), (15, 2.738035219604702)]\n"
     ]
    }
   ],
   "source": [
    "variance_feature_16 = {}\n",
    "for i in range(16):\n",
    "    variance_feature_16.update({i: np.var(X_train[:,i])})\n",
    "variance_feature_16 = sorted(variance_feature_16.items(), key=lambda x: x[1], reverse=True)\n",
    "print(variance_feature_16)"
   ]
  },
  {
   "cell_type": "code",
   "execution_count": 106,
   "id": "5fd0be72",
   "metadata": {},
   "outputs": [
    {
     "name": "stdout",
     "output_type": "stream",
     "text": [
      "(4151, 4)\n"
     ]
    }
   ],
   "source": [
    "X_train_lv_1 = X_train[:,1]\n",
    "X_train_lv_7 = X_train[:,7]\n",
    "X_train_lv_12 = X_train[:,12]\n",
    "X_train_lv_10 = X_train[:,10]\n",
    "X_train_lv = np.c_[X_train_lv_1,X_train_lv_7,X_train_lv_12,X_train_lv_10]\n",
    "print(X_train_lv.shape)"
   ]
  },
  {
   "cell_type": "markdown",
   "id": "c6d596f8",
   "metadata": {},
   "source": [
    "## Method: KNN"
   ]
  },
  {
   "cell_type": "code",
   "execution_count": 90,
   "id": "04d8112b",
   "metadata": {},
   "outputs": [
    {
     "name": "stdout",
     "output_type": "stream",
     "text": [
      "Index: 1, Time: 0.15556836128234863s, N_Neighbors: 1, Accuracy: [0.74247894 0.76506024 0.7686747  0.7626506  0.7686747 ], Mean: 0.7615078363997506\n",
      "Index: 2, Time: 0.30254673957824707s, N_Neighbors: 3, Accuracy: [0.77015644 0.76506024 0.78674699 0.7746988  0.77228916], Mean: 0.7737903237498731\n",
      "Index: 3, Time: 0.44657158851623535s, N_Neighbors: 5, Accuracy: [0.76895307 0.75662651 0.78554217 0.76506024 0.77590361], Mean: 0.7704171197425078\n",
      "Index: 4, Time: 0.5964517593383789s, N_Neighbors: 7, Accuracy: [0.7677497  0.75542169 0.79518072 0.76144578 0.78433735], Mean: 0.7728270482652632\n",
      "Index: 5, Time: 0.7526390552520752s, N_Neighbors: 9, Accuracy: [0.77376655 0.75662651 0.77710843 0.76024096 0.78433735], Mean: 0.7704159598683542\n"
     ]
    },
    {
     "data": {
      "image/png": "[encoded data removed]",
      "text/plain": [
       "<Figure size 720x360 with 1 Axes>"
      ]
     },
     "metadata": {
      "needs_background": "light"
     },
     "output_type": "display_data"
    }
   ],
   "source": [
    "n_neighbors_list = [1, 3, 5, 7, 9]\n",
    "cnt = 0\n",
    "res = []\n",
    "start = time.time()\n",
    "\n",
    "for nn in n_neighbors_list:\n",
    "    cnt += 1\n",
    "    clf = KNeighborsClassifier(n_neighbors=nn)\n",
    "    accuracy = cross_val_score(clf, X_train_lv, y_train, scoring='accuracy', cv=5)\n",
    "    print(f\"Index: {cnt}, Time: {time.time()-start}s, N_Neighbors: {nn}, Accuracy: {accuracy}, Mean: {np.mean(accuracy)}\")\n",
    "    res.append(accuracy)\n",
    "    # print(res)\n",
    "    \n",
    "plt.figure(figsize=(10,5))\n",
    "plt.title('N_Neighbors Result',fontsize=20)\n",
    "labels = '1', '3', '5', '7', '9'\n",
    "plt.boxplot(res, labels = labels)\n",
    "plt.show()"
   ]
  },
  {
   "cell_type": "code",
   "execution_count": 91,
   "id": "b4105e8d",
   "metadata": {},
   "outputs": [
    {
     "name": "stdout",
     "output_type": "stream",
     "text": [
      "Index: 1, Time: 0.16174602508544922s, Weights: uniform, Accuracy: [0.76895307 0.75662651 0.78554217 0.76506024 0.77590361], Mean: 0.7704171197425078\n",
      "Index: 2, Time: 0.2246086597442627s, Weights: distance, Accuracy: [0.77737665 0.76746988 0.80361446 0.77710843 0.80240964], Mean: 0.7855958128543054\n"
     ]
    },
    {
     "data": {
      "image/png": "[encoded data removed]",
      "text/plain": [
       "<Figure size 720x360 with 1 Axes>"
      ]
     },
     "metadata": {
      "needs_background": "light"
     },
     "output_type": "display_data"
    }
   ],
   "source": [
    "weights_list = ['uniform', 'distance']\n",
    "cnt = 0\n",
    "res = []\n",
    "start = time.time()\n",
    "\n",
    "for wei in weights_list:\n",
    "    cnt += 1\n",
    "    clf = KNeighborsClassifier(weights = wei)\n",
    "    accuracy = cross_val_score(clf, X_train_lv, y_train, scoring='accuracy', cv=5)\n",
    "    print(f\"Index: {cnt}, Time: {time.time()-start}s, Weights: {wei}, Accuracy: {accuracy}, Mean: {np.mean(accuracy)}\")\n",
    "    res.append(accuracy)\n",
    "    # print(res)\n",
    "    \n",
    "plt.figure(figsize=(10,5))\n",
    "plt.title('Weights Result',fontsize=20)\n",
    "labels = 'uniform', 'distance'\n",
    "plt.boxplot(res, labels = labels)\n",
    "plt.show()"
   ]
  },
  {
   "cell_type": "code",
   "execution_count": 92,
   "id": "e67a3d83",
   "metadata": {},
   "outputs": [
    {
     "name": "stdout",
     "output_type": "stream",
     "text": [
      "Index: 1, Time: 0.1624612808227539s, Algorithm: auto, Accuracy: [0.76895307 0.75662651 0.78554217 0.76506024 0.77590361], Mean: 0.7704171197425078\n",
      "Index: 2, Time: 0.3481271266937256s, Algorithm: ball_tree, Accuracy: [0.77978339 0.76144578 0.79036145 0.7746988  0.77108434], Mean: 0.7754747509895177\n",
      "Index: 3, Time: 0.497023344039917s, Algorithm: kd_tree, Accuracy: [0.76895307 0.75662651 0.78554217 0.76506024 0.77590361], Mean: 0.7704171197425078\n",
      "Index: 4, Time: 0.9464342594146729s, Algorithm: brute, Accuracy: [0.7677497  0.7686747  0.77831325 0.77590361 0.7746988 ], Mean: 0.773068012120685\n"
     ]
    },
    {
     "data": {
      "image/png": "[encoded data removed]",
      "text/plain": [
       "<Figure size 720x360 with 1 Axes>"
      ]
     },
     "metadata": {
      "needs_background": "light"
     },
     "output_type": "display_data"
    }
   ],
   "source": [
    "algorithm_list = ['auto', 'ball_tree', 'kd_tree', 'brute']\n",
    "cnt = 0\n",
    "res = []\n",
    "start = time.time()\n",
    "\n",
    "for alg in algorithm_list:\n",
    "    cnt += 1\n",
    "    clf = KNeighborsClassifier(algorithm = alg)\n",
    "    accuracy = cross_val_score(clf, X_train_lv, y_train, scoring='accuracy', cv=5)\n",
    "    print(f\"Index: {cnt}, Time: {time.time()-start}s, Algorithm: {alg}, Accuracy: {accuracy}, Mean: {np.mean(accuracy)}\")\n",
    "    res.append(accuracy)\n",
    "    # print(res)\n",
    "    \n",
    "plt.figure(figsize=(10,5))\n",
    "plt.title('Algorithm Result',fontsize=20)\n",
    "labels = 'auto', 'ball_tree', 'kd_tree', 'brute'\n",
    "plt.boxplot(res, labels = labels)\n",
    "plt.show()"
   ]
  },
  {
   "cell_type": "code",
   "execution_count": null,
   "id": "511cfaca",
   "metadata": {},
   "outputs": [],
   "source": []
  },
  {
   "cell_type": "code",
   "execution_count": null,
   "id": "9a99a157",
   "metadata": {},
   "outputs": [],
   "source": []
  },
  {
   "cell_type": "code",
   "execution_count": null,
   "id": "904623c8",
   "metadata": {},
   "outputs": [],
   "source": []
  },
  {
   "cell_type": "markdown",
   "id": "d0c1c7dc",
   "metadata": {},
   "source": [
    "# Discussion"
   ]
  },
  {
   "cell_type": "markdown",
   "id": "4ffd68d4",
   "metadata": {},
   "source": [
    "## Pair 1: H and K"
   ]
  },
  {
   "cell_type": "code",
   "execution_count": 113,
   "id": "8fe9b1e3",
   "metadata": {},
   "outputs": [],
   "source": [
    "letter_recognition = pd.read_csv(\"letter-recognition.data\")\n",
    "letter_recognition = letter_recognition.values"
   ]
  },
  {
   "cell_type": "code",
   "execution_count": 114,
   "id": "6369d00d",
   "metadata": {},
   "outputs": [],
   "source": [
    "H = letter_recognition[np.where(letter_recognition[:, 0] == 'H')]\n",
    "K = letter_recognition[np.where(letter_recognition[:, 0] == 'K')]\n",
    "Pair_1 = np.concatenate((H,K))\n",
    "X_train, X_val, y_train, y_val = train_test_split(Pair_1[:,1:], Pair_1[:,0], test_size=0.1, random_state=0)"
   ]
  },
  {
   "cell_type": "markdown",
   "id": "02f5c6e6",
   "metadata": {},
   "source": [
    "### Method 1: KNN "
   ]
  },
  {
   "cell_type": "code",
   "execution_count": 45,
   "id": "d0b11590",
   "metadata": {},
   "outputs": [
    {
     "name": "stdout",
     "output_type": "stream",
     "text": [
      "Accuracy: 0.9391891891891891, Time: 0.01628589630126953s\n"
     ]
    }
   ],
   "source": [
    "start = time.time()\n",
    "clf = KNeighborsClassifier(n_neighbors = 1)\n",
    "clf.fit(X_train, y_train)\n",
    "accuracy = clf.score(X_val, y_val)\n",
    "print(f\"Accuracy: {accuracy}, Time: {time.time()-start}s\")"
   ]
  },
  {
   "cell_type": "code",
   "execution_count": 46,
   "id": "fcf24c1c",
   "metadata": {},
   "outputs": [
    {
     "name": "stdout",
     "output_type": "stream",
     "text": [
      "Accuracy: 0.918918918918919, Time: 0.010161638259887695s\n"
     ]
    }
   ],
   "source": [
    "start = time.time()\n",
    "clf = KNeighborsClassifier(weights = 'distance')\n",
    "clf.fit(X_train, y_train)\n",
    "accuracy = clf.score(X_val, y_val)\n",
    "print(f\"Accuracy: {accuracy}, Time: {time.time()-start}s\")"
   ]
  },
  {
   "cell_type": "code",
   "execution_count": 47,
   "id": "df406b03",
   "metadata": {},
   "outputs": [
    {
     "name": "stdout",
     "output_type": "stream",
     "text": [
      "Accuracy: 0.918918918918919, Time: 0.016132354736328125s\n"
     ]
    }
   ],
   "source": [
    "start = time.time()\n",
    "clf = KNeighborsClassifier(algorithm = 'auto')\n",
    "clf.fit(X_train, y_train)\n",
    "accuracy = clf.score(X_val, y_val)\n",
    "print(f\"Accuracy: {accuracy}, Time: {time.time()-start}s\")"
   ]
  },
  {
   "cell_type": "markdown",
   "id": "87e262e1",
   "metadata": {},
   "source": [
    "### Method 2: Decision Tree "
   ]
  },
  {
   "cell_type": "code",
   "execution_count": 48,
   "id": "f408b89c",
   "metadata": {},
   "outputs": [
    {
     "name": "stdout",
     "output_type": "stream",
     "text": [
      "Accuracy: 0.9594594594594594, Time: 0.0153656005859375s\n"
     ]
    }
   ],
   "source": [
    "start = time.time()\n",
    "clf = DecisionTreeClassifier(criterion = 'entropy')\n",
    "clf.fit(X_train, y_train)\n",
    "accuracy = clf.score(X_val, y_val)\n",
    "print(f\"Accuracy: {accuracy}, Time: {time.time()-start}s\")"
   ]
  },
  {
   "cell_type": "code",
   "execution_count": 49,
   "id": "2a6e3170",
   "metadata": {},
   "outputs": [
    {
     "name": "stdout",
     "output_type": "stream",
     "text": [
      "Accuracy: 0.9391891891891891, Time: 0.008028507232666016s\n"
     ]
    }
   ],
   "source": [
    "start = time.time()\n",
    "clf = DecisionTreeClassifier(max_depth = 30)\n",
    "clf.fit(X_train, y_train)\n",
    "accuracy = clf.score(X_val, y_val)\n",
    "print(f\"Accuracy: {accuracy}, Time: {time.time()-start}s\")"
   ]
  },
  {
   "cell_type": "markdown",
   "id": "5f62e86d",
   "metadata": {},
   "source": [
    "### Method 3: Random Forest"
   ]
  },
  {
   "cell_type": "code",
   "execution_count": 52,
   "id": "09bc721f",
   "metadata": {},
   "outputs": [
    {
     "name": "stdout",
     "output_type": "stream",
     "text": [
      "Accuracy: 0.9594594594594594, Time: 0.21917414665222168s\n"
     ]
    }
   ],
   "source": [
    "start = time.time()\n",
    "clf = RandomForestClassifier(criterion = 'entropy', random_state=0)\n",
    "clf.fit(X_train, y_train)\n",
    "accuracy = clf.score(X_val, y_val)\n",
    "print(f\"Accuracy: {accuracy}, Time: {time.time()-start}s\")"
   ]
  },
  {
   "cell_type": "code",
   "execution_count": 53,
   "id": "202c6929",
   "metadata": {},
   "outputs": [
    {
     "name": "stdout",
     "output_type": "stream",
     "text": [
      "Accuracy: 0.9527027027027027, Time: 0.21585321426391602s\n"
     ]
    }
   ],
   "source": [
    "start = time.time()\n",
    "clf = RandomForestClassifier(max_depth = 15, random_state=0)\n",
    "clf.fit(X_train, y_train)\n",
    "accuracy = clf.score(X_val, y_val)\n",
    "print(f\"Accuracy: {accuracy}, Time: {time.time()-start}s\")"
   ]
  },
  {
   "cell_type": "code",
   "execution_count": 54,
   "id": "d97783f6",
   "metadata": {},
   "outputs": [
    {
     "name": "stdout",
     "output_type": "stream",
     "text": [
      "Accuracy: 0.9527027027027027, Time: 0.07050728797912598s\n"
     ]
    }
   ],
   "source": [
    "start = time.time()\n",
    "clf = RandomForestClassifier(n_estimators = 25, random_state=0)\n",
    "clf.fit(X_train, y_train)\n",
    "accuracy = clf.score(X_val, y_val)\n",
    "print(f\"Accuracy: {accuracy}, Time: {time.time()-start}s\")"
   ]
  },
  {
   "cell_type": "markdown",
   "id": "d1ab11b5",
   "metadata": {},
   "source": [
    "### Method 4: Support Vector Machine"
   ]
  },
  {
   "cell_type": "code",
   "execution_count": 55,
   "id": "0509cff9",
   "metadata": {},
   "outputs": [
    {
     "name": "stdout",
     "output_type": "stream",
     "text": [
      "Accuracy: 0.9594594594594594, Time: 0.04722738265991211s\n"
     ]
    }
   ],
   "source": [
    "start = time.time()\n",
    "clf = SVC(kernel = 'poly')\n",
    "clf.fit(X_train, y_train)\n",
    "accuracy = clf.score(X_val, y_val)\n",
    "print(f\"Accuracy: {accuracy}, Time: {time.time()-start}s\")"
   ]
  },
  {
   "cell_type": "code",
   "execution_count": 57,
   "id": "8b3b9331",
   "metadata": {},
   "outputs": [
    {
     "name": "stdout",
     "output_type": "stream",
     "text": [
      "Accuracy: 0.9527027027027027, Time: 0.03994917869567871s\n"
     ]
    }
   ],
   "source": [
    "start = time.time()\n",
    "clf = SVC(C = 1.4)\n",
    "clf.fit(X_train, y_train)\n",
    "accuracy = clf.score(X_val, y_val)\n",
    "print(f\"Accuracy: {accuracy}, Time: {time.time()-start}s\")"
   ]
  },
  {
   "cell_type": "markdown",
   "id": "073a25e4",
   "metadata": {},
   "source": [
    "## Feature extraction (PCA)"
   ]
  },
  {
   "cell_type": "code",
   "execution_count": 138,
   "id": "2fd00f1f",
   "metadata": {},
   "outputs": [],
   "source": [
    "letter_recognition = pd.read_csv(\"letter-recognition.data\")\n",
    "letter_recognition = letter_recognition.values"
   ]
  },
  {
   "cell_type": "code",
   "execution_count": 139,
   "id": "e36bde61",
   "metadata": {},
   "outputs": [],
   "source": [
    "H = letter_recognition[np.where(letter_recognition[:, 0] == 'H')]\n",
    "K = letter_recognition[np.where(letter_recognition[:, 0] == 'K')]\n",
    "Pair_1 = np.concatenate((H,K))\n",
    "X, y = Pair_1[:,1:], Pair_1[:,0]"
   ]
  },
  {
   "cell_type": "code",
   "execution_count": 140,
   "id": "63c6ac59",
   "metadata": {},
   "outputs": [],
   "source": [
    "pca = PCA(n_components=4)\n",
    "X_pca = pca.fit_transform(X)\n",
    "X_train, X_val, y_train, y_val = train_test_split(X_pca, y, test_size=0.1, random_state=0)"
   ]
  },
  {
   "cell_type": "markdown",
   "id": "cb07966f",
   "metadata": {},
   "source": [
    "### Method 1: KNN "
   ]
  },
  {
   "cell_type": "code",
   "execution_count": 142,
   "id": "542e985a",
   "metadata": {},
   "outputs": [
    {
     "name": "stdout",
     "output_type": "stream",
     "text": [
      "Accuracy: 0.8513513513513513, Time: 0.009579181671142578s\n"
     ]
    }
   ],
   "source": [
    "start = time.time()\n",
    "clf = KNeighborsClassifier(n_neighbors = 3)\n",
    "clf.fit(X_train, y_train)\n",
    "accuracy = clf.score(X_val, y_val)\n",
    "print(f\"Accuracy: {accuracy}, Time: {time.time()-start}s\")"
   ]
  },
  {
   "cell_type": "code",
   "execution_count": 111,
   "id": "f1ffdf1a",
   "metadata": {},
   "outputs": [
    {
     "name": "stdout",
     "output_type": "stream",
     "text": [
      "Accuracy: 0.918918918918919, Time: 0.009538412094116211s\n"
     ]
    }
   ],
   "source": [
    "start = time.time()\n",
    "clf = KNeighborsClassifier(weights = 'distance')\n",
    "clf.fit(X_train, y_train)\n",
    "accuracy = clf.score(X_val, y_val)\n",
    "print(f\"Accuracy: {accuracy}, Time: {time.time()-start}s\")"
   ]
  },
  {
   "cell_type": "code",
   "execution_count": 126,
   "id": "619258a3",
   "metadata": {},
   "outputs": [
    {
     "name": "stdout",
     "output_type": "stream",
     "text": [
      "Accuracy: 0.8648648648648649, Time: 0.01177525520324707s\n"
     ]
    }
   ],
   "source": [
    "start = time.time()\n",
    "clf = KNeighborsClassifier(algorithm = 'auto')\n",
    "clf.fit(X_train, y_train)\n",
    "accuracy = clf.score(X_val, y_val)\n",
    "print(f\"Accuracy: {accuracy}, Time: {time.time()-start}s\")"
   ]
  },
  {
   "cell_type": "markdown",
   "id": "3e6f402e",
   "metadata": {},
   "source": [
    "### Method 2: Decision Tree"
   ]
  },
  {
   "cell_type": "code",
   "execution_count": 127,
   "id": "58d47a11",
   "metadata": {},
   "outputs": [
    {
     "name": "stdout",
     "output_type": "stream",
     "text": [
      "Accuracy: 0.8581081081081081, Time: 0.006761074066162109s\n"
     ]
    }
   ],
   "source": [
    "start = time.time()\n",
    "clf = DecisionTreeClassifier(criterion = 'gini')\n",
    "clf.fit(X_train, y_train)\n",
    "accuracy = clf.score(X_val, y_val)\n",
    "print(f\"Accuracy: {accuracy}, Time: {time.time()-start}s\")"
   ]
  },
  {
   "cell_type": "code",
   "execution_count": 128,
   "id": "ad21b6b3",
   "metadata": {},
   "outputs": [
    {
     "name": "stdout",
     "output_type": "stream",
     "text": [
      "Accuracy: 0.8648648648648649, Time: 0.006043195724487305s\n"
     ]
    }
   ],
   "source": [
    "start = time.time()\n",
    "clf = DecisionTreeClassifier(max_depth = 25)\n",
    "clf.fit(X_train, y_train)\n",
    "accuracy = clf.score(X_val, y_val)\n",
    "print(f\"Accuracy: {accuracy}, Time: {time.time()-start}s\")"
   ]
  },
  {
   "cell_type": "markdown",
   "id": "b8b581bc",
   "metadata": {},
   "source": [
    "### Method 3: Random Forest"
   ]
  },
  {
   "cell_type": "code",
   "execution_count": 129,
   "id": "7736b6f7",
   "metadata": {},
   "outputs": [
    {
     "name": "stdout",
     "output_type": "stream",
     "text": [
      "Accuracy: 0.8783783783783784, Time: 0.32607388496398926s\n"
     ]
    }
   ],
   "source": [
    "start = time.time()\n",
    "clf = RandomForestClassifier(criterion = 'entropy', random_state=0)\n",
    "clf.fit(X_train, y_train)\n",
    "accuracy = clf.score(X_val, y_val)\n",
    "print(f\"Accuracy: {accuracy}, Time: {time.time()-start}s\")"
   ]
  },
  {
   "cell_type": "code",
   "execution_count": 130,
   "id": "5b9e6aac",
   "metadata": {},
   "outputs": [
    {
     "name": "stdout",
     "output_type": "stream",
     "text": [
      "Accuracy: 0.8648648648648649, Time: 0.2603459358215332s\n"
     ]
    }
   ],
   "source": [
    "start = time.time()\n",
    "clf = RandomForestClassifier(max_depth = 25, random_state=0)\n",
    "clf.fit(X_train, y_train)\n",
    "accuracy = clf.score(X_val, y_val)\n",
    "print(f\"Accuracy: {accuracy}, Time: {time.time()-start}s\")"
   ]
  },
  {
   "cell_type": "code",
   "execution_count": 131,
   "id": "a1fa4741",
   "metadata": {},
   "outputs": [
    {
     "name": "stdout",
     "output_type": "stream",
     "text": [
      "Accuracy: 0.8513513513513513, Time: 0.11377167701721191s\n"
     ]
    }
   ],
   "source": [
    "start = time.time()\n",
    "clf = RandomForestClassifier(n_estimators = 25, random_state=0)\n",
    "clf.fit(X_train, y_train)\n",
    "accuracy = clf.score(X_val, y_val)\n",
    "print(f\"Accuracy: {accuracy}, Time: {time.time()-start}s\")"
   ]
  },
  {
   "cell_type": "markdown",
   "id": "b3adb652",
   "metadata": {},
   "source": [
    "### Method 4: Support Vector Machine"
   ]
  },
  {
   "cell_type": "code",
   "execution_count": 132,
   "id": "8135f571",
   "metadata": {},
   "outputs": [
    {
     "name": "stdout",
     "output_type": "stream",
     "text": [
      "Accuracy: 0.8851351351351351, Time: 0.048752784729003906s\n"
     ]
    }
   ],
   "source": [
    "start = time.time()\n",
    "clf = SVC(kernel = 'rbf')\n",
    "clf.fit(X_train, y_train)\n",
    "accuracy = clf.score(X_val, y_val)\n",
    "print(f\"Accuracy: {accuracy}, Time: {time.time()-start}s\")"
   ]
  },
  {
   "cell_type": "code",
   "execution_count": 133,
   "id": "89b89ed3",
   "metadata": {},
   "outputs": [
    {
     "name": "stdout",
     "output_type": "stream",
     "text": [
      "Accuracy: 0.8851351351351351, Time: 0.054361581802368164s\n"
     ]
    }
   ],
   "source": [
    "start = time.time()\n",
    "clf = SVC(C = 1.0)\n",
    "clf.fit(X_train, y_train)\n",
    "accuracy = clf.score(X_val, y_val)\n",
    "print(f\"Accuracy: {accuracy}, Time: {time.time()-start}s\")"
   ]
  },
  {
   "cell_type": "markdown",
   "id": "60a09537",
   "metadata": {},
   "source": [
    "## Pair 2: M and Y"
   ]
  },
  {
   "cell_type": "code",
   "execution_count": 143,
   "id": "49355515",
   "metadata": {},
   "outputs": [],
   "source": [
    "letter_recognition = pd.read_csv(\"letter-recognition.data\")\n",
    "letter_recognition = letter_recognition.values"
   ]
  },
  {
   "cell_type": "code",
   "execution_count": 144,
   "id": "f886df79",
   "metadata": {},
   "outputs": [],
   "source": [
    "M = letter_recognition[np.where(letter_recognition[:, 0] == 'M')]\n",
    "Y = letter_recognition[np.where(letter_recognition[:, 0] == 'Y')]\n",
    "Pair_2 = np.concatenate((M,Y))"
   ]
  },
  {
   "cell_type": "code",
   "execution_count": 145,
   "id": "b83d6ddb",
   "metadata": {},
   "outputs": [],
   "source": [
    "X_train, X_val, y_train, y_val = train_test_split(Pair_2[:,1:], Pair_2[:,0], test_size=0.1, random_state=0)"
   ]
  },
  {
   "cell_type": "markdown",
   "id": "15aedda3",
   "metadata": {},
   "source": [
    "### Method 1: KNN "
   ]
  },
  {
   "cell_type": "code",
   "execution_count": 146,
   "id": "23f4167b",
   "metadata": {},
   "outputs": [
    {
     "name": "stdout",
     "output_type": "stream",
     "text": [
      "Accuracy: 1.0, Time: 0.0156705379486084s\n"
     ]
    }
   ],
   "source": [
    "start = time.time()\n",
    "clf = KNeighborsClassifier(n_neighbors = 1)\n",
    "clf.fit(X_train, y_train)\n",
    "accuracy = clf.score(X_val, y_val)\n",
    "print(f\"Accuracy: {accuracy}, Time: {time.time()-start}s\")"
   ]
  },
  {
   "cell_type": "code",
   "execution_count": 147,
   "id": "42047eb7",
   "metadata": {},
   "outputs": [
    {
     "name": "stdout",
     "output_type": "stream",
     "text": [
      "Accuracy: 1.0, Time: 0.013114690780639648s\n"
     ]
    }
   ],
   "source": [
    "start = time.time()\n",
    "clf = KNeighborsClassifier(weights = 'distance')\n",
    "clf.fit(X_train, y_train)\n",
    "accuracy = clf.score(X_val, y_val)\n",
    "print(f\"Accuracy: {accuracy}, Time: {time.time()-start}s\")"
   ]
  },
  {
   "cell_type": "code",
   "execution_count": 148,
   "id": "71f71819",
   "metadata": {},
   "outputs": [
    {
     "name": "stdout",
     "output_type": "stream",
     "text": [
      "Accuracy: 1.0, Time: 0.020058393478393555s\n"
     ]
    }
   ],
   "source": [
    "start = time.time()\n",
    "clf = KNeighborsClassifier(algorithm = 'auto')\n",
    "clf.fit(X_train, y_train)\n",
    "accuracy = clf.score(X_val, y_val)\n",
    "print(f\"Accuracy: {accuracy}, Time: {time.time()-start}s\")"
   ]
  },
  {
   "cell_type": "markdown",
   "id": "8e4a5083",
   "metadata": {},
   "source": [
    "### Method 2: Decision Tree"
   ]
  },
  {
   "cell_type": "code",
   "execution_count": 149,
   "id": "2c6ef144",
   "metadata": {},
   "outputs": [
    {
     "name": "stdout",
     "output_type": "stream",
     "text": [
      "Accuracy: 0.9936708860759493, Time: 0.004625082015991211s\n"
     ]
    }
   ],
   "source": [
    "start = time.time()\n",
    "clf = DecisionTreeClassifier(criterion = 'entropy')\n",
    "clf.fit(X_train, y_train)\n",
    "accuracy = clf.score(X_val, y_val)\n",
    "print(f\"Accuracy: {accuracy}, Time: {time.time()-start}s\")"
   ]
  },
  {
   "cell_type": "code",
   "execution_count": 150,
   "id": "63853d19",
   "metadata": {},
   "outputs": [
    {
     "name": "stdout",
     "output_type": "stream",
     "text": [
      "Accuracy: 1.0, Time: 0.0077631473541259766s\n"
     ]
    }
   ],
   "source": [
    "start = time.time()\n",
    "clf = DecisionTreeClassifier(max_depth = 10)\n",
    "clf.fit(X_train, y_train)\n",
    "accuracy = clf.score(X_val, y_val)\n",
    "print(f\"Accuracy: {accuracy}, Time: {time.time()-start}s\")"
   ]
  },
  {
   "cell_type": "markdown",
   "id": "398b8af5",
   "metadata": {},
   "source": [
    "### Method 3: Random Forest"
   ]
  },
  {
   "cell_type": "code",
   "execution_count": 151,
   "id": "0f92bd3e",
   "metadata": {},
   "outputs": [
    {
     "name": "stdout",
     "output_type": "stream",
     "text": [
      "Accuracy: 1.0, Time: 0.20600318908691406s\n"
     ]
    }
   ],
   "source": [
    "start = time.time()\n",
    "clf = RandomForestClassifier(criterion = 'entropy', random_state=0)\n",
    "clf.fit(X_train, y_train)\n",
    "accuracy = clf.score(X_val, y_val)\n",
    "print(f\"Accuracy: {accuracy}, Time: {time.time()-start}s\")"
   ]
  },
  {
   "cell_type": "code",
   "execution_count": 152,
   "id": "6e353537",
   "metadata": {},
   "outputs": [
    {
     "name": "stdout",
     "output_type": "stream",
     "text": [
      "Accuracy: 1.0, Time: 0.18160748481750488s\n"
     ]
    }
   ],
   "source": [
    "start = time.time()\n",
    "clf = RandomForestClassifier(max_depth = 6, random_state=0)\n",
    "clf.fit(X_train, y_train)\n",
    "accuracy = clf.score(X_val, y_val)\n",
    "print(f\"Accuracy: {accuracy}, Time: {time.time()-start}s\")"
   ]
  },
  {
   "cell_type": "code",
   "execution_count": 153,
   "id": "522c1364",
   "metadata": {},
   "outputs": [
    {
     "name": "stdout",
     "output_type": "stream",
     "text": [
      "Accuracy: 1.0, Time: 0.0580296516418457s\n"
     ]
    }
   ],
   "source": [
    "start = time.time()\n",
    "clf = RandomForestClassifier(n_estimators = 15, random_state=0)\n",
    "clf.fit(X_train, y_train)\n",
    "accuracy = clf.score(X_val, y_val)\n",
    "print(f\"Accuracy: {accuracy}, Time: {time.time()-start}s\")"
   ]
  },
  {
   "cell_type": "markdown",
   "id": "8ad6c1eb",
   "metadata": {},
   "source": [
    "### Method 4: Support Vector Machine"
   ]
  },
  {
   "cell_type": "code",
   "execution_count": 154,
   "id": "a0b8b9ce",
   "metadata": {},
   "outputs": [
    {
     "name": "stdout",
     "output_type": "stream",
     "text": [
      "Accuracy: 1.0, Time: 0.015810728073120117s\n"
     ]
    }
   ],
   "source": [
    "start = time.time()\n",
    "clf = SVC(kernel = 'poly')\n",
    "clf.fit(X_train, y_train)\n",
    "accuracy = clf.score(X_val, y_val)\n",
    "print(f\"Accuracy: {accuracy}, Time: {time.time()-start}s\")"
   ]
  },
  {
   "cell_type": "code",
   "execution_count": 155,
   "id": "5ffc234a",
   "metadata": {},
   "outputs": [
    {
     "name": "stdout",
     "output_type": "stream",
     "text": [
      "Accuracy: 1.0, Time: 0.018185853958129883s\n"
     ]
    }
   ],
   "source": [
    "start = time.time()\n",
    "clf = SVC(C = 0.6)\n",
    "clf.fit(X_train, y_train)\n",
    "accuracy = clf.score(X_val, y_val)\n",
    "print(f\"Accuracy: {accuracy}, Time: {time.time()-start}s\")"
   ]
  },
  {
   "cell_type": "markdown",
   "id": "86ac685e",
   "metadata": {},
   "source": [
    "## Feature extraction (PCA)"
   ]
  },
  {
   "cell_type": "code",
   "execution_count": 156,
   "id": "bff91002",
   "metadata": {},
   "outputs": [],
   "source": [
    "letter_recognition = pd.read_csv(\"letter-recognition.data\")\n",
    "letter_recognition = letter_recognition.values"
   ]
  },
  {
   "cell_type": "code",
   "execution_count": 157,
   "id": "42c2359d",
   "metadata": {},
   "outputs": [],
   "source": [
    "M = letter_recognition[np.where(letter_recognition[:, 0] == 'M')]\n",
    "Y = letter_recognition[np.where(letter_recognition[:, 0] == 'Y')]\n",
    "Pair_2 = np.concatenate((M,Y))\n",
    "X, y = Pair_2[:,1:], Pair_2[:,0]"
   ]
  },
  {
   "cell_type": "code",
   "execution_count": 158,
   "id": "15ad7e11",
   "metadata": {},
   "outputs": [],
   "source": [
    "pca = PCA(n_components=4)\n",
    "X_pca = pca.fit_transform(X)\n",
    "X_train, X_val, y_train, y_val = train_test_split(X_pca, y, test_size=0.1, random_state=0)"
   ]
  },
  {
   "cell_type": "markdown",
   "id": "83a8d269",
   "metadata": {},
   "source": [
    "### Method 1: KNN "
   ]
  },
  {
   "cell_type": "code",
   "execution_count": 159,
   "id": "ee956c38",
   "metadata": {},
   "outputs": [
    {
     "name": "stdout",
     "output_type": "stream",
     "text": [
      "Accuracy: 0.9620253164556962, Time: 0.012729883193969727s\n"
     ]
    }
   ],
   "source": [
    "start = time.time()\n",
    "clf = KNeighborsClassifier(n_neighbors = 5)\n",
    "clf.fit(X_train, y_train)\n",
    "accuracy = clf.score(X_val, y_val)\n",
    "print(f\"Accuracy: {accuracy}, Time: {time.time()-start}s\")"
   ]
  },
  {
   "cell_type": "code",
   "execution_count": 160,
   "id": "2ca9b744",
   "metadata": {},
   "outputs": [
    {
     "name": "stdout",
     "output_type": "stream",
     "text": [
      "Accuracy: 0.9620253164556962, Time: 0.009974956512451172s\n"
     ]
    }
   ],
   "source": [
    "start = time.time()\n",
    "clf = KNeighborsClassifier(weights = 'uniform')\n",
    "clf.fit(X_train, y_train)\n",
    "accuracy = clf.score(X_val, y_val)\n",
    "print(f\"Accuracy: {accuracy}, Time: {time.time()-start}s\")"
   ]
  },
  {
   "cell_type": "code",
   "execution_count": 161,
   "id": "efa59334",
   "metadata": {},
   "outputs": [
    {
     "name": "stdout",
     "output_type": "stream",
     "text": [
      "Accuracy: 0.9620253164556962, Time: 0.012001991271972656s\n"
     ]
    }
   ],
   "source": [
    "start = time.time()\n",
    "clf = KNeighborsClassifier(algorithm = 'auto')\n",
    "clf.fit(X_train, y_train)\n",
    "accuracy = clf.score(X_val, y_val)\n",
    "print(f\"Accuracy: {accuracy}, Time: {time.time()-start}s\")"
   ]
  },
  {
   "cell_type": "markdown",
   "id": "66a02872",
   "metadata": {},
   "source": [
    "### Method 2: Decision Tree"
   ]
  },
  {
   "cell_type": "code",
   "execution_count": 162,
   "id": "39ea5aa7",
   "metadata": {},
   "outputs": [
    {
     "name": "stdout",
     "output_type": "stream",
     "text": [
      "Accuracy: 0.9810126582278481, Time: 0.00899648666381836s\n"
     ]
    }
   ],
   "source": [
    "start = time.time()\n",
    "clf = DecisionTreeClassifier(criterion = 'entropy')\n",
    "clf.fit(X_train, y_train)\n",
    "accuracy = clf.score(X_val, y_val)\n",
    "print(f\"Accuracy: {accuracy}, Time: {time.time()-start}s\")"
   ]
  },
  {
   "cell_type": "code",
   "execution_count": 163,
   "id": "15e3563b",
   "metadata": {},
   "outputs": [
    {
     "name": "stdout",
     "output_type": "stream",
     "text": [
      "Accuracy: 0.9683544303797469, Time: 0.007601499557495117s\n"
     ]
    }
   ],
   "source": [
    "start = time.time()\n",
    "clf = DecisionTreeClassifier(max_depth = 15)\n",
    "clf.fit(X_train, y_train)\n",
    "accuracy = clf.score(X_val, y_val)\n",
    "print(f\"Accuracy: {accuracy}, Time: {time.time()-start}s\")"
   ]
  },
  {
   "cell_type": "markdown",
   "id": "de146756",
   "metadata": {},
   "source": [
    "### Method 3: Random Forest"
   ]
  },
  {
   "cell_type": "code",
   "execution_count": 164,
   "id": "d4e17a3d",
   "metadata": {},
   "outputs": [
    {
     "name": "stdout",
     "output_type": "stream",
     "text": [
      "Accuracy: 0.9810126582278481, Time: 0.2886688709259033s\n"
     ]
    }
   ],
   "source": [
    "start = time.time()\n",
    "clf = RandomForestClassifier(criterion = 'entropy', random_state=0)\n",
    "clf.fit(X_train, y_train)\n",
    "accuracy = clf.score(X_val, y_val)\n",
    "print(f\"Accuracy: {accuracy}, Time: {time.time()-start}s\")"
   ]
  },
  {
   "cell_type": "code",
   "execution_count": 165,
   "id": "465767eb",
   "metadata": {},
   "outputs": [
    {
     "name": "stdout",
     "output_type": "stream",
     "text": [
      "Accuracy: 0.9746835443037974, Time: 0.21904611587524414s\n"
     ]
    }
   ],
   "source": [
    "start = time.time()\n",
    "clf = RandomForestClassifier(max_depth = 8, random_state=0)\n",
    "clf.fit(X_train, y_train)\n",
    "accuracy = clf.score(X_val, y_val)\n",
    "print(f\"Accuracy: {accuracy}, Time: {time.time()-start}s\")"
   ]
  },
  {
   "cell_type": "code",
   "execution_count": 166,
   "id": "65060719",
   "metadata": {},
   "outputs": [
    {
     "name": "stdout",
     "output_type": "stream",
     "text": [
      "Accuracy: 0.9746835443037974, Time: 0.07282805442810059s\n"
     ]
    }
   ],
   "source": [
    "start = time.time()\n",
    "clf = RandomForestClassifier(n_estimators = 25, random_state=0)\n",
    "clf.fit(X_train, y_train)\n",
    "accuracy = clf.score(X_val, y_val)\n",
    "print(f\"Accuracy: {accuracy}, Time: {time.time()-start}s\")"
   ]
  },
  {
   "cell_type": "markdown",
   "id": "a6c5a175",
   "metadata": {},
   "source": [
    "### Method 4: Support Vector Machine"
   ]
  },
  {
   "cell_type": "code",
   "execution_count": 167,
   "id": "ede1fd60",
   "metadata": {},
   "outputs": [
    {
     "name": "stdout",
     "output_type": "stream",
     "text": [
      "Accuracy: 0.9746835443037974, Time: 0.0162656307220459s\n"
     ]
    }
   ],
   "source": [
    "start = time.time()\n",
    "clf = SVC(kernel = 'rbf')\n",
    "clf.fit(X_train, y_train)\n",
    "accuracy = clf.score(X_val, y_val)\n",
    "print(f\"Accuracy: {accuracy}, Time: {time.time()-start}s\")"
   ]
  },
  {
   "cell_type": "code",
   "execution_count": 168,
   "id": "25a999e9",
   "metadata": {},
   "outputs": [
    {
     "name": "stdout",
     "output_type": "stream",
     "text": [
      "Accuracy: 0.9746835443037974, Time: 0.018136978149414062s\n"
     ]
    }
   ],
   "source": [
    "start = time.time()\n",
    "clf = SVC(C = 0.4)\n",
    "clf.fit(X_train, y_train)\n",
    "accuracy = clf.score(X_val, y_val)\n",
    "print(f\"Accuracy: {accuracy}, Time: {time.time()-start}s\")"
   ]
  },
  {
   "cell_type": "markdown",
   "id": "c0c6fa69",
   "metadata": {},
   "source": [
    "## Pair 3: F and X"
   ]
  },
  {
   "cell_type": "markdown",
   "id": "cb75eb49",
   "metadata": {},
   "source": [
    "### Method 1: KNN "
   ]
  },
  {
   "cell_type": "code",
   "execution_count": 169,
   "id": "79b87196",
   "metadata": {},
   "outputs": [],
   "source": [
    "letter_recognition = pd.read_csv(\"letter-recognition.data\")\n",
    "letter_recognition = letter_recognition.values"
   ]
  },
  {
   "cell_type": "code",
   "execution_count": 170,
   "id": "eff7fcfa",
   "metadata": {},
   "outputs": [],
   "source": [
    "F = letter_recognition[np.where(letter_recognition[:, 0] == 'F')]\n",
    "X = letter_recognition[np.where(letter_recognition[:, 0] == 'X')]\n",
    "Pair_3 = np.concatenate((F,X))"
   ]
  },
  {
   "cell_type": "code",
   "execution_count": 171,
   "id": "4cd413cf",
   "metadata": {},
   "outputs": [],
   "source": [
    "X_train, X_val, y_train, y_val = train_test_split(Pair_3[:,1:], Pair_3[:,0], test_size=0.1, random_state=0)"
   ]
  },
  {
   "cell_type": "markdown",
   "id": "5f923360",
   "metadata": {},
   "source": [
    "### Method 1: KNN "
   ]
  },
  {
   "cell_type": "code",
   "execution_count": 172,
   "id": "8a2b365f",
   "metadata": {},
   "outputs": [
    {
     "name": "stdout",
     "output_type": "stream",
     "text": [
      "Accuracy: 1.0, Time: 0.0201723575592041s\n"
     ]
    }
   ],
   "source": [
    "start = time.time()\n",
    "clf = KNeighborsClassifier(n_neighbors = 1)\n",
    "clf.fit(X_train, y_train)\n",
    "accuracy = clf.score(X_val, y_val)\n",
    "print(f\"Accuracy: {accuracy}, Time: {time.time()-start}s\")"
   ]
  },
  {
   "cell_type": "code",
   "execution_count": 173,
   "id": "6f3aa429",
   "metadata": {},
   "outputs": [
    {
     "name": "stdout",
     "output_type": "stream",
     "text": [
      "Accuracy: 1.0, Time: 0.018998146057128906s\n"
     ]
    }
   ],
   "source": [
    "start = time.time()\n",
    "clf = KNeighborsClassifier(weights = 'uniform')\n",
    "clf.fit(X_train, y_train)\n",
    "accuracy = clf.score(X_val, y_val)\n",
    "print(f\"Accuracy: {accuracy}, Time: {time.time()-start}s\")"
   ]
  },
  {
   "cell_type": "code",
   "execution_count": 174,
   "id": "3fd231f6",
   "metadata": {},
   "outputs": [
    {
     "name": "stdout",
     "output_type": "stream",
     "text": [
      "Accuracy: 1.0, Time: 0.025595426559448242s\n"
     ]
    }
   ],
   "source": [
    "start = time.time()\n",
    "clf = KNeighborsClassifier(algorithm = 'auto')\n",
    "clf.fit(X_train, y_train)\n",
    "accuracy = clf.score(X_val, y_val)\n",
    "print(f\"Accuracy: {accuracy}, Time: {time.time()-start}s\")"
   ]
  },
  {
   "cell_type": "markdown",
   "id": "867066a3",
   "metadata": {},
   "source": [
    "### Method 2: Decision Tree"
   ]
  },
  {
   "cell_type": "code",
   "execution_count": 175,
   "id": "c7a260e4",
   "metadata": {},
   "outputs": [
    {
     "name": "stdout",
     "output_type": "stream",
     "text": [
      "Accuracy: 0.9936305732484076, Time: 0.0076444149017333984s\n"
     ]
    }
   ],
   "source": [
    "start = time.time()\n",
    "clf = DecisionTreeClassifier(criterion = 'entropy')\n",
    "clf.fit(X_train, y_train)\n",
    "accuracy = clf.score(X_val, y_val)\n",
    "print(f\"Accuracy: {accuracy}, Time: {time.time()-start}s\")"
   ]
  },
  {
   "cell_type": "code",
   "execution_count": 176,
   "id": "9f52ba99",
   "metadata": {},
   "outputs": [
    {
     "name": "stdout",
     "output_type": "stream",
     "text": [
      "Accuracy: 0.9936305732484076, Time: 0.008086204528808594s\n"
     ]
    }
   ],
   "source": [
    "start = time.time()\n",
    "clf = DecisionTreeClassifier(max_depth = 10)\n",
    "clf.fit(X_train, y_train)\n",
    "accuracy = clf.score(X_val, y_val)\n",
    "print(f\"Accuracy: {accuracy}, Time: {time.time()-start}s\")"
   ]
  },
  {
   "cell_type": "markdown",
   "id": "ab9e52c2",
   "metadata": {},
   "source": [
    "### Method 3: Random Forest"
   ]
  },
  {
   "cell_type": "code",
   "execution_count": 177,
   "id": "5479701c",
   "metadata": {},
   "outputs": [
    {
     "name": "stdout",
     "output_type": "stream",
     "text": [
      "Accuracy: 1.0, Time: 0.21799874305725098s\n"
     ]
    }
   ],
   "source": [
    "start = time.time()\n",
    "clf = RandomForestClassifier(criterion = 'gini', random_state=0)\n",
    "clf.fit(X_train, y_train)\n",
    "accuracy = clf.score(X_val, y_val)\n",
    "print(f\"Accuracy: {accuracy}, Time: {time.time()-start}s\")"
   ]
  },
  {
   "cell_type": "code",
   "execution_count": 178,
   "id": "85327377",
   "metadata": {},
   "outputs": [
    {
     "name": "stdout",
     "output_type": "stream",
     "text": [
      "Accuracy: 1.0, Time: 0.19351696968078613s\n"
     ]
    }
   ],
   "source": [
    "start = time.time()\n",
    "clf = RandomForestClassifier(max_depth = 10, random_state=0)\n",
    "clf.fit(X_train, y_train)\n",
    "accuracy = clf.score(X_val, y_val)\n",
    "print(f\"Accuracy: {accuracy}, Time: {time.time()-start}s\")"
   ]
  },
  {
   "cell_type": "code",
   "execution_count": 179,
   "id": "ae7bea55",
   "metadata": {},
   "outputs": [
    {
     "name": "stdout",
     "output_type": "stream",
     "text": [
      "Accuracy: 1.0, Time: 0.027584314346313477s\n"
     ]
    }
   ],
   "source": [
    "start = time.time()\n",
    "clf = RandomForestClassifier(n_estimators = 10, random_state=0)\n",
    "clf.fit(X_train, y_train)\n",
    "accuracy = clf.score(X_val, y_val)\n",
    "print(f\"Accuracy: {accuracy}, Time: {time.time()-start}s\")"
   ]
  },
  {
   "cell_type": "markdown",
   "id": "ec6ef415",
   "metadata": {},
   "source": [
    "### Method 4: Support Vector Machine"
   ]
  },
  {
   "cell_type": "code",
   "execution_count": 180,
   "id": "5cae35f8",
   "metadata": {},
   "outputs": [
    {
     "name": "stdout",
     "output_type": "stream",
     "text": [
      "Accuracy: 1.0, Time: 0.020673513412475586s\n"
     ]
    }
   ],
   "source": [
    "start = time.time()\n",
    "clf = SVC(kernel = 'poly')\n",
    "clf.fit(X_train, y_train)\n",
    "accuracy = clf.score(X_val, y_val)\n",
    "print(f\"Accuracy: {accuracy}, Time: {time.time()-start}s\")"
   ]
  },
  {
   "cell_type": "code",
   "execution_count": 181,
   "id": "fee3356a",
   "metadata": {},
   "outputs": [
    {
     "name": "stdout",
     "output_type": "stream",
     "text": [
      "Accuracy: 1.0, Time: 0.024266481399536133s\n"
     ]
    }
   ],
   "source": [
    "start = time.time()\n",
    "clf = SVC(C = 1.4)\n",
    "clf.fit(X_train, y_train)\n",
    "accuracy = clf.score(X_val, y_val)\n",
    "print(f\"Accuracy: {accuracy}, Time: {time.time()-start}s\")"
   ]
  },
  {
   "cell_type": "markdown",
   "id": "b20989ae",
   "metadata": {},
   "source": [
    "## Feature extraction (PCA)"
   ]
  },
  {
   "cell_type": "code",
   "execution_count": 182,
   "id": "b0a7d2b6",
   "metadata": {},
   "outputs": [],
   "source": [
    "letter_recognition = pd.read_csv(\"letter-recognition.data\")\n",
    "letter_recognition = letter_recognition.values"
   ]
  },
  {
   "cell_type": "code",
   "execution_count": 183,
   "id": "95122b87",
   "metadata": {},
   "outputs": [],
   "source": [
    "F = letter_recognition[np.where(letter_recognition[:, 0] == 'F')]\n",
    "X = letter_recognition[np.where(letter_recognition[:, 0] == 'X')]\n",
    "Pair_3 = np.concatenate((F,X))\n",
    "X, y = Pair_3[:,1:], Pair_3[:,0]"
   ]
  },
  {
   "cell_type": "code",
   "execution_count": 184,
   "id": "af1aa1e7",
   "metadata": {},
   "outputs": [],
   "source": [
    "pca = PCA(n_components=4)\n",
    "X_pca = pca.fit_transform(X)\n",
    "X_train, X_val, y_train, y_val = train_test_split(X_pca, y, test_size=0.1, random_state=0)"
   ]
  },
  {
   "cell_type": "markdown",
   "id": "276b4daa",
   "metadata": {},
   "source": [
    "### Method 1: KNN "
   ]
  },
  {
   "cell_type": "code",
   "execution_count": 185,
   "id": "2dd96659",
   "metadata": {},
   "outputs": [
    {
     "name": "stdout",
     "output_type": "stream",
     "text": [
      "Accuracy: 0.9808917197452229, Time: 0.014003515243530273s\n"
     ]
    }
   ],
   "source": [
    "start = time.time()\n",
    "clf = KNeighborsClassifier(n_neighbors = 1)\n",
    "clf.fit(X_train, y_train)\n",
    "accuracy = clf.score(X_val, y_val)\n",
    "print(f\"Accuracy: {accuracy}, Time: {time.time()-start}s\")"
   ]
  },
  {
   "cell_type": "code",
   "execution_count": 186,
   "id": "e1bc447f",
   "metadata": {},
   "outputs": [
    {
     "name": "stdout",
     "output_type": "stream",
     "text": [
      "Accuracy: 0.9808917197452229, Time: 0.00591731071472168s\n"
     ]
    }
   ],
   "source": [
    "start = time.time()\n",
    "clf = KNeighborsClassifier(weights = 'distance')\n",
    "clf.fit(X_train, y_train)\n",
    "accuracy = clf.score(X_val, y_val)\n",
    "print(f\"Accuracy: {accuracy}, Time: {time.time()-start}s\")"
   ]
  },
  {
   "cell_type": "code",
   "execution_count": 187,
   "id": "7f2e2f83",
   "metadata": {},
   "outputs": [
    {
     "name": "stdout",
     "output_type": "stream",
     "text": [
      "Accuracy: 0.9808917197452229, Time: 0.011586666107177734s\n"
     ]
    }
   ],
   "source": [
    "start = time.time()\n",
    "clf = KNeighborsClassifier(algorithm = 'auto')\n",
    "clf.fit(X_train, y_train)\n",
    "accuracy = clf.score(X_val, y_val)\n",
    "print(f\"Accuracy: {accuracy}, Time: {time.time()-start}s\")"
   ]
  },
  {
   "cell_type": "markdown",
   "id": "1a48d9f4",
   "metadata": {},
   "source": [
    "### Method 2: Decision Tree"
   ]
  },
  {
   "cell_type": "code",
   "execution_count": 188,
   "id": "ddb3cdf9",
   "metadata": {},
   "outputs": [
    {
     "name": "stdout",
     "output_type": "stream",
     "text": [
      "Accuracy: 0.9617834394904459, Time: 0.009188175201416016s\n"
     ]
    }
   ],
   "source": [
    "start = time.time()\n",
    "clf = DecisionTreeClassifier(criterion = 'entropy')\n",
    "clf.fit(X_train, y_train)\n",
    "accuracy = clf.score(X_val, y_val)\n",
    "print(f\"Accuracy: {accuracy}, Time: {time.time()-start}s\")"
   ]
  },
  {
   "cell_type": "code",
   "execution_count": 189,
   "id": "428533ed",
   "metadata": {},
   "outputs": [
    {
     "name": "stdout",
     "output_type": "stream",
     "text": [
      "Accuracy: 0.9681528662420382, Time: 0.007165431976318359s\n"
     ]
    }
   ],
   "source": [
    "start = time.time()\n",
    "clf = DecisionTreeClassifier(max_depth = 20)\n",
    "clf.fit(X_train, y_train)\n",
    "accuracy = clf.score(X_val, y_val)\n",
    "print(f\"Accuracy: {accuracy}, Time: {time.time()-start}s\")"
   ]
  },
  {
   "cell_type": "markdown",
   "id": "53821df8",
   "metadata": {},
   "source": [
    "### Method 3: Random Forest "
   ]
  },
  {
   "cell_type": "code",
   "execution_count": 190,
   "id": "a724c6b8",
   "metadata": {},
   "outputs": [
    {
     "name": "stdout",
     "output_type": "stream",
     "text": [
      "Accuracy: 0.9681528662420382, Time: 0.26651763916015625s\n"
     ]
    }
   ],
   "source": [
    "start = time.time()\n",
    "clf = RandomForestClassifier(criterion = 'entropy', random_state=0)\n",
    "clf.fit(X_train, y_train)\n",
    "accuracy = clf.score(X_val, y_val)\n",
    "print(f\"Accuracy: {accuracy}, Time: {time.time()-start}s\")"
   ]
  },
  {
   "cell_type": "code",
   "execution_count": 191,
   "id": "c8dc14a0",
   "metadata": {},
   "outputs": [
    {
     "name": "stdout",
     "output_type": "stream",
     "text": [
      "Accuracy: 0.9681528662420382, Time: 0.2544827461242676s\n"
     ]
    }
   ],
   "source": [
    "start = time.time()\n",
    "clf = RandomForestClassifier(max_depth = 10, random_state=0)\n",
    "clf.fit(X_train, y_train)\n",
    "accuracy = clf.score(X_val, y_val)\n",
    "print(f\"Accuracy: {accuracy}, Time: {time.time()-start}s\")"
   ]
  },
  {
   "cell_type": "code",
   "execution_count": 192,
   "id": "4646f24e",
   "metadata": {},
   "outputs": [
    {
     "name": "stdout",
     "output_type": "stream",
     "text": [
      "Accuracy: 0.9745222929936306, Time: 0.03109145164489746s\n"
     ]
    }
   ],
   "source": [
    "start = time.time()\n",
    "clf = RandomForestClassifier(n_estimators = 10, random_state=0)\n",
    "clf.fit(X_train, y_train)\n",
    "accuracy = clf.score(X_val, y_val)\n",
    "print(f\"Accuracy: {accuracy}, Time: {time.time()-start}s\")"
   ]
  },
  {
   "cell_type": "markdown",
   "id": "ce65bb9c",
   "metadata": {},
   "source": [
    "### Method 4: Support Vector Machine"
   ]
  },
  {
   "cell_type": "code",
   "execution_count": 193,
   "id": "34a9771b",
   "metadata": {},
   "outputs": [
    {
     "name": "stdout",
     "output_type": "stream",
     "text": [
      "Accuracy: 0.9808917197452229, Time: 0.025997638702392578s\n"
     ]
    }
   ],
   "source": [
    "start = time.time()\n",
    "clf = SVC(kernel = 'rbf')\n",
    "clf.fit(X_train, y_train)\n",
    "accuracy = clf.score(X_val, y_val)\n",
    "print(f\"Accuracy: {accuracy}, Time: {time.time()-start}s\")"
   ]
  },
  {
   "cell_type": "code",
   "execution_count": 194,
   "id": "9ceb3ee8",
   "metadata": {},
   "outputs": [
    {
     "name": "stdout",
     "output_type": "stream",
     "text": [
      "Accuracy: 0.9808917197452229, Time: 0.02599954605102539s\n"
     ]
    }
   ],
   "source": [
    "start = time.time()\n",
    "clf = SVC(C = 1.0)\n",
    "clf.fit(X_train, y_train)\n",
    "accuracy = clf.score(X_val, y_val)\n",
    "print(f\"Accuracy: {accuracy}, Time: {time.time()-start}s\")"
   ]
  },
  {
   "cell_type": "code",
   "execution_count": null,
   "id": "de69b0f3",
   "metadata": {},
   "outputs": [],
   "source": []
  },
  {
   "cell_type": "markdown",
   "id": "5fd61d49",
   "metadata": {},
   "source": [
    "# Multi-class classification"
   ]
  },
  {
   "cell_type": "markdown",
   "id": "b561a64c",
   "metadata": {},
   "source": [
    "### Method: KNN "
   ]
  },
  {
   "cell_type": "code",
   "execution_count": 195,
   "id": "9ed5a899",
   "metadata": {},
   "outputs": [],
   "source": [
    "letter_recognition = pd.read_csv(\"letter-recognition.data\")\n",
    "letter_recognition = letter_recognition.values"
   ]
  },
  {
   "cell_type": "code",
   "execution_count": 196,
   "id": "54b745b3",
   "metadata": {},
   "outputs": [],
   "source": [
    "H = letter_recognition[np.where(letter_recognition[:, 0] == 'H')]\n",
    "K = letter_recognition[np.where(letter_recognition[:, 0] == 'K')]\n",
    "M = letter_recognition[np.where(letter_recognition[:, 0] == 'M')]\n",
    "Y = letter_recognition[np.where(letter_recognition[:, 0] == 'Y')]\n",
    "F = letter_recognition[np.where(letter_recognition[:, 0] == 'F')]\n",
    "X = letter_recognition[np.where(letter_recognition[:, 0] == 'X')]\n",
    "Multi_class = np.concatenate((H,K,M,Y,F,X))"
   ]
  },
  {
   "cell_type": "code",
   "execution_count": 197,
   "id": "27edaec8",
   "metadata": {},
   "outputs": [],
   "source": [
    "X_train, X_val, y_train, y_val = train_test_split(Multi_class[:,1:], Multi_class[:,0], test_size=0.1, random_state=0)"
   ]
  },
  {
   "cell_type": "code",
   "execution_count": 198,
   "id": "0e814b17",
   "metadata": {},
   "outputs": [
    {
     "name": "stdout",
     "output_type": "stream",
     "text": [
      "Accuracy: 0.9783549783549783, Time: 0.06028485298156738s\n"
     ]
    }
   ],
   "source": [
    "start = time.time()\n",
    "clf = KNeighborsClassifier(n_neighbors = 1)\n",
    "clf.fit(X_train, y_train)\n",
    "accuracy = clf.score(X_val, y_val)\n",
    "print(f\"Accuracy: {accuracy}, Time: {time.time()-start}s\")"
   ]
  },
  {
   "cell_type": "code",
   "execution_count": 199,
   "id": "2743d57b",
   "metadata": {},
   "outputs": [
    {
     "name": "stdout",
     "output_type": "stream",
     "text": [
      "Accuracy: 0.974025974025974, Time: 0.06072115898132324s\n"
     ]
    }
   ],
   "source": [
    "start = time.time()\n",
    "clf = KNeighborsClassifier(weights = 'distance')\n",
    "clf.fit(X_train, y_train)\n",
    "accuracy = clf.score(X_val, y_val)\n",
    "print(f\"Accuracy: {accuracy}, Time: {time.time()-start}s\")"
   ]
  },
  {
   "cell_type": "code",
   "execution_count": 200,
   "id": "853273fa",
   "metadata": {},
   "outputs": [
    {
     "name": "stdout",
     "output_type": "stream",
     "text": [
      "Accuracy: 0.974025974025974, Time: 0.0809926986694336s\n"
     ]
    }
   ],
   "source": [
    "start = time.time()\n",
    "clf = KNeighborsClassifier(algorithm = 'auto')\n",
    "clf.fit(X_train, y_train)\n",
    "accuracy = clf.score(X_val, y_val)\n",
    "print(f\"Accuracy: {accuracy}, Time: {time.time()-start}s\")"
   ]
  },
  {
   "cell_type": "markdown",
   "id": "58a198be",
   "metadata": {},
   "source": [
    "## Simple Quality filtering (Low Variance)"
   ]
  },
  {
   "cell_type": "code",
   "execution_count": 201,
   "id": "3d56eca5",
   "metadata": {},
   "outputs": [
    {
     "name": "stdout",
     "output_type": "stream",
     "text": [
      "[(1, 10.806142094033056), (7, 9.32589750180522), (12, 6.993124811783075), (10, 6.206387503401237), (4, 5.711127068323864), (14, 5.392168826045954), (3, 5.278014411518096), (8, 4.892841952036721), (9, 4.846096707866284), (2, 4.621054122788687), (5, 4.369022891042683), (6, 3.977242497316194), (0, 3.7017193803121478), (13, 3.2569238075467464), (11, 3.093783626193684), (15, 2.738035219604702)]\n"
     ]
    }
   ],
   "source": [
    "variance_feature_16 = {}\n",
    "for i in range(16):\n",
    "    variance_feature_16.update({i: np.var(X_train[:,i])})\n",
    "variance_feature_16 = sorted(variance_feature_16.items(), key=lambda x: x[1], reverse=True)\n",
    "print(variance_feature_16)"
   ]
  },
  {
   "cell_type": "code",
   "execution_count": 202,
   "id": "4cadc1f6",
   "metadata": {},
   "outputs": [
    {
     "name": "stdout",
     "output_type": "stream",
     "text": [
      "(4151, 4)\n"
     ]
    }
   ],
   "source": [
    "X_train_lv_1 = X_train[:,1]\n",
    "X_train_lv_7 = X_train[:,7]\n",
    "X_train_lv_12 = X_train[:,12]\n",
    "X_train_lv_10 = X_train[:,10]\n",
    "X_train_lv = np.c_[X_train_lv_1,X_train_lv_7,X_train_lv_12,X_train_lv_10]\n",
    "print(X_train_lv.shape)"
   ]
  },
  {
   "cell_type": "code",
   "execution_count": 203,
   "id": "4a705ad1",
   "metadata": {},
   "outputs": [
    {
     "name": "stdout",
     "output_type": "stream",
     "text": [
      "Accuracy: 0.9805194805194806, Time: 0.06601953506469727s\n"
     ]
    }
   ],
   "source": [
    "start = time.time()\n",
    "clf = KNeighborsClassifier(n_neighbors = 3)\n",
    "clf.fit(X_train, y_train)\n",
    "accuracy = clf.score(X_val, y_val)\n",
    "print(f\"Accuracy: {accuracy}, Time: {time.time()-start}s\")"
   ]
  },
  {
   "cell_type": "code",
   "execution_count": 204,
   "id": "8889930e",
   "metadata": {},
   "outputs": [
    {
     "name": "stdout",
     "output_type": "stream",
     "text": [
      "Accuracy: 0.974025974025974, Time: 0.05411648750305176s\n"
     ]
    }
   ],
   "source": [
    "start = time.time()\n",
    "clf = KNeighborsClassifier(weights = 'distance')\n",
    "clf.fit(X_train, y_train)\n",
    "accuracy = clf.score(X_val, y_val)\n",
    "print(f\"Accuracy: {accuracy}, Time: {time.time()-start}s\")"
   ]
  },
  {
   "cell_type": "code",
   "execution_count": 205,
   "id": "c00cabfe",
   "metadata": {},
   "outputs": [
    {
     "name": "stdout",
     "output_type": "stream",
     "text": [
      "Accuracy: 0.9718614718614719, Time: 0.06795239448547363s\n"
     ]
    }
   ],
   "source": [
    "start = time.time()\n",
    "clf = KNeighborsClassifier(algorithm = 'ball_tree')\n",
    "clf.fit(X_train, y_train)\n",
    "accuracy = clf.score(X_val, y_val)\n",
    "print(f\"Accuracy: {accuracy}, Time: {time.time()-start}s\")"
   ]
  },
  {
   "cell_type": "code",
   "execution_count": null,
   "id": "6be88295",
   "metadata": {},
   "outputs": [],
   "source": []
  }
 ],
 "metadata": {
  "kernelspec": {
   "display_name": "Python 3 (ipykernel)",
   "language": "python",
   "name": "python3"
  },
  "language_info": {
   "codemirror_mode": {
    "name": "ipython",
    "version": 3
   },
   "file_extension": ".py",
   "mimetype": "text/x-python",
   "name": "python",
   "nbconvert_exporter": "python",
   "pygments_lexer": "ipython3",
   "version": "3.9.12"
  }
 },
 "nbformat": 4,
 "nbformat_minor": 5
}
